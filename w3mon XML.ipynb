{
 "cells": [
  {
   "cell_type": "code",
   "execution_count": 253,
   "metadata": {},
   "outputs": [],
   "source": [
    "import urllib.request"
   ]
  },
  {
   "cell_type": "code",
   "execution_count": 254,
   "metadata": {},
   "outputs": [],
   "source": [
    "from urllib import parse"
   ]
  },
  {
   "cell_type": "code",
   "execution_count": 255,
   "metadata": {},
   "outputs": [],
   "source": [
    "from lxml import etree"
   ]
  },
  {
   "cell_type": "code",
   "execution_count": 256,
   "metadata": {},
   "outputs": [],
   "source": [
    "url = \"http://openapi.airkorea.or.kr/openapi/services/rest/ArpltnInforInqireSvc/getMsrstnAcctoRltmMesureDnsty\""
   ]
  },
  {
   "cell_type": "code",
   "execution_count": 257,
   "metadata": {},
   "outputs": [],
   "source": [
    "params = {\n",
    "    'serviceKey' : 'sjc4mmX%2FYsEie54QsVIEZVrWfkgaO44OWimEARmGFWWCr0a8%2BtyL8fJnF2PcTc5FWEV5ayrD1lG%2B4UA7r8SbzQ%3D%3D',\n",
    "    'numOfRows' : 10,\n",
    "    'pageSize' : 10,\n",
    "    'startPage' : 1,\n",
    "    'stationName' : None,\n",
    "    'dataTerm' : 'DAILY',\n",
    "    'ver' : '1.3',\n",
    "    \n",
    "}"
   ]
  },
  {
   "cell_type": "code",
   "execution_count": 258,
   "metadata": {},
   "outputs": [
    {
     "data": {
      "text/plain": [
       "{'serviceKey': 'sjc4mmX%2FYsEie54QsVIEZVrWfkgaO44OWimEARmGFWWCr0a8%2BtyL8fJnF2PcTc5FWEV5ayrD1lG%2B4UA7r8SbzQ%3D%3D',\n",
       " 'numOfRows': 10,\n",
       " 'pageSize': 10,\n",
       " 'startPage': 1,\n",
       " 'stationName': None,\n",
       " 'dataTerm': 'DAILY',\n",
       " 'ver': '1.3'}"
      ]
     },
     "execution_count": 258,
     "metadata": {},
     "output_type": "execute_result"
    }
   ],
   "source": [
    "params"
   ]
  },
  {
   "cell_type": "markdown",
   "metadata": {},
   "source": [
    "공공데이터에서 보내주는 servicekey는 byte이다."
   ]
  },
  {
   "cell_type": "code",
   "execution_count": 259,
   "metadata": {},
   "outputs": [],
   "source": [
    "params['serviceKey'] = parse.unquote(params['serviceKey']) #스트링으로 변환"
   ]
  },
  {
   "cell_type": "code",
   "execution_count": 260,
   "metadata": {},
   "outputs": [
    {
     "data": {
      "text/plain": [
       "{'serviceKey': 'sjc4mmX/YsEie54QsVIEZVrWfkgaO44OWimEARmGFWWCr0a8+tyL8fJnF2PcTc5FWEV5ayrD1lG+4UA7r8SbzQ==',\n",
       " 'numOfRows': 10,\n",
       " 'pageSize': 10,\n",
       " 'startPage': 1,\n",
       " 'stationName': None,\n",
       " 'dataTerm': 'DAILY',\n",
       " 'ver': '1.3'}"
      ]
     },
     "execution_count": 260,
     "metadata": {},
     "output_type": "execute_result"
    }
   ],
   "source": [
    "params"
   ]
  },
  {
   "cell_type": "code",
   "execution_count": 261,
   "metadata": {},
   "outputs": [
    {
     "data": {
      "text/plain": [
       "str"
      ]
     },
     "execution_count": 261,
     "metadata": {},
     "output_type": "execute_result"
    }
   ],
   "source": [
    "type(params['serviceKey'])"
   ]
  },
  {
   "cell_type": "code",
   "execution_count": 262,
   "metadata": {},
   "outputs": [],
   "source": [
    "#원본 키값과는 다르다."
   ]
  },
  {
   "cell_type": "code",
   "execution_count": 263,
   "metadata": {},
   "outputs": [],
   "source": [
    "params['stationName'] = '종로구'"
   ]
  },
  {
   "cell_type": "code",
   "execution_count": 264,
   "metadata": {},
   "outputs": [
    {
     "data": {
      "text/plain": [
       "'종로구'"
      ]
     },
     "execution_count": 264,
     "metadata": {},
     "output_type": "execute_result"
    }
   ],
   "source": [
    "params['stationName']"
   ]
  },
  {
   "cell_type": "code",
   "execution_count": 265,
   "metadata": {},
   "outputs": [],
   "source": [
    "params = parse.urlencode(params)"
   ]
  },
  {
   "cell_type": "code",
   "execution_count": 266,
   "metadata": {},
   "outputs": [],
   "source": [
    "#주소값으로 인코드"
   ]
  },
  {
   "cell_type": "code",
   "execution_count": 267,
   "metadata": {},
   "outputs": [
    {
     "data": {
      "text/plain": [
       "'serviceKey=sjc4mmX%2FYsEie54QsVIEZVrWfkgaO44OWimEARmGFWWCr0a8%2BtyL8fJnF2PcTc5FWEV5ayrD1lG%2B4UA7r8SbzQ%3D%3D&numOfRows=10&pageSize=10&startPage=1&stationName=%EC%A2%85%EB%A1%9C%EA%B5%AC&dataTerm=DAILY&ver=1.3'"
      ]
     },
     "execution_count": 267,
     "metadata": {},
     "output_type": "execute_result"
    }
   ],
   "source": [
    "params"
   ]
  },
  {
   "cell_type": "code",
   "execution_count": 288,
   "metadata": {},
   "outputs": [
    {
     "data": {
      "text/plain": [
       "True"
      ]
     },
     "execution_count": 288,
     "metadata": {},
     "output_type": "execute_result"
    }
   ],
   "source": [
    "'sjc4mmX%2FYsEie54QsVIEZVrWfkgaO44OWimEARmGFWWCr0a8%2BtyL8fJnF2PcTc5FWEV5ayrD1lG%2B4UA7r8SbzQ%3D%3D' == 'sjc4mmX%2FYsEie54QsVIEZVrWfkgaO44OWimEARmGFWWCr0a8%2BtyL8fJnF2PcTc5FWEV5ayrD1lG%2B4UA7r8SbzQ%3D%3D'"
   ]
  },
  {
   "cell_type": "code",
   "execution_count": 269,
   "metadata": {},
   "outputs": [
    {
     "data": {
      "text/plain": [
       "str"
      ]
     },
     "execution_count": 269,
     "metadata": {},
     "output_type": "execute_result"
    }
   ],
   "source": [
    "type(params)"
   ]
  },
  {
   "cell_type": "code",
   "execution_count": 270,
   "metadata": {},
   "outputs": [],
   "source": [
    "params = params.encode('utf-8')"
   ]
  },
  {
   "cell_type": "code",
   "execution_count": 271,
   "metadata": {},
   "outputs": [
    {
     "data": {
      "text/plain": [
       "bytes"
      ]
     },
     "execution_count": 271,
     "metadata": {},
     "output_type": "execute_result"
    }
   ],
   "source": [
    "type(params)"
   ]
  },
  {
   "cell_type": "code",
   "execution_count": 272,
   "metadata": {},
   "outputs": [],
   "source": [
    "req = urllib.request.Request(url, data = params)"
   ]
  },
  {
   "cell_type": "code",
   "execution_count": 291,
   "metadata": {},
   "outputs": [
    {
     "data": {
      "text/plain": [
       "b'serviceKey=sjc4mmX%2FYsEie54QsVIEZVrWfkgaO44OWimEARmGFWWCr0a8%2BtyL8fJnF2PcTc5FWEV5ayrD1lG%2B4UA7r8SbzQ%3D%3D&numOfRows=10&pageSize=10&startPage=1&stationName=%EC%A2%85%EB%A1%9C%EA%B5%AC&dataTerm=DAILY&ver=1.3'"
      ]
     },
     "execution_count": 291,
     "metadata": {},
     "output_type": "execute_result"
    }
   ],
   "source": [
    "req.data"
   ]
  },
  {
   "cell_type": "code",
   "execution_count": 292,
   "metadata": {},
   "outputs": [
    {
     "data": {
      "text/plain": [
       "<urllib.request.Request at 0x22d1b04d128>"
      ]
     },
     "execution_count": 292,
     "metadata": {},
     "output_type": "execute_result"
    }
   ],
   "source": [
    "req"
   ]
  },
  {
   "cell_type": "code",
   "execution_count": 273,
   "metadata": {},
   "outputs": [],
   "source": [
    "res = urllib.request.urlopen(req)"
   ]
  },
  {
   "cell_type": "code",
   "execution_count": 274,
   "metadata": {},
   "outputs": [
    {
     "data": {
      "text/plain": [
       "<http.client.HTTPResponse at 0x22d1aff46d8>"
      ]
     },
     "execution_count": 274,
     "metadata": {},
     "output_type": "execute_result"
    }
   ],
   "source": [
    "res"
   ]
  },
  {
   "cell_type": "code",
   "execution_count": 275,
   "metadata": {},
   "outputs": [],
   "source": [
    "resResult = res.read()"
   ]
  },
  {
   "cell_type": "code",
   "execution_count": 276,
   "metadata": {
    "scrolled": true
   },
   "outputs": [
    {
     "data": {
      "text/plain": [
       "b'<?xml version=\"1.0\" encoding=\"UTF-8\"?>\\r\\n\\r\\n\\r\\n\\r\\n\\r\\n<response>\\r\\n\\t<header>\\r\\n\\t\\t<resultCode>00</resultCode>\\r\\n\\t\\t<resultMsg>NORMAL SERVICE.</resultMsg>\\r\\n\\t</header>\\r\\n\\t<body>\\r\\n\\t\\t<items>\\r\\n\\t\\t\\t\\r\\n\\t\\t\\t\\t<item>\\r\\n\\t\\t\\t\\t\\t<dataTime>2018-07-16 10:00</dataTime>\\r\\n\\t\\t\\t\\t\\t\\r\\n                        <mangName>\\xeb\\x8f\\x84\\xec\\x8b\\x9c\\xeb\\x8c\\x80\\xea\\xb8\\xb0</mangName>\\r\\n                    \\r\\n\\t\\t\\t\\t\\t<so2Value>-</so2Value>\\r\\n\\t\\t\\t\\t\\t<coValue>0.4</coValue>\\r\\n\\t\\t\\t\\t\\t<o3Value>0.012</o3Value>\\r\\n\\t\\t\\t\\t\\t<no2Value>0.026</no2Value>\\r\\n\\t\\t\\t\\t\\t<pm10Value>20</pm10Value>\\r\\n\\t\\t\\t\\t\\t\\r\\n                        <pm10Value24>19</pm10Value24>\\r\\n                    \\r\\n\\t\\t\\t\\t\\t\\r\\n                        <pm25Value>14</pm25Value>\\r\\n                    \\r\\n                    \\r\\n                        <pm25Value24>14</pm25Value24>\\r\\n                    \\r\\n\\t\\t\\t\\t\\t<khaiValue>47</khaiValue>\\r\\n\\t\\t\\t\\t\\t<khaiGrade>1</khaiGrade>\\r\\n\\t\\t\\t\\t\\t<so2Grade></so2Grade>\\r\\n\\t\\t\\t\\t\\t<coGrade>1</coGrade>\\r\\n\\t\\t\\t\\t\\t<o3Grade>1</o3Grade>\\r\\n\\t\\t\\t\\t\\t<no2Grade>1</no2Grade>\\r\\n\\t\\t\\t\\t\\t<pm10Grade>1</pm10Grade>\\r\\n\\t\\t\\t\\t\\t\\r\\n                        <pm25Grade>1</pm25Grade>\\r\\n                    \\r\\n                    \\r\\n                        <pm10Grade1h>1</pm10Grade1h>\\r\\n                        <pm25Grade1h>1</pm25Grade1h>\\r\\n                    \\r\\n\\t\\t\\t\\t</item>\\r\\n\\t\\t\\t\\r\\n\\t\\t\\t\\t<item>\\r\\n\\t\\t\\t\\t\\t<dataTime>2018-07-16 09:00</dataTime>\\r\\n\\t\\t\\t\\t\\t\\r\\n                        <mangName>\\xeb\\x8f\\x84\\xec\\x8b\\x9c\\xeb\\x8c\\x80\\xea\\xb8\\xb0</mangName>\\r\\n                    \\r\\n\\t\\t\\t\\t\\t<so2Value>-</so2Value>\\r\\n\\t\\t\\t\\t\\t<coValue>0.4</coValue>\\r\\n\\t\\t\\t\\t\\t<o3Value>0.009</o3Value>\\r\\n\\t\\t\\t\\t\\t<no2Value>0.027</no2Value>\\r\\n\\t\\t\\t\\t\\t<pm10Value>23</pm10Value>\\r\\n\\t\\t\\t\\t\\t\\r\\n                        <pm10Value24>19</pm10Value24>\\r\\n                    \\r\\n\\t\\t\\t\\t\\t\\r\\n                        <pm25Value>16</pm25Value>\\r\\n                    \\r\\n                    \\r\\n                        <pm25Value24>14</pm25Value24>\\r\\n                    \\r\\n\\t\\t\\t\\t\\t<khaiValue>47</khaiValue>\\r\\n\\t\\t\\t\\t\\t<khaiGrade>1</khaiGrade>\\r\\n\\t\\t\\t\\t\\t<so2Grade></so2Grade>\\r\\n\\t\\t\\t\\t\\t<coGrade>1</coGrade>\\r\\n\\t\\t\\t\\t\\t<o3Grade>1</o3Grade>\\r\\n\\t\\t\\t\\t\\t<no2Grade>1</no2Grade>\\r\\n\\t\\t\\t\\t\\t<pm10Grade>1</pm10Grade>\\r\\n\\t\\t\\t\\t\\t\\r\\n                        <pm25Grade>1</pm25Grade>\\r\\n                    \\r\\n                    \\r\\n                        <pm10Grade1h>1</pm10Grade1h>\\r\\n                        <pm25Grade1h>2</pm25Grade1h>\\r\\n                    \\r\\n\\t\\t\\t\\t</item>\\r\\n\\t\\t\\t\\r\\n\\t\\t\\t\\t<item>\\r\\n\\t\\t\\t\\t\\t<dataTime>2018-07-16 08:00</dataTime>\\r\\n\\t\\t\\t\\t\\t\\r\\n                        <mangName>\\xeb\\x8f\\x84\\xec\\x8b\\x9c\\xeb\\x8c\\x80\\xea\\xb8\\xb0</mangName>\\r\\n                    \\r\\n\\t\\t\\t\\t\\t<so2Value>-</so2Value>\\r\\n\\t\\t\\t\\t\\t<coValue>0.4</coValue>\\r\\n\\t\\t\\t\\t\\t<o3Value>0.006</o3Value>\\r\\n\\t\\t\\t\\t\\t<no2Value>0.024</no2Value>\\r\\n\\t\\t\\t\\t\\t<pm10Value>17</pm10Value>\\r\\n\\t\\t\\t\\t\\t\\r\\n                        <pm10Value24>18</pm10Value24>\\r\\n                    \\r\\n\\t\\t\\t\\t\\t\\r\\n                        <pm25Value>12</pm25Value>\\r\\n                    \\r\\n                    \\r\\n                        <pm25Value24>14</pm25Value24>\\r\\n                    \\r\\n\\t\\t\\t\\t\\t<khaiValue>47</khaiValue>\\r\\n\\t\\t\\t\\t\\t<khaiGrade>1</khaiGrade>\\r\\n\\t\\t\\t\\t\\t<so2Grade></so2Grade>\\r\\n\\t\\t\\t\\t\\t<coGrade>1</coGrade>\\r\\n\\t\\t\\t\\t\\t<o3Grade>1</o3Grade>\\r\\n\\t\\t\\t\\t\\t<no2Grade>1</no2Grade>\\r\\n\\t\\t\\t\\t\\t<pm10Grade>1</pm10Grade>\\r\\n\\t\\t\\t\\t\\t\\r\\n                        <pm25Grade>1</pm25Grade>\\r\\n                    \\r\\n                    \\r\\n                        <pm10Grade1h>1</pm10Grade1h>\\r\\n                        <pm25Grade1h>1</pm25Grade1h>\\r\\n                    \\r\\n\\t\\t\\t\\t</item>\\r\\n\\t\\t\\t\\r\\n\\t\\t\\t\\t<item>\\r\\n\\t\\t\\t\\t\\t<dataTime>2018-07-16 07:00</dataTime>\\r\\n\\t\\t\\t\\t\\t\\r\\n                        <mangName>\\xeb\\x8f\\x84\\xec\\x8b\\x9c\\xeb\\x8c\\x80\\xea\\xb8\\xb0</mangName>\\r\\n                    \\r\\n\\t\\t\\t\\t\\t<so2Value>-</so2Value>\\r\\n\\t\\t\\t\\t\\t<coValue>0.4</coValue>\\r\\n\\t\\t\\t\\t\\t<o3Value>0.004</o3Value>\\r\\n\\t\\t\\t\\t\\t<no2Value>0.019</no2Value>\\r\\n\\t\\t\\t\\t\\t<pm10Value>19</pm10Value>\\r\\n\\t\\t\\t\\t\\t\\r\\n                        <pm10Value24>19</pm10Value24>\\r\\n                    \\r\\n\\t\\t\\t\\t\\t\\r\\n                        <pm25Value>14</pm25Value>\\r\\n                    \\r\\n                    \\r\\n                        <pm25Value24>15</pm25Value24>\\r\\n                    \\r\\n\\t\\t\\t\\t\\t<khaiValue>50</khaiValue>\\r\\n\\t\\t\\t\\t\\t<khaiGrade>1</khaiGrade>\\r\\n\\t\\t\\t\\t\\t<so2Grade></so2Grade>\\r\\n\\t\\t\\t\\t\\t<coGrade>1</coGrade>\\r\\n\\t\\t\\t\\t\\t<o3Grade>1</o3Grade>\\r\\n\\t\\t\\t\\t\\t<no2Grade>1</no2Grade>\\r\\n\\t\\t\\t\\t\\t<pm10Grade>1</pm10Grade>\\r\\n\\t\\t\\t\\t\\t\\r\\n                        <pm25Grade>1</pm25Grade>\\r\\n                    \\r\\n                    \\r\\n                        <pm10Grade1h>1</pm10Grade1h>\\r\\n                        <pm25Grade1h>1</pm25Grade1h>\\r\\n                    \\r\\n\\t\\t\\t\\t</item>\\r\\n\\t\\t\\t\\r\\n\\t\\t\\t\\t<item>\\r\\n\\t\\t\\t\\t\\t<dataTime>2018-07-16 06:00</dataTime>\\r\\n\\t\\t\\t\\t\\t\\r\\n                        <mangName>\\xeb\\x8f\\x84\\xec\\x8b\\x9c\\xeb\\x8c\\x80\\xea\\xb8\\xb0</mangName>\\r\\n                    \\r\\n\\t\\t\\t\\t\\t<so2Value>-</so2Value>\\r\\n\\t\\t\\t\\t\\t<coValue>0.3</coValue>\\r\\n\\t\\t\\t\\t\\t<o3Value>0.004</o3Value>\\r\\n\\t\\t\\t\\t\\t<no2Value>0.018</no2Value>\\r\\n\\t\\t\\t\\t\\t<pm10Value>17</pm10Value>\\r\\n\\t\\t\\t\\t\\t\\r\\n                        <pm10Value24>19</pm10Value24>\\r\\n                    \\r\\n\\t\\t\\t\\t\\t\\r\\n                        <pm25Value>14</pm25Value>\\r\\n                    \\r\\n                    \\r\\n                        <pm25Value24>16</pm25Value24>\\r\\n                    \\r\\n\\t\\t\\t\\t\\t<khaiValue>51</khaiValue>\\r\\n\\t\\t\\t\\t\\t<khaiGrade>2</khaiGrade>\\r\\n\\t\\t\\t\\t\\t<so2Grade></so2Grade>\\r\\n\\t\\t\\t\\t\\t<coGrade>1</coGrade>\\r\\n\\t\\t\\t\\t\\t<o3Grade>1</o3Grade>\\r\\n\\t\\t\\t\\t\\t<no2Grade>1</no2Grade>\\r\\n\\t\\t\\t\\t\\t<pm10Grade>1</pm10Grade>\\r\\n\\t\\t\\t\\t\\t\\r\\n                        <pm25Grade>2</pm25Grade>\\r\\n                    \\r\\n                    \\r\\n                        <pm10Grade1h>1</pm10Grade1h>\\r\\n                        <pm25Grade1h>1</pm25Grade1h>\\r\\n                    \\r\\n\\t\\t\\t\\t</item>\\r\\n\\t\\t\\t\\r\\n\\t\\t\\t\\t<item>\\r\\n\\t\\t\\t\\t\\t<dataTime>2018-07-16 05:00</dataTime>\\r\\n\\t\\t\\t\\t\\t\\r\\n                        <mangName>\\xeb\\x8f\\x84\\xec\\x8b\\x9c\\xeb\\x8c\\x80\\xea\\xb8\\xb0</mangName>\\r\\n                    \\r\\n\\t\\t\\t\\t\\t<so2Value>-</so2Value>\\r\\n\\t\\t\\t\\t\\t<coValue>0.3</coValue>\\r\\n\\t\\t\\t\\t\\t<o3Value>0.008</o3Value>\\r\\n\\t\\t\\t\\t\\t<no2Value>0.014</no2Value>\\r\\n\\t\\t\\t\\t\\t<pm10Value>18</pm10Value>\\r\\n\\t\\t\\t\\t\\t\\r\\n                        <pm10Value24>20</pm10Value24>\\r\\n                    \\r\\n\\t\\t\\t\\t\\t\\r\\n                        <pm25Value>15</pm25Value>\\r\\n                    \\r\\n                    \\r\\n                        <pm25Value24>16</pm25Value24>\\r\\n                    \\r\\n\\t\\t\\t\\t\\t<khaiValue>51</khaiValue>\\r\\n\\t\\t\\t\\t\\t<khaiGrade>2</khaiGrade>\\r\\n\\t\\t\\t\\t\\t<so2Grade></so2Grade>\\r\\n\\t\\t\\t\\t\\t<coGrade>1</coGrade>\\r\\n\\t\\t\\t\\t\\t<o3Grade>1</o3Grade>\\r\\n\\t\\t\\t\\t\\t<no2Grade>1</no2Grade>\\r\\n\\t\\t\\t\\t\\t<pm10Grade>1</pm10Grade>\\r\\n\\t\\t\\t\\t\\t\\r\\n                        <pm25Grade>2</pm25Grade>\\r\\n                    \\r\\n                    \\r\\n                        <pm10Grade1h>1</pm10Grade1h>\\r\\n                        <pm25Grade1h>1</pm25Grade1h>\\r\\n                    \\r\\n\\t\\t\\t\\t</item>\\r\\n\\t\\t\\t\\r\\n\\t\\t\\t\\t<item>\\r\\n\\t\\t\\t\\t\\t<dataTime>2018-07-16 04:00</dataTime>\\r\\n\\t\\t\\t\\t\\t\\r\\n                        <mangName>\\xeb\\x8f\\x84\\xec\\x8b\\x9c\\xeb\\x8c\\x80\\xea\\xb8\\xb0</mangName>\\r\\n                    \\r\\n\\t\\t\\t\\t\\t<so2Value>-</so2Value>\\r\\n\\t\\t\\t\\t\\t<coValue>0.3</coValue>\\r\\n\\t\\t\\t\\t\\t<o3Value>0.011</o3Value>\\r\\n\\t\\t\\t\\t\\t<no2Value>0.011</no2Value>\\r\\n\\t\\t\\t\\t\\t<pm10Value>18</pm10Value>\\r\\n\\t\\t\\t\\t\\t\\r\\n                        <pm10Value24>21</pm10Value24>\\r\\n                    \\r\\n\\t\\t\\t\\t\\t\\r\\n                        <pm25Value>15</pm25Value>\\r\\n                    \\r\\n                    \\r\\n                        <pm25Value24>17</pm25Value24>\\r\\n                    \\r\\n\\t\\t\\t\\t\\t<khaiValue>54</khaiValue>\\r\\n\\t\\t\\t\\t\\t<khaiGrade>2</khaiGrade>\\r\\n\\t\\t\\t\\t\\t<so2Grade></so2Grade>\\r\\n\\t\\t\\t\\t\\t<coGrade>1</coGrade>\\r\\n\\t\\t\\t\\t\\t<o3Grade>1</o3Grade>\\r\\n\\t\\t\\t\\t\\t<no2Grade>1</no2Grade>\\r\\n\\t\\t\\t\\t\\t<pm10Grade>1</pm10Grade>\\r\\n\\t\\t\\t\\t\\t\\r\\n                        <pm25Grade>2</pm25Grade>\\r\\n                    \\r\\n                    \\r\\n                        <pm10Grade1h>1</pm10Grade1h>\\r\\n                        <pm25Grade1h>1</pm25Grade1h>\\r\\n                    \\r\\n\\t\\t\\t\\t</item>\\r\\n\\t\\t\\t\\r\\n\\t\\t\\t\\t<item>\\r\\n\\t\\t\\t\\t\\t<dataTime>2018-07-16 03:00</dataTime>\\r\\n\\t\\t\\t\\t\\t\\r\\n                        <mangName>\\xeb\\x8f\\x84\\xec\\x8b\\x9c\\xeb\\x8c\\x80\\xea\\xb8\\xb0</mangName>\\r\\n                    \\r\\n\\t\\t\\t\\t\\t<so2Value>-</so2Value>\\r\\n\\t\\t\\t\\t\\t<coValue>0.3</coValue>\\r\\n\\t\\t\\t\\t\\t<o3Value>0.013</o3Value>\\r\\n\\t\\t\\t\\t\\t<no2Value>0.010</no2Value>\\r\\n\\t\\t\\t\\t\\t<pm10Value>19</pm10Value>\\r\\n\\t\\t\\t\\t\\t\\r\\n                        <pm10Value24>21</pm10Value24>\\r\\n                    \\r\\n\\t\\t\\t\\t\\t\\r\\n                        <pm25Value>17</pm25Value>\\r\\n                    \\r\\n                    \\r\\n                        <pm25Value24>17</pm25Value24>\\r\\n                    \\r\\n\\t\\t\\t\\t\\t<khaiValue>54</khaiValue>\\r\\n\\t\\t\\t\\t\\t<khaiGrade>2</khaiGrade>\\r\\n\\t\\t\\t\\t\\t<so2Grade></so2Grade>\\r\\n\\t\\t\\t\\t\\t<coGrade>1</coGrade>\\r\\n\\t\\t\\t\\t\\t<o3Grade>1</o3Grade>\\r\\n\\t\\t\\t\\t\\t<no2Grade>1</no2Grade>\\r\\n\\t\\t\\t\\t\\t<pm10Grade>1</pm10Grade>\\r\\n\\t\\t\\t\\t\\t\\r\\n                        <pm25Grade>2</pm25Grade>\\r\\n                    \\r\\n                    \\r\\n                        <pm10Grade1h>1</pm10Grade1h>\\r\\n                        <pm25Grade1h>2</pm25Grade1h>\\r\\n                    \\r\\n\\t\\t\\t\\t</item>\\r\\n\\t\\t\\t\\r\\n\\t\\t\\t\\t<item>\\r\\n\\t\\t\\t\\t\\t<dataTime>2018-07-16 02:00</dataTime>\\r\\n\\t\\t\\t\\t\\t\\r\\n                        <mangName>\\xeb\\x8f\\x84\\xec\\x8b\\x9c\\xeb\\x8c\\x80\\xea\\xb8\\xb0</mangName>\\r\\n                    \\r\\n\\t\\t\\t\\t\\t<so2Value>-</so2Value>\\r\\n\\t\\t\\t\\t\\t<coValue>0.3</coValue>\\r\\n\\t\\t\\t\\t\\t<o3Value>0.011</o3Value>\\r\\n\\t\\t\\t\\t\\t<no2Value>0.013</no2Value>\\r\\n\\t\\t\\t\\t\\t<pm10Value>19</pm10Value>\\r\\n\\t\\t\\t\\t\\t\\r\\n                        <pm10Value24>21</pm10Value24>\\r\\n                    \\r\\n\\t\\t\\t\\t\\t\\r\\n                        <pm25Value>15</pm25Value>\\r\\n                    \\r\\n                    \\r\\n                        <pm25Value24>17</pm25Value24>\\r\\n                    \\r\\n\\t\\t\\t\\t\\t<khaiValue>54</khaiValue>\\r\\n\\t\\t\\t\\t\\t<khaiGrade>2</khaiGrade>\\r\\n\\t\\t\\t\\t\\t<so2Grade></so2Grade>\\r\\n\\t\\t\\t\\t\\t<coGrade>1</coGrade>\\r\\n\\t\\t\\t\\t\\t<o3Grade>1</o3Grade>\\r\\n\\t\\t\\t\\t\\t<no2Grade>1</no2Grade>\\r\\n\\t\\t\\t\\t\\t<pm10Grade>1</pm10Grade>\\r\\n\\t\\t\\t\\t\\t\\r\\n                        <pm25Grade>2</pm25Grade>\\r\\n                    \\r\\n                    \\r\\n                        <pm10Grade1h>1</pm10Grade1h>\\r\\n                        <pm25Grade1h>1</pm25Grade1h>\\r\\n                    \\r\\n\\t\\t\\t\\t</item>\\r\\n\\t\\t\\t\\r\\n\\t\\t\\t\\t<item>\\r\\n\\t\\t\\t\\t\\t<dataTime>2018-07-16 01:00</dataTime>\\r\\n\\t\\t\\t\\t\\t\\r\\n                        <mangName>\\xeb\\x8f\\x84\\xec\\x8b\\x9c\\xeb\\x8c\\x80\\xea\\xb8\\xb0</mangName>\\r\\n                    \\r\\n\\t\\t\\t\\t\\t<so2Value>-</so2Value>\\r\\n\\t\\t\\t\\t\\t<coValue>0.2</coValue>\\r\\n\\t\\t\\t\\t\\t<o3Value>0.012</o3Value>\\r\\n\\t\\t\\t\\t\\t<no2Value>0.015</no2Value>\\r\\n\\t\\t\\t\\t\\t<pm10Value>20</pm10Value>\\r\\n\\t\\t\\t\\t\\t\\r\\n                        <pm10Value24>21</pm10Value24>\\r\\n                    \\r\\n\\t\\t\\t\\t\\t\\r\\n                        <pm25Value>17</pm25Value>\\r\\n                    \\r\\n                    \\r\\n                        <pm25Value24>17</pm25Value24>\\r\\n                    \\r\\n\\t\\t\\t\\t\\t<khaiValue>54</khaiValue>\\r\\n\\t\\t\\t\\t\\t<khaiGrade>2</khaiGrade>\\r\\n\\t\\t\\t\\t\\t<so2Grade></so2Grade>\\r\\n\\t\\t\\t\\t\\t<coGrade>1</coGrade>\\r\\n\\t\\t\\t\\t\\t<o3Grade>1</o3Grade>\\r\\n\\t\\t\\t\\t\\t<no2Grade>1</no2Grade>\\r\\n\\t\\t\\t\\t\\t<pm10Grade>1</pm10Grade>\\r\\n\\t\\t\\t\\t\\t\\r\\n                        <pm25Grade>2</pm25Grade>\\r\\n                    \\r\\n                    \\r\\n                        <pm10Grade1h>1</pm10Grade1h>\\r\\n                        <pm25Grade1h>2</pm25Grade1h>\\r\\n                    \\r\\n\\t\\t\\t\\t</item>\\r\\n\\t\\t\\t\\r\\n\\t\\t</items>\\r\\n\\t\\t\\t<numOfRows>10</numOfRows>\\r\\n\\t\\t\\t<pageNo>1</pageNo>\\r\\n\\t\\t\\t<totalCount>23</totalCount>\\r\\n\\t</body>\\r\\n</response>\\r\\n'"
      ]
     },
     "execution_count": 276,
     "metadata": {},
     "output_type": "execute_result"
    }
   ],
   "source": [
    "resResult"
   ]
  },
  {
   "cell_type": "code",
   "execution_count": 277,
   "metadata": {},
   "outputs": [],
   "source": [
    "xml = etree.fromstring(resResult)"
   ]
  },
  {
   "cell_type": "code",
   "execution_count": 278,
   "metadata": {},
   "outputs": [],
   "source": [
    "xmlTree = etree.ElementTree(xml)"
   ]
  },
  {
   "cell_type": "code",
   "execution_count": 279,
   "metadata": {},
   "outputs": [
    {
     "data": {
      "text/plain": [
       "lxml.etree._Element"
      ]
     },
     "execution_count": 279,
     "metadata": {},
     "output_type": "execute_result"
    }
   ],
   "source": [
    "type(xml)"
   ]
  },
  {
   "cell_type": "code",
   "execution_count": 280,
   "metadata": {},
   "outputs": [
    {
     "data": {
      "text/plain": [
       "lxml.etree._ElementTree"
      ]
     },
     "execution_count": 280,
     "metadata": {},
     "output_type": "execute_result"
    }
   ],
   "source": [
    "type(xmlTree)"
   ]
  },
  {
   "cell_type": "code",
   "execution_count": 281,
   "metadata": {},
   "outputs": [],
   "source": [
    "root = xmlTree.getroot()"
   ]
  },
  {
   "cell_type": "code",
   "execution_count": 282,
   "metadata": {},
   "outputs": [
    {
     "name": "stdout",
     "output_type": "stream",
     "text": [
      "<response>\n",
      "\t<header>\n",
      "\t\t<resultCode>00</resultCode>\n",
      "\t\t<resultMsg>NORMAL SERVICE.</resultMsg>\n",
      "\t</header>\n",
      "\t<body>\n",
      "\t\t<items>\n",
      "\t\t\t\n",
      "\t\t\t\t<item>\n",
      "\t\t\t\t\t<dataTime>2018-07-16 10:00</dataTime>\n",
      "\t\t\t\t\t\n",
      "                        <mangName>도시대기</mangName>\n",
      "                    \n",
      "\t\t\t\t\t<so2Value>-</so2Value>\n",
      "\t\t\t\t\t<coValue>0.4</coValue>\n",
      "\t\t\t\t\t<o3Value>0.012</o3Value>\n",
      "\t\t\t\t\t<no2Value>0.026</no2Value>\n",
      "\t\t\t\t\t<pm10Value>20</pm10Value>\n",
      "\t\t\t\t\t\n",
      "                        <pm10Value24>19</pm10Value24>\n",
      "                    \n",
      "\t\t\t\t\t\n",
      "                        <pm25Value>14</pm25Value>\n",
      "                    \n",
      "                    \n",
      "                        <pm25Value24>14</pm25Value24>\n",
      "                    \n",
      "\t\t\t\t\t<khaiValue>47</khaiValue>\n",
      "\t\t\t\t\t<khaiGrade>1</khaiGrade>\n",
      "\t\t\t\t\t<so2Grade/>\n",
      "\t\t\t\t\t<coGrade>1</coGrade>\n",
      "\t\t\t\t\t<o3Grade>1</o3Grade>\n",
      "\t\t\t\t\t<no2Grade>1</no2Grade>\n",
      "\t\t\t\t\t<pm10Grade>1</pm10Grade>\n",
      "\t\t\t\t\t\n",
      "                        <pm25Grade>1</pm25Grade>\n",
      "                    \n",
      "                    \n",
      "                        <pm10Grade1h>1</pm10Grade1h>\n",
      "                        <pm25Grade1h>1</pm25Grade1h>\n",
      "                    \n",
      "\t\t\t\t</item>\n",
      "\t\t\t\n",
      "\t\t\t\t<item>\n",
      "\t\t\t\t\t<dataTime>2018-07-16 09:00</dataTime>\n",
      "\t\t\t\t\t\n",
      "                        <mangName>도시대기</mangName>\n",
      "                    \n",
      "\t\t\t\t\t<so2Value>-</so2Value>\n",
      "\t\t\t\t\t<coValue>0.4</coValue>\n",
      "\t\t\t\t\t<o3Value>0.009</o3Value>\n",
      "\t\t\t\t\t<no2Value>0.027</no2Value>\n",
      "\t\t\t\t\t<pm10Value>23</pm10Value>\n",
      "\t\t\t\t\t\n",
      "                        <pm10Value24>19</pm10Value24>\n",
      "                    \n",
      "\t\t\t\t\t\n",
      "                        <pm25Value>16</pm25Value>\n",
      "                    \n",
      "                    \n",
      "                        <pm25Value24>14</pm25Value24>\n",
      "                    \n",
      "\t\t\t\t\t<khaiValue>47</khaiValue>\n",
      "\t\t\t\t\t<khaiGrade>1</khaiGrade>\n",
      "\t\t\t\t\t<so2Grade/>\n",
      "\t\t\t\t\t<coGrade>1</coGrade>\n",
      "\t\t\t\t\t<o3Grade>1</o3Grade>\n",
      "\t\t\t\t\t<no2Grade>1</no2Grade>\n",
      "\t\t\t\t\t<pm10Grade>1</pm10Grade>\n",
      "\t\t\t\t\t\n",
      "                        <pm25Grade>1</pm25Grade>\n",
      "                    \n",
      "                    \n",
      "                        <pm10Grade1h>1</pm10Grade1h>\n",
      "                        <pm25Grade1h>2</pm25Grade1h>\n",
      "                    \n",
      "\t\t\t\t</item>\n",
      "\t\t\t\n",
      "\t\t\t\t<item>\n",
      "\t\t\t\t\t<dataTime>2018-07-16 08:00</dataTime>\n",
      "\t\t\t\t\t\n",
      "                        <mangName>도시대기</mangName>\n",
      "                    \n",
      "\t\t\t\t\t<so2Value>-</so2Value>\n",
      "\t\t\t\t\t<coValue>0.4</coValue>\n",
      "\t\t\t\t\t<o3Value>0.006</o3Value>\n",
      "\t\t\t\t\t<no2Value>0.024</no2Value>\n",
      "\t\t\t\t\t<pm10Value>17</pm10Value>\n",
      "\t\t\t\t\t\n",
      "                        <pm10Value24>18</pm10Value24>\n",
      "                    \n",
      "\t\t\t\t\t\n",
      "                        <pm25Value>12</pm25Value>\n",
      "                    \n",
      "                    \n",
      "                        <pm25Value24>14</pm25Value24>\n",
      "                    \n",
      "\t\t\t\t\t<khaiValue>47</khaiValue>\n",
      "\t\t\t\t\t<khaiGrade>1</khaiGrade>\n",
      "\t\t\t\t\t<so2Grade/>\n",
      "\t\t\t\t\t<coGrade>1</coGrade>\n",
      "\t\t\t\t\t<o3Grade>1</o3Grade>\n",
      "\t\t\t\t\t<no2Grade>1</no2Grade>\n",
      "\t\t\t\t\t<pm10Grade>1</pm10Grade>\n",
      "\t\t\t\t\t\n",
      "                        <pm25Grade>1</pm25Grade>\n",
      "                    \n",
      "                    \n",
      "                        <pm10Grade1h>1</pm10Grade1h>\n",
      "                        <pm25Grade1h>1</pm25Grade1h>\n",
      "                    \n",
      "\t\t\t\t</item>\n",
      "\t\t\t\n",
      "\t\t\t\t<item>\n",
      "\t\t\t\t\t<dataTime>2018-07-16 07:00</dataTime>\n",
      "\t\t\t\t\t\n",
      "                        <mangName>도시대기</mangName>\n",
      "                    \n",
      "\t\t\t\t\t<so2Value>-</so2Value>\n",
      "\t\t\t\t\t<coValue>0.4</coValue>\n",
      "\t\t\t\t\t<o3Value>0.004</o3Value>\n",
      "\t\t\t\t\t<no2Value>0.019</no2Value>\n",
      "\t\t\t\t\t<pm10Value>19</pm10Value>\n",
      "\t\t\t\t\t\n",
      "                        <pm10Value24>19</pm10Value24>\n",
      "                    \n",
      "\t\t\t\t\t\n",
      "                        <pm25Value>14</pm25Value>\n",
      "                    \n",
      "                    \n",
      "                        <pm25Value24>15</pm25Value24>\n",
      "                    \n",
      "\t\t\t\t\t<khaiValue>50</khaiValue>\n",
      "\t\t\t\t\t<khaiGrade>1</khaiGrade>\n",
      "\t\t\t\t\t<so2Grade/>\n",
      "\t\t\t\t\t<coGrade>1</coGrade>\n",
      "\t\t\t\t\t<o3Grade>1</o3Grade>\n",
      "\t\t\t\t\t<no2Grade>1</no2Grade>\n",
      "\t\t\t\t\t<pm10Grade>1</pm10Grade>\n",
      "\t\t\t\t\t\n",
      "                        <pm25Grade>1</pm25Grade>\n",
      "                    \n",
      "                    \n",
      "                        <pm10Grade1h>1</pm10Grade1h>\n",
      "                        <pm25Grade1h>1</pm25Grade1h>\n",
      "                    \n",
      "\t\t\t\t</item>\n",
      "\t\t\t\n",
      "\t\t\t\t<item>\n",
      "\t\t\t\t\t<dataTime>2018-07-16 06:00</dataTime>\n",
      "\t\t\t\t\t\n",
      "                        <mangName>도시대기</mangName>\n",
      "                    \n",
      "\t\t\t\t\t<so2Value>-</so2Value>\n",
      "\t\t\t\t\t<coValue>0.3</coValue>\n",
      "\t\t\t\t\t<o3Value>0.004</o3Value>\n",
      "\t\t\t\t\t<no2Value>0.018</no2Value>\n",
      "\t\t\t\t\t<pm10Value>17</pm10Value>\n",
      "\t\t\t\t\t\n",
      "                        <pm10Value24>19</pm10Value24>\n",
      "                    \n",
      "\t\t\t\t\t\n",
      "                        <pm25Value>14</pm25Value>\n",
      "                    \n",
      "                    \n",
      "                        <pm25Value24>16</pm25Value24>\n",
      "                    \n",
      "\t\t\t\t\t<khaiValue>51</khaiValue>\n",
      "\t\t\t\t\t<khaiGrade>2</khaiGrade>\n",
      "\t\t\t\t\t<so2Grade/>\n",
      "\t\t\t\t\t<coGrade>1</coGrade>\n",
      "\t\t\t\t\t<o3Grade>1</o3Grade>\n",
      "\t\t\t\t\t<no2Grade>1</no2Grade>\n",
      "\t\t\t\t\t<pm10Grade>1</pm10Grade>\n",
      "\t\t\t\t\t\n",
      "                        <pm25Grade>2</pm25Grade>\n",
      "                    \n",
      "                    \n",
      "                        <pm10Grade1h>1</pm10Grade1h>\n",
      "                        <pm25Grade1h>1</pm25Grade1h>\n",
      "                    \n",
      "\t\t\t\t</item>\n",
      "\t\t\t\n",
      "\t\t\t\t<item>\n",
      "\t\t\t\t\t<dataTime>2018-07-16 05:00</dataTime>\n",
      "\t\t\t\t\t\n",
      "                        <mangName>도시대기</mangName>\n",
      "                    \n",
      "\t\t\t\t\t<so2Value>-</so2Value>\n",
      "\t\t\t\t\t<coValue>0.3</coValue>\n",
      "\t\t\t\t\t<o3Value>0.008</o3Value>\n",
      "\t\t\t\t\t<no2Value>0.014</no2Value>\n",
      "\t\t\t\t\t<pm10Value>18</pm10Value>\n",
      "\t\t\t\t\t\n",
      "                        <pm10Value24>20</pm10Value24>\n",
      "                    \n",
      "\t\t\t\t\t\n",
      "                        <pm25Value>15</pm25Value>\n",
      "                    \n",
      "                    \n",
      "                        <pm25Value24>16</pm25Value24>\n",
      "                    \n",
      "\t\t\t\t\t<khaiValue>51</khaiValue>\n",
      "\t\t\t\t\t<khaiGrade>2</khaiGrade>\n",
      "\t\t\t\t\t<so2Grade/>\n",
      "\t\t\t\t\t<coGrade>1</coGrade>\n",
      "\t\t\t\t\t<o3Grade>1</o3Grade>\n",
      "\t\t\t\t\t<no2Grade>1</no2Grade>\n",
      "\t\t\t\t\t<pm10Grade>1</pm10Grade>\n",
      "\t\t\t\t\t\n",
      "                        <pm25Grade>2</pm25Grade>\n",
      "                    \n",
      "                    \n",
      "                        <pm10Grade1h>1</pm10Grade1h>\n",
      "                        <pm25Grade1h>1</pm25Grade1h>\n",
      "                    \n",
      "\t\t\t\t</item>\n",
      "\t\t\t\n",
      "\t\t\t\t<item>\n",
      "\t\t\t\t\t<dataTime>2018-07-16 04:00</dataTime>\n",
      "\t\t\t\t\t\n",
      "                        <mangName>도시대기</mangName>\n",
      "                    \n",
      "\t\t\t\t\t<so2Value>-</so2Value>\n",
      "\t\t\t\t\t<coValue>0.3</coValue>\n",
      "\t\t\t\t\t<o3Value>0.011</o3Value>\n",
      "\t\t\t\t\t<no2Value>0.011</no2Value>\n",
      "\t\t\t\t\t<pm10Value>18</pm10Value>\n",
      "\t\t\t\t\t\n",
      "                        <pm10Value24>21</pm10Value24>\n",
      "                    \n",
      "\t\t\t\t\t\n",
      "                        <pm25Value>15</pm25Value>\n",
      "                    \n",
      "                    \n",
      "                        <pm25Value24>17</pm25Value24>\n",
      "                    \n",
      "\t\t\t\t\t<khaiValue>54</khaiValue>\n",
      "\t\t\t\t\t<khaiGrade>2</khaiGrade>\n",
      "\t\t\t\t\t<so2Grade/>\n",
      "\t\t\t\t\t<coGrade>1</coGrade>\n",
      "\t\t\t\t\t<o3Grade>1</o3Grade>\n",
      "\t\t\t\t\t<no2Grade>1</no2Grade>\n",
      "\t\t\t\t\t<pm10Grade>1</pm10Grade>\n",
      "\t\t\t\t\t\n",
      "                        <pm25Grade>2</pm25Grade>\n",
      "                    \n",
      "                    \n",
      "                        <pm10Grade1h>1</pm10Grade1h>\n",
      "                        <pm25Grade1h>1</pm25Grade1h>\n",
      "                    \n",
      "\t\t\t\t</item>\n",
      "\t\t\t\n",
      "\t\t\t\t<item>\n",
      "\t\t\t\t\t<dataTime>2018-07-16 03:00</dataTime>\n",
      "\t\t\t\t\t\n",
      "                        <mangName>도시대기</mangName>\n",
      "                    \n",
      "\t\t\t\t\t<so2Value>-</so2Value>\n",
      "\t\t\t\t\t<coValue>0.3</coValue>\n",
      "\t\t\t\t\t<o3Value>0.013</o3Value>\n",
      "\t\t\t\t\t<no2Value>0.010</no2Value>\n",
      "\t\t\t\t\t<pm10Value>19</pm10Value>\n",
      "\t\t\t\t\t\n",
      "                        <pm10Value24>21</pm10Value24>\n",
      "                    \n",
      "\t\t\t\t\t\n",
      "                        <pm25Value>17</pm25Value>\n",
      "                    \n",
      "                    \n",
      "                        <pm25Value24>17</pm25Value24>\n",
      "                    \n",
      "\t\t\t\t\t<khaiValue>54</khaiValue>\n",
      "\t\t\t\t\t<khaiGrade>2</khaiGrade>\n",
      "\t\t\t\t\t<so2Grade/>\n",
      "\t\t\t\t\t<coGrade>1</coGrade>\n",
      "\t\t\t\t\t<o3Grade>1</o3Grade>\n",
      "\t\t\t\t\t<no2Grade>1</no2Grade>\n",
      "\t\t\t\t\t<pm10Grade>1</pm10Grade>\n",
      "\t\t\t\t\t\n",
      "                        <pm25Grade>2</pm25Grade>\n",
      "                    \n",
      "                    \n",
      "                        <pm10Grade1h>1</pm10Grade1h>\n",
      "                        <pm25Grade1h>2</pm25Grade1h>\n",
      "                    \n",
      "\t\t\t\t</item>\n",
      "\t\t\t\n",
      "\t\t\t\t<item>\n",
      "\t\t\t\t\t<dataTime>2018-07-16 02:00</dataTime>\n",
      "\t\t\t\t\t\n",
      "                        <mangName>도시대기</mangName>\n",
      "                    \n",
      "\t\t\t\t\t<so2Value>-</so2Value>\n",
      "\t\t\t\t\t<coValue>0.3</coValue>\n",
      "\t\t\t\t\t<o3Value>0.011</o3Value>\n",
      "\t\t\t\t\t<no2Value>0.013</no2Value>\n",
      "\t\t\t\t\t<pm10Value>19</pm10Value>\n",
      "\t\t\t\t\t\n",
      "                        <pm10Value24>21</pm10Value24>\n",
      "                    \n",
      "\t\t\t\t\t\n",
      "                        <pm25Value>15</pm25Value>\n",
      "                    \n",
      "                    \n",
      "                        <pm25Value24>17</pm25Value24>\n",
      "                    \n",
      "\t\t\t\t\t<khaiValue>54</khaiValue>\n",
      "\t\t\t\t\t<khaiGrade>2</khaiGrade>\n",
      "\t\t\t\t\t<so2Grade/>\n",
      "\t\t\t\t\t<coGrade>1</coGrade>\n",
      "\t\t\t\t\t<o3Grade>1</o3Grade>\n",
      "\t\t\t\t\t<no2Grade>1</no2Grade>\n",
      "\t\t\t\t\t<pm10Grade>1</pm10Grade>\n",
      "\t\t\t\t\t\n",
      "                        <pm25Grade>2</pm25Grade>\n",
      "                    \n",
      "                    \n",
      "                        <pm10Grade1h>1</pm10Grade1h>\n",
      "                        <pm25Grade1h>1</pm25Grade1h>\n",
      "                    \n",
      "\t\t\t\t</item>\n",
      "\t\t\t\n",
      "\t\t\t\t<item>\n",
      "\t\t\t\t\t<dataTime>2018-07-16 01:00</dataTime>\n",
      "\t\t\t\t\t\n",
      "                        <mangName>도시대기</mangName>\n",
      "                    \n",
      "\t\t\t\t\t<so2Value>-</so2Value>\n",
      "\t\t\t\t\t<coValue>0.2</coValue>\n",
      "\t\t\t\t\t<o3Value>0.012</o3Value>\n",
      "\t\t\t\t\t<no2Value>0.015</no2Value>\n",
      "\t\t\t\t\t<pm10Value>20</pm10Value>\n",
      "\t\t\t\t\t\n",
      "                        <pm10Value24>21</pm10Value24>\n",
      "                    \n",
      "\t\t\t\t\t\n",
      "                        <pm25Value>17</pm25Value>\n",
      "                    \n",
      "                    \n",
      "                        <pm25Value24>17</pm25Value24>\n",
      "                    \n",
      "\t\t\t\t\t<khaiValue>54</khaiValue>\n",
      "\t\t\t\t\t<khaiGrade>2</khaiGrade>\n",
      "\t\t\t\t\t<so2Grade/>\n",
      "\t\t\t\t\t<coGrade>1</coGrade>\n",
      "\t\t\t\t\t<o3Grade>1</o3Grade>\n",
      "\t\t\t\t\t<no2Grade>1</no2Grade>\n",
      "\t\t\t\t\t<pm10Grade>1</pm10Grade>\n",
      "\t\t\t\t\t\n",
      "                        <pm25Grade>2</pm25Grade>\n",
      "                    \n",
      "                    \n",
      "                        <pm10Grade1h>1</pm10Grade1h>\n",
      "                        <pm25Grade1h>2</pm25Grade1h>\n",
      "                    \n",
      "\t\t\t\t</item>\n",
      "\t\t\t\n",
      "\t\t</items>\n",
      "\t\t\t<numOfRows>10</numOfRows>\n",
      "\t\t\t<pageNo>1</pageNo>\n",
      "\t\t\t<totalCount>23</totalCount>\n",
      "\t</body>\n",
      "</response>\n"
     ]
    }
   ],
   "source": [
    "etree.dump(xml)"
   ]
  },
  {
   "cell_type": "code",
   "execution_count": 283,
   "metadata": {},
   "outputs": [],
   "source": [
    "items = root.findall('.//items')"
   ]
  },
  {
   "cell_type": "code",
   "execution_count": 285,
   "metadata": {},
   "outputs": [
    {
     "name": "stdout",
     "output_type": "stream",
     "text": [
      "10\n",
      "item \n",
      "\t\t\t\t\t\n",
      "item \n",
      "\t\t\t\t\t\n",
      "item \n",
      "\t\t\t\t\t\n",
      "item \n",
      "\t\t\t\t\t\n",
      "item \n",
      "\t\t\t\t\t\n",
      "item \n",
      "\t\t\t\t\t\n",
      "item \n",
      "\t\t\t\t\t\n",
      "item \n",
      "\t\t\t\t\t\n",
      "item \n",
      "\t\t\t\t\t\n",
      "item \n",
      "\t\t\t\t\t\n"
     ]
    }
   ],
   "source": [
    "for item in items : \n",
    "    print(len(item))\n",
    "    for i in range(len(item)):\n",
    "        print(item[i].tag, item[i].text)"
   ]
  },
  {
   "cell_type": "code",
   "execution_count": 286,
   "metadata": {},
   "outputs": [],
   "source": [
    "pml0List = root.findall(\".//item/pm10Value\")"
   ]
  },
  {
   "cell_type": "code",
   "execution_count": null,
   "metadata": {},
   "outputs": [],
   "source": [
    "for pml0List :"
   ]
  },
  {
   "cell_type": "code",
   "execution_count": 287,
   "metadata": {},
   "outputs": [
    {
     "ename": "ImportError",
     "evalue": "cssselect does not seem to be installed. See http://packages.python.org/cssselect/",
     "output_type": "error",
     "traceback": [
      "\u001b[1;31m---------------------------------------------------------------------------\u001b[0m",
      "\u001b[1;31mModuleNotFoundError\u001b[0m                       Traceback (most recent call last)",
      "\u001b[1;32m~\\Anaconda3\\lib\\site-packages\\lxml\\cssselect.py\u001b[0m in \u001b[0;36m<module>\u001b[1;34m()\u001b[0m\n\u001b[0;32m     12\u001b[0m \u001b[1;32mtry\u001b[0m\u001b[1;33m:\u001b[0m\u001b[1;33m\u001b[0m\u001b[0m\n\u001b[1;32m---> 13\u001b[1;33m     \u001b[1;32mimport\u001b[0m \u001b[0mcssselect\u001b[0m \u001b[1;32mas\u001b[0m \u001b[0mexternal_cssselect\u001b[0m\u001b[1;33m\u001b[0m\u001b[0m\n\u001b[0m\u001b[0;32m     14\u001b[0m \u001b[1;32mexcept\u001b[0m \u001b[0mImportError\u001b[0m\u001b[1;33m:\u001b[0m\u001b[1;33m\u001b[0m\u001b[0m\n",
      "\u001b[1;31mModuleNotFoundError\u001b[0m: No module named 'cssselect'",
      "\nDuring handling of the above exception, another exception occurred:\n",
      "\u001b[1;31mImportError\u001b[0m                               Traceback (most recent call last)",
      "\u001b[1;32m<ipython-input-287-e3219c833922>\u001b[0m in \u001b[0;36m<module>\u001b[1;34m()\u001b[0m\n\u001b[1;32m----> 1\u001b[1;33m \u001b[0mxml\u001b[0m\u001b[1;33m.\u001b[0m\u001b[0mcssselect\u001b[0m\u001b[1;33m(\u001b[0m\u001b[1;34m'item'\u001b[0m\u001b[1;33m)\u001b[0m\u001b[1;33m\u001b[0m\u001b[0m\n\u001b[0m",
      "\u001b[1;32msrc/lxml/etree.pyx\u001b[0m in \u001b[0;36mlxml.etree._Element.cssselect\u001b[1;34m()\u001b[0m\n",
      "\u001b[1;32m~\\Anaconda3\\lib\\site-packages\\lxml\\cssselect.py\u001b[0m in \u001b[0;36m<module>\u001b[1;34m()\u001b[0m\n\u001b[0;32m     14\u001b[0m \u001b[1;32mexcept\u001b[0m \u001b[0mImportError\u001b[0m\u001b[1;33m:\u001b[0m\u001b[1;33m\u001b[0m\u001b[0m\n\u001b[0;32m     15\u001b[0m     raise ImportError(\n\u001b[1;32m---> 16\u001b[1;33m         \u001b[1;34m'cssselect does not seem to be installed. '\u001b[0m\u001b[1;33m\u001b[0m\u001b[0m\n\u001b[0m\u001b[0;32m     17\u001b[0m         'See http://packages.python.org/cssselect/')\n\u001b[0;32m     18\u001b[0m \u001b[1;33m\u001b[0m\u001b[0m\n",
      "\u001b[1;31mImportError\u001b[0m: cssselect does not seem to be installed. See http://packages.python.org/cssselect/"
     ]
    }
   ],
   "source": [
    "xml.cssselect('item')"
   ]
  },
  {
   "cell_type": "code",
   "execution_count": null,
   "metadata": {},
   "outputs": [],
   "source": []
  },
  {
   "cell_type": "code",
   "execution_count": null,
   "metadata": {},
   "outputs": [],
   "source": []
  }
 ],
 "metadata": {
  "kernelspec": {
   "display_name": "Python 3",
   "language": "python",
   "name": "python3"
  },
  "language_info": {
   "codemirror_mode": {
    "name": "ipython",
    "version": 3
   },
   "file_extension": ".py",
   "mimetype": "text/x-python",
   "name": "python",
   "nbconvert_exporter": "python",
   "pygments_lexer": "ipython3",
   "version": "3.6.5"
  }
 },
 "nbformat": 4,
 "nbformat_minor": 2
}
