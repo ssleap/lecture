{
 "cells": [
  {
   "cell_type": "code",
   "execution_count": 2,
   "metadata": {},
   "outputs": [
    {
     "name": "stderr",
     "output_type": "stream",
     "text": [
      "UsageError: Cell magic `%%writefile.css.html` not found.\n"
     ]
    }
   ],
   "source": [
    "%%writefile.css.html\n",
    "<!doctype html>\n",
    "<html>\n",
    "\t<head>\n",
    "\t\t<style>\n",
    "\t\t\tdiv{background-color:rgba(255,0,0,.5);\n",
    "\t\t\t\n",
    "\t\t\t#id{color : rgb(0,0,255);\n",
    "\t\t\t.class{background-color:yellow;}\n",
    "\t\t\tdiv + p.class {background-color:green;}\n",
    "\t\t\tp.class{font- family : \"맑은고딕\",\"Malgun Gothic\", BatangChe, Sans-serif;}\n",
    "\t\t\tp.class{font-size:1.0em;}\n",
    "\t\t</style>\n",
    "\t</head>\n",
    "\t\n",
    "\t<body>\n",
    "\t\t<div id = \"id\">Content1</div>\n",
    "\t\t<div class = \"class\">Content2</div>\n",
    "\t\t<p class = \"class\">Content3</p>\n",
    "\t</body>\n",
    "\n",
    "</html>"
   ]
  },
  {
   "cell_type": "code",
   "execution_count": 1,
   "metadata": {},
   "outputs": [],
   "source": [
    "import request"
   ]
  },
  {
   "cell_type": "code",
   "execution_count": 2,
   "metadata": {},
   "outputs": [
    {
     "ename": "TypeError",
     "evalue": "'module' object is not callable",
     "output_type": "error",
     "traceback": [
      "\u001b[1;31m---------------------------------------------------------------------------\u001b[0m",
      "\u001b[1;31mTypeError\u001b[0m                                 Traceback (most recent call last)",
      "\u001b[1;32m<ipython-input-2-9ed0c4fcca43>\u001b[0m in \u001b[0;36m<module>\u001b[1;34m()\u001b[0m\n\u001b[1;32m----> 1\u001b[1;33m \u001b[0mreq\u001b[0m \u001b[1;33m=\u001b[0m \u001b[0mrequest\u001b[0m\u001b[1;33m(\u001b[0m\u001b[1;33m)\u001b[0m\u001b[1;33m\u001b[0m\u001b[0m\n\u001b[0m",
      "\u001b[1;31mTypeError\u001b[0m: 'module' object is not callable"
     ]
    }
   ],
   "source": [
    "req = request()"
   ]
  },
  {
   "cell_type": "code",
   "execution_count": null,
   "metadata": {},
   "outputs": [],
   "source": []
  }
 ],
 "metadata": {
  "kernelspec": {
   "display_name": "Python 3",
   "language": "python",
   "name": "python3"
  },
  "language_info": {
   "codemirror_mode": {
    "name": "ipython",
    "version": 3
   },
   "file_extension": ".py",
   "mimetype": "text/x-python",
   "name": "python",
   "nbconvert_exporter": "python",
   "pygments_lexer": "ipython3",
   "version": "3.6.5"
  }
 },
 "nbformat": 4,
 "nbformat_minor": 2
}
