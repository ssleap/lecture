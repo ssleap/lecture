{
 "cells": [
  {
   "cell_type": "code",
   "execution_count": 9,
   "metadata": {},
   "outputs": [],
   "source": [
    "from sqlalchemy import create_engine, MetaData"
   ]
  },
  {
   "cell_type": "code",
   "execution_count": 10,
   "metadata": {},
   "outputs": [],
   "source": [
    "engine = create_engine('sqlite:///alchemy.db', echo = True)"
   ]
  },
  {
   "cell_type": "code",
   "execution_count": 11,
   "metadata": {},
   "outputs": [
    {
     "name": "stdout",
     "output_type": "stream",
     "text": [
      "2018-07-10 16:32:13,180 INFO sqlalchemy.engine.base.Engine SELECT CAST('test plain returns' AS VARCHAR(60)) AS anon_1\n",
      "2018-07-10 16:32:13,181 INFO sqlalchemy.engine.base.Engine ()\n",
      "2018-07-10 16:32:13,183 INFO sqlalchemy.engine.base.Engine SELECT CAST('test unicode returns' AS VARCHAR(60)) AS anon_1\n",
      "2018-07-10 16:32:13,184 INFO sqlalchemy.engine.base.Engine ()\n"
     ]
    }
   ],
   "source": [
    "conn = engine.connect()"
   ]
  },
  {
   "cell_type": "code",
   "execution_count": 12,
   "metadata": {},
   "outputs": [
    {
     "name": "stdout",
     "output_type": "stream",
     "text": [
      "2018-07-10 16:32:13,334 INFO sqlalchemy.engine.base.Engine SELECT name FROM sqlite_master WHERE type='table' ORDER BY name\n",
      "2018-07-10 16:32:13,336 INFO sqlalchemy.engine.base.Engine ()\n",
      "2018-07-10 16:32:13,339 INFO sqlalchemy.engine.base.Engine PRAGMA table_info(\"Album\")\n",
      "2018-07-10 16:32:13,340 INFO sqlalchemy.engine.base.Engine ()\n",
      "2018-07-10 16:32:13,343 INFO sqlalchemy.engine.base.Engine SELECT sql FROM  (SELECT * FROM sqlite_master UNION ALL   SELECT * FROM sqlite_temp_master) WHERE name = 'Album' AND type = 'table'\n",
      "2018-07-10 16:32:13,344 INFO sqlalchemy.engine.base.Engine ()\n",
      "2018-07-10 16:32:13,348 INFO sqlalchemy.engine.base.Engine PRAGMA foreign_key_list(\"Album\")\n",
      "2018-07-10 16:32:13,349 INFO sqlalchemy.engine.base.Engine ()\n",
      "2018-07-10 16:32:13,352 INFO sqlalchemy.engine.base.Engine SELECT sql FROM  (SELECT * FROM sqlite_master UNION ALL   SELECT * FROM sqlite_temp_master) WHERE name = 'Album' AND type = 'table'\n",
      "2018-07-10 16:32:13,353 INFO sqlalchemy.engine.base.Engine ()\n",
      "2018-07-10 16:32:13,360 INFO sqlalchemy.engine.base.Engine PRAGMA table_info(\"Artist\")\n",
      "2018-07-10 16:32:13,361 INFO sqlalchemy.engine.base.Engine ()\n",
      "2018-07-10 16:32:13,362 INFO sqlalchemy.engine.base.Engine SELECT sql FROM  (SELECT * FROM sqlite_master UNION ALL   SELECT * FROM sqlite_temp_master) WHERE name = 'Artist' AND type = 'table'\n",
      "2018-07-10 16:32:13,363 INFO sqlalchemy.engine.base.Engine ()\n",
      "2018-07-10 16:32:13,365 INFO sqlalchemy.engine.base.Engine PRAGMA foreign_key_list(\"Artist\")\n",
      "2018-07-10 16:32:13,366 INFO sqlalchemy.engine.base.Engine ()\n",
      "2018-07-10 16:32:13,367 INFO sqlalchemy.engine.base.Engine SELECT sql FROM  (SELECT * FROM sqlite_master UNION ALL   SELECT * FROM sqlite_temp_master) WHERE name = 'Artist' AND type = 'table'\n",
      "2018-07-10 16:32:13,368 INFO sqlalchemy.engine.base.Engine ()\n",
      "2018-07-10 16:32:13,370 INFO sqlalchemy.engine.base.Engine PRAGMA index_list(\"Artist\")\n",
      "2018-07-10 16:32:13,372 INFO sqlalchemy.engine.base.Engine ()\n",
      "2018-07-10 16:32:13,373 INFO sqlalchemy.engine.base.Engine PRAGMA index_list(\"Artist\")\n",
      "2018-07-10 16:32:13,374 INFO sqlalchemy.engine.base.Engine ()\n",
      "2018-07-10 16:32:13,375 INFO sqlalchemy.engine.base.Engine SELECT sql FROM  (SELECT * FROM sqlite_master UNION ALL   SELECT * FROM sqlite_temp_master) WHERE name = 'Artist' AND type = 'table'\n",
      "2018-07-10 16:32:13,376 INFO sqlalchemy.engine.base.Engine ()\n",
      "2018-07-10 16:32:13,381 INFO sqlalchemy.engine.base.Engine PRAGMA index_list(\"Album\")\n",
      "2018-07-10 16:32:13,382 INFO sqlalchemy.engine.base.Engine ()\n",
      "2018-07-10 16:32:13,384 INFO sqlalchemy.engine.base.Engine PRAGMA index_list(\"Album\")\n",
      "2018-07-10 16:32:13,384 INFO sqlalchemy.engine.base.Engine ()\n",
      "2018-07-10 16:32:13,386 INFO sqlalchemy.engine.base.Engine SELECT sql FROM  (SELECT * FROM sqlite_master UNION ALL   SELECT * FROM sqlite_temp_master) WHERE name = 'Album' AND type = 'table'\n",
      "2018-07-10 16:32:13,387 INFO sqlalchemy.engine.base.Engine ()\n",
      "2018-07-10 16:32:13,389 INFO sqlalchemy.engine.base.Engine PRAGMA table_info(\"Genre\")\n",
      "2018-07-10 16:32:13,390 INFO sqlalchemy.engine.base.Engine ()\n",
      "2018-07-10 16:32:13,392 INFO sqlalchemy.engine.base.Engine SELECT sql FROM  (SELECT * FROM sqlite_master UNION ALL   SELECT * FROM sqlite_temp_master) WHERE name = 'Genre' AND type = 'table'\n",
      "2018-07-10 16:32:13,392 INFO sqlalchemy.engine.base.Engine ()\n",
      "2018-07-10 16:32:13,394 INFO sqlalchemy.engine.base.Engine PRAGMA foreign_key_list(\"Genre\")\n",
      "2018-07-10 16:32:13,397 INFO sqlalchemy.engine.base.Engine ()\n",
      "2018-07-10 16:32:13,399 INFO sqlalchemy.engine.base.Engine SELECT sql FROM  (SELECT * FROM sqlite_master UNION ALL   SELECT * FROM sqlite_temp_master) WHERE name = 'Genre' AND type = 'table'\n",
      "2018-07-10 16:32:13,400 INFO sqlalchemy.engine.base.Engine ()\n",
      "2018-07-10 16:32:13,403 INFO sqlalchemy.engine.base.Engine PRAGMA index_list(\"Genre\")\n",
      "2018-07-10 16:32:13,404 INFO sqlalchemy.engine.base.Engine ()\n",
      "2018-07-10 16:32:13,406 INFO sqlalchemy.engine.base.Engine PRAGMA index_list(\"Genre\")\n",
      "2018-07-10 16:32:13,407 INFO sqlalchemy.engine.base.Engine ()\n",
      "2018-07-10 16:32:13,408 INFO sqlalchemy.engine.base.Engine SELECT sql FROM  (SELECT * FROM sqlite_master UNION ALL   SELECT * FROM sqlite_temp_master) WHERE name = 'Genre' AND type = 'table'\n",
      "2018-07-10 16:32:13,409 INFO sqlalchemy.engine.base.Engine ()\n",
      "2018-07-10 16:32:13,411 INFO sqlalchemy.engine.base.Engine PRAGMA table_info(\"Track\")\n",
      "2018-07-10 16:32:13,411 INFO sqlalchemy.engine.base.Engine ()\n",
      "2018-07-10 16:32:13,413 INFO sqlalchemy.engine.base.Engine SELECT sql FROM  (SELECT * FROM sqlite_master UNION ALL   SELECT * FROM sqlite_temp_master) WHERE name = 'Track' AND type = 'table'\n",
      "2018-07-10 16:32:13,414 INFO sqlalchemy.engine.base.Engine ()\n",
      "2018-07-10 16:32:13,416 INFO sqlalchemy.engine.base.Engine PRAGMA foreign_key_list(\"Track\")\n",
      "2018-07-10 16:32:13,416 INFO sqlalchemy.engine.base.Engine ()\n",
      "2018-07-10 16:32:13,418 INFO sqlalchemy.engine.base.Engine SELECT sql FROM  (SELECT * FROM sqlite_master UNION ALL   SELECT * FROM sqlite_temp_master) WHERE name = 'Track' AND type = 'table'\n",
      "2018-07-10 16:32:13,419 INFO sqlalchemy.engine.base.Engine ()\n",
      "2018-07-10 16:32:13,422 INFO sqlalchemy.engine.base.Engine PRAGMA index_list(\"Track\")\n",
      "2018-07-10 16:32:13,423 INFO sqlalchemy.engine.base.Engine ()\n",
      "2018-07-10 16:32:13,426 INFO sqlalchemy.engine.base.Engine PRAGMA index_list(\"Track\")\n",
      "2018-07-10 16:32:13,427 INFO sqlalchemy.engine.base.Engine ()\n",
      "2018-07-10 16:32:13,430 INFO sqlalchemy.engine.base.Engine SELECT sql FROM  (SELECT * FROM sqlite_master UNION ALL   SELECT * FROM sqlite_temp_master) WHERE name = 'Track' AND type = 'table'\n",
      "2018-07-10 16:32:13,430 INFO sqlalchemy.engine.base.Engine ()\n",
      "2018-07-10 16:32:13,433 INFO sqlalchemy.engine.base.Engine PRAGMA table_info(\"adress\")\n",
      "2018-07-10 16:32:13,434 INFO sqlalchemy.engine.base.Engine ()\n",
      "2018-07-10 16:32:13,436 INFO sqlalchemy.engine.base.Engine SELECT sql FROM  (SELECT * FROM sqlite_master UNION ALL   SELECT * FROM sqlite_temp_master) WHERE name = 'adress' AND type = 'table'\n",
      "2018-07-10 16:32:13,438 INFO sqlalchemy.engine.base.Engine ()\n",
      "2018-07-10 16:32:13,440 INFO sqlalchemy.engine.base.Engine PRAGMA foreign_key_list(\"adress\")\n",
      "2018-07-10 16:32:13,440 INFO sqlalchemy.engine.base.Engine ()\n",
      "2018-07-10 16:32:13,442 INFO sqlalchemy.engine.base.Engine SELECT sql FROM  (SELECT * FROM sqlite_master UNION ALL   SELECT * FROM sqlite_temp_master) WHERE name = 'adress' AND type = 'table'\n",
      "2018-07-10 16:32:13,443 INFO sqlalchemy.engine.base.Engine ()\n",
      "2018-07-10 16:32:13,445 INFO sqlalchemy.engine.base.Engine PRAGMA table_info(\"users\")\n",
      "2018-07-10 16:32:13,446 INFO sqlalchemy.engine.base.Engine ()\n",
      "2018-07-10 16:32:13,448 INFO sqlalchemy.engine.base.Engine SELECT sql FROM  (SELECT * FROM sqlite_master UNION ALL   SELECT * FROM sqlite_temp_master) WHERE name = 'users' AND type = 'table'\n",
      "2018-07-10 16:32:13,449 INFO sqlalchemy.engine.base.Engine ()\n",
      "2018-07-10 16:32:13,451 INFO sqlalchemy.engine.base.Engine PRAGMA foreign_key_list(\"users\")\n",
      "2018-07-10 16:32:13,452 INFO sqlalchemy.engine.base.Engine ()\n",
      "2018-07-10 16:32:13,453 INFO sqlalchemy.engine.base.Engine SELECT sql FROM  (SELECT * FROM sqlite_master UNION ALL   SELECT * FROM sqlite_temp_master) WHERE name = 'users' AND type = 'table'\n",
      "2018-07-10 16:32:13,454 INFO sqlalchemy.engine.base.Engine ()\n",
      "2018-07-10 16:32:13,455 INFO sqlalchemy.engine.base.Engine PRAGMA index_list(\"users\")\n",
      "2018-07-10 16:32:13,456 INFO sqlalchemy.engine.base.Engine ()\n",
      "2018-07-10 16:32:13,458 INFO sqlalchemy.engine.base.Engine PRAGMA index_list(\"users\")\n",
      "2018-07-10 16:32:13,459 INFO sqlalchemy.engine.base.Engine ()\n",
      "2018-07-10 16:32:13,460 INFO sqlalchemy.engine.base.Engine SELECT sql FROM  (SELECT * FROM sqlite_master UNION ALL   SELECT * FROM sqlite_temp_master) WHERE name = 'users' AND type = 'table'\n",
      "2018-07-10 16:32:13,461 INFO sqlalchemy.engine.base.Engine ()\n",
      "2018-07-10 16:32:13,463 INFO sqlalchemy.engine.base.Engine PRAGMA index_list(\"adress\")\n",
      "2018-07-10 16:32:13,464 INFO sqlalchemy.engine.base.Engine ()\n",
      "2018-07-10 16:32:13,465 INFO sqlalchemy.engine.base.Engine PRAGMA index_list(\"adress\")\n",
      "2018-07-10 16:32:13,466 INFO sqlalchemy.engine.base.Engine ()\n",
      "2018-07-10 16:32:13,467 INFO sqlalchemy.engine.base.Engine SELECT sql FROM  (SELECT * FROM sqlite_master UNION ALL   SELECT * FROM sqlite_temp_master) WHERE name = 'adress' AND type = 'table'\n"
     ]
    },
    {
     "name": "stdout",
     "output_type": "stream",
     "text": [
      "2018-07-10 16:32:13,468 INFO sqlalchemy.engine.base.Engine ()\n",
      "2018-07-10 16:32:13,471 INFO sqlalchemy.engine.base.Engine SELECT name FROM sqlite_master WHERE type='table' ORDER BY name\n",
      "2018-07-10 16:32:13,471 INFO sqlalchemy.engine.base.Engine ()\n",
      "Album\n",
      "Artist\n",
      "Genre\n",
      "Track\n",
      "adress\n",
      "users\n"
     ]
    },
    {
     "name": "stderr",
     "output_type": "stream",
     "text": [
      "C:\\Users\\user\\Anaconda3\\lib\\site-packages\\ipykernel_launcher.py:1: SADeprecationWarning: reflect=True is deprecate; please use the reflect() method.\n",
      "  \"\"\"Entry point for launching an IPython kernel.\n"
     ]
    }
   ],
   "source": [
    "metadata = MetaData(bind = engine, reflect = True)\n",
    "metadata.reflect(bind = engine)\n",
    "\n",
    "for row in metadata.tables :\n",
    "    print(row)"
   ]
  },
  {
   "cell_type": "code",
   "execution_count": 13,
   "metadata": {},
   "outputs": [
    {
     "name": "stdout",
     "output_type": "stream",
     "text": [
      "2018-07-10 16:32:13,535 INFO sqlalchemy.engine.base.Engine SELECT name FROM sqlite_master WHERE type='table' ORDER BY name\n",
      "2018-07-10 16:32:13,536 INFO sqlalchemy.engine.base.Engine ()\n"
     ]
    }
   ],
   "source": [
    "metadata.reflect(bind = engine)"
   ]
  },
  {
   "cell_type": "code",
   "execution_count": 14,
   "metadata": {},
   "outputs": [
    {
     "name": "stdout",
     "output_type": "stream",
     "text": [
      "Album\n",
      "Artist\n",
      "Genre\n",
      "Track\n",
      "adress\n",
      "users\n"
     ]
    }
   ],
   "source": [
    "for row in metadata.tables :\n",
    "    print(row)"
   ]
  },
  {
   "cell_type": "code",
   "execution_count": 15,
   "metadata": {},
   "outputs": [
    {
     "name": "stdout",
     "output_type": "stream",
     "text": [
      "Album\n",
      "Artist\n",
      "Genre\n",
      "Track\n",
      "adress\n",
      "users\n"
     ]
    }
   ],
   "source": [
    "tables = metadata.tables\n",
    "for table in tables :\n",
    "    print(table)"
   ]
  },
  {
   "cell_type": "code",
   "execution_count": 16,
   "metadata": {},
   "outputs": [
    {
     "data": {
      "text/plain": [
       "Table('Track', MetaData(bind=Engine(sqlite:///alchemy.db)), Column('id', INTEGER(), table=<Track>, primary_key=True, nullable=False), Column('title', VARCHAR(), table=<Track>, nullable=False), Column('length', INTEGER(), table=<Track>, nullable=False), Column('rating', INTEGER(), table=<Track>, nullable=False), Column('count', INTEGER(), table=<Track>, nullable=False), Column('album_id', INTEGER(), ForeignKey('Album.id'), table=<Track>), Column('genre_id', INTEGER(), ForeignKey('Genre.id'), table=<Track>), schema=None)"
      ]
     },
     "execution_count": 16,
     "metadata": {},
     "output_type": "execute_result"
    }
   ],
   "source": [
    "track = metadata.tables['Track']\n",
    "track"
   ]
  },
  {
   "cell_type": "code",
   "execution_count": 17,
   "metadata": {},
   "outputs": [
    {
     "name": "stdout",
     "output_type": "stream",
     "text": [
      "2018-07-10 16:34:42,028 INFO sqlalchemy.engine.base.Engine SELECT \"Track\".id, \"Track\".title, \"Track\".length, \"Track\".rating, \"Track\".count, \"Track\".album_id, \"Track\".genre_id \n",
      "FROM \"Track\"\n",
      "2018-07-10 16:34:42,029 INFO sqlalchemy.engine.base.Engine ()\n",
      "(1, 'Black Dog', 297, 5, 0, 1, 1)\n",
      "(2, 'Stairway', 482, 5, 0, 1, 2)\n",
      "(3, 'About to Rock', 482, 5, 0, 2, 1)\n",
      "(4, 'who made who', 482, 5, 0, 2, 2)\n"
     ]
    }
   ],
   "source": [
    "for row in conn.execute(track.select()).fetchall():\n",
    "    print(row)"
   ]
  },
  {
   "cell_type": "code",
   "execution_count": 18,
   "metadata": {},
   "outputs": [],
   "source": [
    "conn.close()\n",
    "metadata.clear()"
   ]
  },
  {
   "cell_type": "markdown",
   "metadata": {},
   "source": [
    "## ORM"
   ]
  },
  {
   "cell_type": "code",
   "execution_count": null,
   "metadata": {},
   "outputs": [],
   "source": []
  }
 ],
 "metadata": {
  "kernelspec": {
   "display_name": "Python 3",
   "language": "python",
   "name": "python3"
  },
  "language_info": {
   "codemirror_mode": {
    "name": "ipython",
    "version": 3
   },
   "file_extension": ".py",
   "mimetype": "text/x-python",
   "name": "python",
   "nbconvert_exporter": "python",
   "pygments_lexer": "ipython3",
   "version": "3.6.5"
  }
 },
 "nbformat": 4,
 "nbformat_minor": 2
}
