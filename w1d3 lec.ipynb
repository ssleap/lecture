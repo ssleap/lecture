{
 "cells": [
  {
   "cell_type": "markdown",
   "metadata": {},
   "source": [
    "# Git & Github "
   ]
  },
  {
   "cell_type": "markdown",
   "metadata": {},
   "source": [
    "### 개요\n",
    "git 은 버전관리 도구이다. 서로 작업하고 있는 코드가 매칭이 되느냐를 관리해주는 형상관리 툴의 일종.\n"
   ]
  },
  {
   "cell_type": "markdown",
   "metadata": {},
   "source": [
    "### 버전관리 시스템의 종류\n",
    "- 로컬버전관리 : 파일의 지역적 관리가 목표. 팀프로젝트엔 활용 부적합. \n",
    "- 중앙 집중식 버전 관리 : 중앙서버에서 버전관리. 중앙서버가 죽으면 문제가 크다. \n",
    "- 분산 버전 관리 시스템 : 로컬 + 중앙 집중. 로컬에서 서버의 저장소를 복제하여 활용한다. git이 여기에 해당."
   ]
  },
  {
   "cell_type": "markdown",
   "metadata": {},
   "source": [
    "### git\n",
    "버전관리 툴은 SVN, 서브비전, git 등이 있다. 앞에 두개는 중앙 집중식 버전관리 시스템을 이용하고 git은 분산버전 관리 시스템을 이용한다. SVN은 순차적인 파일 업데이트를 하는 대신 가볍다. git은 파일을 저장할 때마다 저장 (예를들어 SVN은 핸드폰 운영체제 업데이트를 10번 순차적으로 하고, git은 한번만 하는 구조) 대신 깃은 무겁다. 파일이 변경 될 때마다 저장하는 것을 스냅샷이라고 한다. "
   ]
  },
  {
   "cell_type": "markdown",
   "metadata": {},
   "source": [
    "### 명령어\n",
    "1. git add <파일명> : 로컬 리포지토리에 파일을 등록한다. ***\n",
    "2. git commit : 중앙 서버에 파일을 등록한다. ***\n",
    "- -a : commit과 add를 한꺼번에. 대신 원래 add가 된 애들만.\n",
    "- -m  <\"message\"> : commit하면서 message 전달\n",
    "- --amend : 마지막에 했던 commit을 새롭게 수정할 수 있게 하는 역할. reset --soft와 똑같은 역할.\n",
    "3. git log : 작업한 역사를 보여준다. \n",
    "4. git staus : 파일의 상태( 변경여부 등) 을 알려준다. \n",
    "5. git diff : +표시는 새로 추가된 코드. 코드간 비교를 해준다. \n",
    " \n",
    "\n",
    "6.  git reset <commit name\"> : default는 한단계 전으로 돌아간다. commit name 을 입력하면 그 부분으로 돌아간다. 롤백해도 원래 로그는 남아있다.\n",
    "- --hard : 파일까지 원래대로 초기화. 다시 앞으로 못돌아간다. \n",
    "- --mixed : \n",
    "- --soft : commit 메시지 부분 초기화\n",
    "- --soft HEAD : "
   ]
  },
  {
   "attachments": {},
   "cell_type": "markdown",
   "metadata": {},
   "source": [
    "### git 의 파일상태\n",
    "1. untracked : add가 되지않음 ***\n",
    "2. unmodified : commit되었고 파일이 수정되지 않음 ***\n",
    "3. modified : 파일이 수정되었으나 commit되지 않음\n",
    "4. staged : 현재 수정한 파일을 곧 commit할 것이라고 표시(실제로 commit 되지는 않음)\n",
    "5. Committed : 로컬 레포지토리에 변경 사항이 안전하게 저장됨."
   ]
  },
  {
   "cell_type": "markdown",
   "metadata": {},
   "source": [
    "### git diff\n",
    "git diff는 modified 에 대해서 살펴보겠다는 것. 단, --staged 옵션을 주면 stage단계에 넘어간 것도 비교해 볼 수 있다. "
   ]
  },
  {
   "cell_type": "code",
   "execution_count": null,
   "metadata": {},
   "outputs": [],
   "source": []
  }
 ],
 "metadata": {
  "kernelspec": {
   "display_name": "Python 3",
   "language": "python",
   "name": "python3"
  },
  "language_info": {
   "codemirror_mode": {
    "name": "ipython",
    "version": 3
   },
   "file_extension": ".py",
   "mimetype": "text/x-python",
   "name": "python",
   "nbconvert_exporter": "python",
   "pygments_lexer": "ipython3",
   "version": "3.6.5"
  }
 },
 "nbformat": 4,
 "nbformat_minor": 2
}
