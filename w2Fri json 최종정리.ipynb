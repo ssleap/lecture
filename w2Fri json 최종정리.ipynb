{
 "cells": [
  {
   "cell_type": "code",
   "execution_count": 36,
   "metadata": {},
   "outputs": [],
   "source": [
    "import json"
   ]
  },
  {
   "cell_type": "code",
   "execution_count": 37,
   "metadata": {},
   "outputs": [],
   "source": [
    "from urllib import parse"
   ]
  },
  {
   "cell_type": "code",
   "execution_count": 38,
   "metadata": {},
   "outputs": [],
   "source": [
    "import urllib"
   ]
  },
  {
   "cell_type": "code",
   "execution_count": 39,
   "metadata": {},
   "outputs": [],
   "source": [
    "from urllib import request"
   ]
  },
  {
   "cell_type": "code",
   "execution_count": 42,
   "metadata": {},
   "outputs": [],
   "source": [
    "url = 'http://openapi.airkorea.or.kr/openapi/services/rest/ArpltnInforInqireSvc/getCtprvnRltmMesureDnsty'"
   ]
  },
  {
   "cell_type": "code",
   "execution_count": 43,
   "metadata": {},
   "outputs": [],
   "source": [
    "params = {\n",
    "    'serviceKey' : 'sjc4mmX%2FYsEie54QsVIEZVrWfkgaO44OWimEARmGFWWCr0a8%2BtyL8fJnF2PcTc5FWEV5ayrD1lG%2B4UA7r8SbzQ%3D%3D',\n",
    "    'numOfRows' : 10,\n",
    "    'pageSize' : 10,\n",
    "    'startPage' : 1,\n",
    "    'sidoName' : '제주',\n",
    "    'searchOndition' : 'HOUR',\n",
    "    \n",
    "    #'_returnType' : 'json',\n",
    "    \n",
    "}"
   ]
  },
  {
   "cell_type": "code",
   "execution_count": 44,
   "metadata": {},
   "outputs": [],
   "source": [
    "params['serviceKey'] = urllib.parse.unquote(params['serviceKey'])"
   ]
  },
  {
   "cell_type": "code",
   "execution_count": 45,
   "metadata": {},
   "outputs": [
    {
     "data": {
      "text/plain": [
       "'sjc4mmX/YsEie54QsVIEZVrWfkgaO44OWimEARmGFWWCr0a8+tyL8fJnF2PcTc5FWEV5ayrD1lG+4UA7r8SbzQ=='"
      ]
     },
     "execution_count": 45,
     "metadata": {},
     "output_type": "execute_result"
    }
   ],
   "source": [
    "params['serviceKey']"
   ]
  },
  {
   "cell_type": "code",
   "execution_count": 46,
   "metadata": {},
   "outputs": [],
   "source": [
    "paramUrl = parse.urlencode(params)"
   ]
  },
  {
   "cell_type": "code",
   "execution_count": 47,
   "metadata": {},
   "outputs": [
    {
     "data": {
      "text/plain": [
       "'serviceKey=sjc4mmX%2FYsEie54QsVIEZVrWfkgaO44OWimEARmGFWWCr0a8%2BtyL8fJnF2PcTc5FWEV5ayrD1lG%2B4UA7r8SbzQ%3D%3D&numOfRows=10&pageSize=10&startPage=1&sidoName=%EC%A0%9C%EC%A3%BC&searchOndition=HOUR'"
      ]
     },
     "execution_count": 47,
     "metadata": {},
     "output_type": "execute_result"
    }
   ],
   "source": [
    "paramUrl"
   ]
  },
  {
   "cell_type": "code",
   "execution_count": 48,
   "metadata": {},
   "outputs": [],
   "source": [
    "paramBytes = paramUrl.encode(\"utf-8\")"
   ]
  },
  {
   "cell_type": "code",
   "execution_count": 49,
   "metadata": {},
   "outputs": [],
   "source": [
    "req = urllib.request.Request(url, data = paramBytes)"
   ]
  },
  {
   "cell_type": "code",
   "execution_count": 50,
   "metadata": {},
   "outputs": [
    {
     "data": {
      "text/plain": [
       "<urllib.request.Request at 0x28f16b225f8>"
      ]
     },
     "execution_count": 50,
     "metadata": {},
     "output_type": "execute_result"
    }
   ],
   "source": [
    "req"
   ]
  },
  {
   "cell_type": "code",
   "execution_count": 51,
   "metadata": {},
   "outputs": [],
   "source": [
    "res = request.urlopen(req)"
   ]
  },
  {
   "cell_type": "code",
   "execution_count": 52,
   "metadata": {},
   "outputs": [
    {
     "data": {
      "text/plain": [
       "<http.client.HTTPResponse at 0x28f16b22860>"
      ]
     },
     "execution_count": 52,
     "metadata": {},
     "output_type": "execute_result"
    }
   ],
   "source": [
    "res"
   ]
  },
  {
   "cell_type": "code",
   "execution_count": 53,
   "metadata": {},
   "outputs": [],
   "source": [
    "result = res.read()"
   ]
  },
  {
   "cell_type": "code",
   "execution_count": 54,
   "metadata": {},
   "outputs": [
    {
     "data": {
      "text/plain": [
       "b'<?xml version=\"1.0\" encoding=\"UTF-8\"?>\\r\\n\\r\\n\\r\\n\\r\\n\\r\\n<response>\\r\\n\\t<header>\\r\\n\\t\\t<resultCode>00</resultCode>\\r\\n\\t\\t<resultMsg>NORMAL SERVICE.</resultMsg>\\r\\n\\t</header>\\r\\n\\t<body>\\r\\n\\t\\t<items>\\r\\n\\t\\t\\t\\r\\n\\t\\t\\t\\t<item>\\r\\n\\t\\t\\t\\t\\t<stationName>\\xec\\x9d\\xb4\\xeb\\x8f\\x84\\xeb\\x8f\\x99</stationName>\\r\\n\\t\\t\\t\\t\\t\\r\\n\\t\\t\\t\\t\\t<dataTime>2018-07-13 17:00</dataTime>\\r\\n\\t\\t\\t\\t\\t<so2Value>0.009</so2Value>\\r\\n\\t\\t\\t\\t\\t<coValue>0.2</coValue>\\r\\n\\t\\t\\t\\t\\t<o3Value>0.020</o3Value>\\r\\n\\t\\t\\t\\t\\t<no2Value>0.013</no2Value>\\r\\n\\t\\t\\t\\t\\t<pm10Value>23</pm10Value>\\r\\n\\t\\t\\t\\t\\t\\r\\n\\t\\t\\t\\t\\t\\r\\n\\t\\t\\t\\t    \\r\\n\\t\\t\\t\\t\\t<khaiValue>54</khaiValue>\\r\\n\\t\\t\\t\\t\\t<khaiGrade>2</khaiGrade>\\r\\n\\t\\t\\t\\t\\t<so2Grade>1</so2Grade>\\r\\n\\t\\t\\t\\t\\t<coGrade>1</coGrade>\\r\\n\\t\\t\\t\\t\\t<o3Grade>1</o3Grade>\\r\\n\\t\\t\\t\\t\\t<no2Grade>1</no2Grade>\\r\\n\\t\\t\\t\\t\\t<pm10Grade>1</pm10Grade>\\r\\n\\t\\t\\t\\t\\t\\r\\n\\t\\t\\t\\t    \\r\\n\\t\\t\\t\\t</item>\\r\\n\\t\\t\\t\\r\\n\\t\\t\\t\\t<item>\\r\\n\\t\\t\\t\\t\\t<stationName>\\xec\\x97\\xb0\\xeb\\x8f\\x99</stationName>\\r\\n\\t\\t\\t\\t\\t\\r\\n\\t\\t\\t\\t\\t<dataTime>2018-07-13 17:00</dataTime>\\r\\n\\t\\t\\t\\t\\t<so2Value>0.006</so2Value>\\r\\n\\t\\t\\t\\t\\t<coValue>0.2</coValue>\\r\\n\\t\\t\\t\\t\\t<o3Value>0.023</o3Value>\\r\\n\\t\\t\\t\\t\\t<no2Value>0.008</no2Value>\\r\\n\\t\\t\\t\\t\\t<pm10Value>30</pm10Value>\\r\\n\\t\\t\\t\\t\\t\\r\\n\\t\\t\\t\\t\\t\\r\\n\\t\\t\\t\\t    \\r\\n\\t\\t\\t\\t\\t<khaiValue>43</khaiValue>\\r\\n\\t\\t\\t\\t\\t<khaiGrade>1</khaiGrade>\\r\\n\\t\\t\\t\\t\\t<so2Grade>1</so2Grade>\\r\\n\\t\\t\\t\\t\\t<coGrade>1</coGrade>\\r\\n\\t\\t\\t\\t\\t<o3Grade>1</o3Grade>\\r\\n\\t\\t\\t\\t\\t<no2Grade>1</no2Grade>\\r\\n\\t\\t\\t\\t\\t<pm10Grade>1</pm10Grade>\\r\\n\\t\\t\\t\\t\\t\\r\\n\\t\\t\\t\\t    \\r\\n\\t\\t\\t\\t</item>\\r\\n\\t\\t\\t\\r\\n\\t\\t\\t\\t<item>\\r\\n\\t\\t\\t\\t\\t<stationName>\\xeb\\x8f\\x99\\xed\\x99\\x8d\\xeb\\x8f\\x99</stationName>\\r\\n\\t\\t\\t\\t\\t\\r\\n\\t\\t\\t\\t\\t<dataTime>2018-07-13 17:00</dataTime>\\r\\n\\t\\t\\t\\t\\t<so2Value>0.003</so2Value>\\r\\n\\t\\t\\t\\t\\t<coValue>-</coValue>\\r\\n\\t\\t\\t\\t\\t<o3Value>0.021</o3Value>\\r\\n\\t\\t\\t\\t\\t<no2Value>0.003</no2Value>\\r\\n\\t\\t\\t\\t\\t<pm10Value>16</pm10Value>\\r\\n\\t\\t\\t\\t\\t\\r\\n\\t\\t\\t\\t\\t\\r\\n\\t\\t\\t\\t    \\r\\n\\t\\t\\t\\t\\t<khaiValue>-</khaiValue>\\r\\n\\t\\t\\t\\t\\t<khaiGrade></khaiGrade>\\r\\n\\t\\t\\t\\t\\t<so2Grade>1</so2Grade>\\r\\n\\t\\t\\t\\t\\t<coGrade></coGrade>\\r\\n\\t\\t\\t\\t\\t<o3Grade>1</o3Grade>\\r\\n\\t\\t\\t\\t\\t<no2Grade>1</no2Grade>\\r\\n\\t\\t\\t\\t\\t<pm10Grade>1</pm10Grade>\\r\\n\\t\\t\\t\\t\\t\\r\\n\\t\\t\\t\\t    \\r\\n\\t\\t\\t\\t</item>\\r\\n\\t\\t\\t\\r\\n\\t\\t\\t\\t<item>\\r\\n\\t\\t\\t\\t\\t<stationName>\\xec\\x84\\xb1\\xec\\x82\\xb0\\xec\\x9d\\x8d</stationName>\\r\\n\\t\\t\\t\\t\\t\\r\\n\\t\\t\\t\\t\\t<dataTime>2018-07-13 17:00</dataTime>\\r\\n\\t\\t\\t\\t\\t<so2Value>0.002</so2Value>\\r\\n\\t\\t\\t\\t\\t<coValue>0.0</coValue>\\r\\n\\t\\t\\t\\t\\t<o3Value>0.019</o3Value>\\r\\n\\t\\t\\t\\t\\t<no2Value>0.004</no2Value>\\r\\n\\t\\t\\t\\t\\t<pm10Value>30</pm10Value>\\r\\n\\t\\t\\t\\t\\t\\r\\n\\t\\t\\t\\t\\t\\r\\n\\t\\t\\t\\t    \\r\\n\\t\\t\\t\\t\\t<khaiValue>52</khaiValue>\\r\\n\\t\\t\\t\\t\\t<khaiGrade>2</khaiGrade>\\r\\n\\t\\t\\t\\t\\t<so2Grade>1</so2Grade>\\r\\n\\t\\t\\t\\t\\t<coGrade>1</coGrade>\\r\\n\\t\\t\\t\\t\\t<o3Grade>1</o3Grade>\\r\\n\\t\\t\\t\\t\\t<no2Grade>1</no2Grade>\\r\\n\\t\\t\\t\\t\\t<pm10Grade>2</pm10Grade>\\r\\n\\t\\t\\t\\t\\t\\r\\n\\t\\t\\t\\t    \\r\\n\\t\\t\\t\\t</item>\\r\\n\\t\\t\\t\\r\\n\\t\\t\\t\\t<item>\\r\\n\\t\\t\\t\\t\\t<stationName>\\xea\\xb3\\xa0\\xec\\x82\\xb0\\xeb\\xa6\\xac</stationName>\\r\\n\\t\\t\\t\\t\\t\\r\\n\\t\\t\\t\\t\\t<dataTime>2018-07-13 17:00</dataTime>\\r\\n\\t\\t\\t\\t\\t<so2Value>0.001</so2Value>\\r\\n\\t\\t\\t\\t\\t<coValue>0.1</coValue>\\r\\n\\t\\t\\t\\t\\t<o3Value>0.009</o3Value>\\r\\n\\t\\t\\t\\t\\t<no2Value>0.001</no2Value>\\r\\n\\t\\t\\t\\t\\t<pm10Value>-</pm10Value>\\r\\n\\t\\t\\t\\t\\t\\r\\n\\t\\t\\t\\t\\t\\r\\n\\t\\t\\t\\t    \\r\\n\\t\\t\\t\\t\\t<khaiValue>-</khaiValue>\\r\\n\\t\\t\\t\\t\\t<khaiGrade></khaiGrade>\\r\\n\\t\\t\\t\\t\\t<so2Grade>1</so2Grade>\\r\\n\\t\\t\\t\\t\\t<coGrade>1</coGrade>\\r\\n\\t\\t\\t\\t\\t<o3Grade>1</o3Grade>\\r\\n\\t\\t\\t\\t\\t<no2Grade>1</no2Grade>\\r\\n\\t\\t\\t\\t\\t<pm10Grade></pm10Grade>\\r\\n\\t\\t\\t\\t\\t\\r\\n\\t\\t\\t\\t    \\r\\n\\t\\t\\t\\t</item>\\r\\n\\t\\t\\t\\r\\n\\t\\t</items>\\r\\n\\t\\t\\t<numOfRows>10</numOfRows>\\r\\n\\t\\t\\t<pageNo>1</pageNo>\\r\\n\\t\\t\\t<totalCount>5</totalCount>\\r\\n\\t</body>\\r\\n</response>\\r\\n'"
      ]
     },
     "execution_count": 54,
     "metadata": {},
     "output_type": "execute_result"
    }
   ],
   "source": [
    "result"
   ]
  },
  {
   "cell_type": "code",
   "execution_count": 55,
   "metadata": {},
   "outputs": [],
   "source": [
    "resultStr = result.decode(\"utf-8\")"
   ]
  },
  {
   "cell_type": "code",
   "execution_count": 56,
   "metadata": {},
   "outputs": [
    {
     "data": {
      "text/plain": [
       "'<?xml version=\"1.0\" encoding=\"UTF-8\"?>\\r\\n\\r\\n\\r\\n\\r\\n\\r\\n<response>\\r\\n\\t<header>\\r\\n\\t\\t<resultCode>00</resultCode>\\r\\n\\t\\t<resultMsg>NORMAL SERVICE.</resultMsg>\\r\\n\\t</header>\\r\\n\\t<body>\\r\\n\\t\\t<items>\\r\\n\\t\\t\\t\\r\\n\\t\\t\\t\\t<item>\\r\\n\\t\\t\\t\\t\\t<stationName>이도동</stationName>\\r\\n\\t\\t\\t\\t\\t\\r\\n\\t\\t\\t\\t\\t<dataTime>2018-07-13 17:00</dataTime>\\r\\n\\t\\t\\t\\t\\t<so2Value>0.009</so2Value>\\r\\n\\t\\t\\t\\t\\t<coValue>0.2</coValue>\\r\\n\\t\\t\\t\\t\\t<o3Value>0.020</o3Value>\\r\\n\\t\\t\\t\\t\\t<no2Value>0.013</no2Value>\\r\\n\\t\\t\\t\\t\\t<pm10Value>23</pm10Value>\\r\\n\\t\\t\\t\\t\\t\\r\\n\\t\\t\\t\\t\\t\\r\\n\\t\\t\\t\\t    \\r\\n\\t\\t\\t\\t\\t<khaiValue>54</khaiValue>\\r\\n\\t\\t\\t\\t\\t<khaiGrade>2</khaiGrade>\\r\\n\\t\\t\\t\\t\\t<so2Grade>1</so2Grade>\\r\\n\\t\\t\\t\\t\\t<coGrade>1</coGrade>\\r\\n\\t\\t\\t\\t\\t<o3Grade>1</o3Grade>\\r\\n\\t\\t\\t\\t\\t<no2Grade>1</no2Grade>\\r\\n\\t\\t\\t\\t\\t<pm10Grade>1</pm10Grade>\\r\\n\\t\\t\\t\\t\\t\\r\\n\\t\\t\\t\\t    \\r\\n\\t\\t\\t\\t</item>\\r\\n\\t\\t\\t\\r\\n\\t\\t\\t\\t<item>\\r\\n\\t\\t\\t\\t\\t<stationName>연동</stationName>\\r\\n\\t\\t\\t\\t\\t\\r\\n\\t\\t\\t\\t\\t<dataTime>2018-07-13 17:00</dataTime>\\r\\n\\t\\t\\t\\t\\t<so2Value>0.006</so2Value>\\r\\n\\t\\t\\t\\t\\t<coValue>0.2</coValue>\\r\\n\\t\\t\\t\\t\\t<o3Value>0.023</o3Value>\\r\\n\\t\\t\\t\\t\\t<no2Value>0.008</no2Value>\\r\\n\\t\\t\\t\\t\\t<pm10Value>30</pm10Value>\\r\\n\\t\\t\\t\\t\\t\\r\\n\\t\\t\\t\\t\\t\\r\\n\\t\\t\\t\\t    \\r\\n\\t\\t\\t\\t\\t<khaiValue>43</khaiValue>\\r\\n\\t\\t\\t\\t\\t<khaiGrade>1</khaiGrade>\\r\\n\\t\\t\\t\\t\\t<so2Grade>1</so2Grade>\\r\\n\\t\\t\\t\\t\\t<coGrade>1</coGrade>\\r\\n\\t\\t\\t\\t\\t<o3Grade>1</o3Grade>\\r\\n\\t\\t\\t\\t\\t<no2Grade>1</no2Grade>\\r\\n\\t\\t\\t\\t\\t<pm10Grade>1</pm10Grade>\\r\\n\\t\\t\\t\\t\\t\\r\\n\\t\\t\\t\\t    \\r\\n\\t\\t\\t\\t</item>\\r\\n\\t\\t\\t\\r\\n\\t\\t\\t\\t<item>\\r\\n\\t\\t\\t\\t\\t<stationName>동홍동</stationName>\\r\\n\\t\\t\\t\\t\\t\\r\\n\\t\\t\\t\\t\\t<dataTime>2018-07-13 17:00</dataTime>\\r\\n\\t\\t\\t\\t\\t<so2Value>0.003</so2Value>\\r\\n\\t\\t\\t\\t\\t<coValue>-</coValue>\\r\\n\\t\\t\\t\\t\\t<o3Value>0.021</o3Value>\\r\\n\\t\\t\\t\\t\\t<no2Value>0.003</no2Value>\\r\\n\\t\\t\\t\\t\\t<pm10Value>16</pm10Value>\\r\\n\\t\\t\\t\\t\\t\\r\\n\\t\\t\\t\\t\\t\\r\\n\\t\\t\\t\\t    \\r\\n\\t\\t\\t\\t\\t<khaiValue>-</khaiValue>\\r\\n\\t\\t\\t\\t\\t<khaiGrade></khaiGrade>\\r\\n\\t\\t\\t\\t\\t<so2Grade>1</so2Grade>\\r\\n\\t\\t\\t\\t\\t<coGrade></coGrade>\\r\\n\\t\\t\\t\\t\\t<o3Grade>1</o3Grade>\\r\\n\\t\\t\\t\\t\\t<no2Grade>1</no2Grade>\\r\\n\\t\\t\\t\\t\\t<pm10Grade>1</pm10Grade>\\r\\n\\t\\t\\t\\t\\t\\r\\n\\t\\t\\t\\t    \\r\\n\\t\\t\\t\\t</item>\\r\\n\\t\\t\\t\\r\\n\\t\\t\\t\\t<item>\\r\\n\\t\\t\\t\\t\\t<stationName>성산읍</stationName>\\r\\n\\t\\t\\t\\t\\t\\r\\n\\t\\t\\t\\t\\t<dataTime>2018-07-13 17:00</dataTime>\\r\\n\\t\\t\\t\\t\\t<so2Value>0.002</so2Value>\\r\\n\\t\\t\\t\\t\\t<coValue>0.0</coValue>\\r\\n\\t\\t\\t\\t\\t<o3Value>0.019</o3Value>\\r\\n\\t\\t\\t\\t\\t<no2Value>0.004</no2Value>\\r\\n\\t\\t\\t\\t\\t<pm10Value>30</pm10Value>\\r\\n\\t\\t\\t\\t\\t\\r\\n\\t\\t\\t\\t\\t\\r\\n\\t\\t\\t\\t    \\r\\n\\t\\t\\t\\t\\t<khaiValue>52</khaiValue>\\r\\n\\t\\t\\t\\t\\t<khaiGrade>2</khaiGrade>\\r\\n\\t\\t\\t\\t\\t<so2Grade>1</so2Grade>\\r\\n\\t\\t\\t\\t\\t<coGrade>1</coGrade>\\r\\n\\t\\t\\t\\t\\t<o3Grade>1</o3Grade>\\r\\n\\t\\t\\t\\t\\t<no2Grade>1</no2Grade>\\r\\n\\t\\t\\t\\t\\t<pm10Grade>2</pm10Grade>\\r\\n\\t\\t\\t\\t\\t\\r\\n\\t\\t\\t\\t    \\r\\n\\t\\t\\t\\t</item>\\r\\n\\t\\t\\t\\r\\n\\t\\t\\t\\t<item>\\r\\n\\t\\t\\t\\t\\t<stationName>고산리</stationName>\\r\\n\\t\\t\\t\\t\\t\\r\\n\\t\\t\\t\\t\\t<dataTime>2018-07-13 17:00</dataTime>\\r\\n\\t\\t\\t\\t\\t<so2Value>0.001</so2Value>\\r\\n\\t\\t\\t\\t\\t<coValue>0.1</coValue>\\r\\n\\t\\t\\t\\t\\t<o3Value>0.009</o3Value>\\r\\n\\t\\t\\t\\t\\t<no2Value>0.001</no2Value>\\r\\n\\t\\t\\t\\t\\t<pm10Value>-</pm10Value>\\r\\n\\t\\t\\t\\t\\t\\r\\n\\t\\t\\t\\t\\t\\r\\n\\t\\t\\t\\t    \\r\\n\\t\\t\\t\\t\\t<khaiValue>-</khaiValue>\\r\\n\\t\\t\\t\\t\\t<khaiGrade></khaiGrade>\\r\\n\\t\\t\\t\\t\\t<so2Grade>1</so2Grade>\\r\\n\\t\\t\\t\\t\\t<coGrade>1</coGrade>\\r\\n\\t\\t\\t\\t\\t<o3Grade>1</o3Grade>\\r\\n\\t\\t\\t\\t\\t<no2Grade>1</no2Grade>\\r\\n\\t\\t\\t\\t\\t<pm10Grade></pm10Grade>\\r\\n\\t\\t\\t\\t\\t\\r\\n\\t\\t\\t\\t    \\r\\n\\t\\t\\t\\t</item>\\r\\n\\t\\t\\t\\r\\n\\t\\t</items>\\r\\n\\t\\t\\t<numOfRows>10</numOfRows>\\r\\n\\t\\t\\t<pageNo>1</pageNo>\\r\\n\\t\\t\\t<totalCount>5</totalCount>\\r\\n\\t</body>\\r\\n</response>\\r\\n'"
      ]
     },
     "execution_count": 56,
     "metadata": {},
     "output_type": "execute_result"
    }
   ],
   "source": [
    "resultStr"
   ]
  },
  {
   "cell_type": "code",
   "execution_count": 57,
   "metadata": {},
   "outputs": [
    {
     "ename": "JSONDecodeError",
     "evalue": "Expecting value: line 1 column 1 (char 0)",
     "output_type": "error",
     "traceback": [
      "\u001b[1;31m---------------------------------------------------------------------------\u001b[0m",
      "\u001b[1;31mJSONDecodeError\u001b[0m                           Traceback (most recent call last)",
      "\u001b[1;32m<ipython-input-57-e2247da3fb7c>\u001b[0m in \u001b[0;36m<module>\u001b[1;34m()\u001b[0m\n\u001b[1;32m----> 1\u001b[1;33m \u001b[0mresultObj\u001b[0m \u001b[1;33m=\u001b[0m \u001b[0mjson\u001b[0m\u001b[1;33m.\u001b[0m\u001b[0mloads\u001b[0m\u001b[1;33m(\u001b[0m\u001b[0mresultStr\u001b[0m\u001b[1;33m)\u001b[0m\u001b[1;33m\u001b[0m\u001b[0m\n\u001b[0m",
      "\u001b[1;32m~\\Anaconda3\\lib\\json\\__init__.py\u001b[0m in \u001b[0;36mloads\u001b[1;34m(s, encoding, cls, object_hook, parse_float, parse_int, parse_constant, object_pairs_hook, **kw)\u001b[0m\n\u001b[0;32m    352\u001b[0m             \u001b[0mparse_int\u001b[0m \u001b[1;32mis\u001b[0m \u001b[1;32mNone\u001b[0m \u001b[1;32mand\u001b[0m \u001b[0mparse_float\u001b[0m \u001b[1;32mis\u001b[0m \u001b[1;32mNone\u001b[0m \u001b[1;32mand\u001b[0m\u001b[1;33m\u001b[0m\u001b[0m\n\u001b[0;32m    353\u001b[0m             parse_constant is None and object_pairs_hook is None and not kw):\n\u001b[1;32m--> 354\u001b[1;33m         \u001b[1;32mreturn\u001b[0m \u001b[0m_default_decoder\u001b[0m\u001b[1;33m.\u001b[0m\u001b[0mdecode\u001b[0m\u001b[1;33m(\u001b[0m\u001b[0ms\u001b[0m\u001b[1;33m)\u001b[0m\u001b[1;33m\u001b[0m\u001b[0m\n\u001b[0m\u001b[0;32m    355\u001b[0m     \u001b[1;32mif\u001b[0m \u001b[0mcls\u001b[0m \u001b[1;32mis\u001b[0m \u001b[1;32mNone\u001b[0m\u001b[1;33m:\u001b[0m\u001b[1;33m\u001b[0m\u001b[0m\n\u001b[0;32m    356\u001b[0m         \u001b[0mcls\u001b[0m \u001b[1;33m=\u001b[0m \u001b[0mJSONDecoder\u001b[0m\u001b[1;33m\u001b[0m\u001b[0m\n",
      "\u001b[1;32m~\\Anaconda3\\lib\\json\\decoder.py\u001b[0m in \u001b[0;36mdecode\u001b[1;34m(self, s, _w)\u001b[0m\n\u001b[0;32m    337\u001b[0m \u001b[1;33m\u001b[0m\u001b[0m\n\u001b[0;32m    338\u001b[0m         \"\"\"\n\u001b[1;32m--> 339\u001b[1;33m         \u001b[0mobj\u001b[0m\u001b[1;33m,\u001b[0m \u001b[0mend\u001b[0m \u001b[1;33m=\u001b[0m \u001b[0mself\u001b[0m\u001b[1;33m.\u001b[0m\u001b[0mraw_decode\u001b[0m\u001b[1;33m(\u001b[0m\u001b[0ms\u001b[0m\u001b[1;33m,\u001b[0m \u001b[0midx\u001b[0m\u001b[1;33m=\u001b[0m\u001b[0m_w\u001b[0m\u001b[1;33m(\u001b[0m\u001b[0ms\u001b[0m\u001b[1;33m,\u001b[0m \u001b[1;36m0\u001b[0m\u001b[1;33m)\u001b[0m\u001b[1;33m.\u001b[0m\u001b[0mend\u001b[0m\u001b[1;33m(\u001b[0m\u001b[1;33m)\u001b[0m\u001b[1;33m)\u001b[0m\u001b[1;33m\u001b[0m\u001b[0m\n\u001b[0m\u001b[0;32m    340\u001b[0m         \u001b[0mend\u001b[0m \u001b[1;33m=\u001b[0m \u001b[0m_w\u001b[0m\u001b[1;33m(\u001b[0m\u001b[0ms\u001b[0m\u001b[1;33m,\u001b[0m \u001b[0mend\u001b[0m\u001b[1;33m)\u001b[0m\u001b[1;33m.\u001b[0m\u001b[0mend\u001b[0m\u001b[1;33m(\u001b[0m\u001b[1;33m)\u001b[0m\u001b[1;33m\u001b[0m\u001b[0m\n\u001b[0;32m    341\u001b[0m         \u001b[1;32mif\u001b[0m \u001b[0mend\u001b[0m \u001b[1;33m!=\u001b[0m \u001b[0mlen\u001b[0m\u001b[1;33m(\u001b[0m\u001b[0ms\u001b[0m\u001b[1;33m)\u001b[0m\u001b[1;33m:\u001b[0m\u001b[1;33m\u001b[0m\u001b[0m\n",
      "\u001b[1;32m~\\Anaconda3\\lib\\json\\decoder.py\u001b[0m in \u001b[0;36mraw_decode\u001b[1;34m(self, s, idx)\u001b[0m\n\u001b[0;32m    355\u001b[0m             \u001b[0mobj\u001b[0m\u001b[1;33m,\u001b[0m \u001b[0mend\u001b[0m \u001b[1;33m=\u001b[0m \u001b[0mself\u001b[0m\u001b[1;33m.\u001b[0m\u001b[0mscan_once\u001b[0m\u001b[1;33m(\u001b[0m\u001b[0ms\u001b[0m\u001b[1;33m,\u001b[0m \u001b[0midx\u001b[0m\u001b[1;33m)\u001b[0m\u001b[1;33m\u001b[0m\u001b[0m\n\u001b[0;32m    356\u001b[0m         \u001b[1;32mexcept\u001b[0m \u001b[0mStopIteration\u001b[0m \u001b[1;32mas\u001b[0m \u001b[0merr\u001b[0m\u001b[1;33m:\u001b[0m\u001b[1;33m\u001b[0m\u001b[0m\n\u001b[1;32m--> 357\u001b[1;33m             \u001b[1;32mraise\u001b[0m \u001b[0mJSONDecodeError\u001b[0m\u001b[1;33m(\u001b[0m\u001b[1;34m\"Expecting value\"\u001b[0m\u001b[1;33m,\u001b[0m \u001b[0ms\u001b[0m\u001b[1;33m,\u001b[0m \u001b[0merr\u001b[0m\u001b[1;33m.\u001b[0m\u001b[0mvalue\u001b[0m\u001b[1;33m)\u001b[0m \u001b[1;32mfrom\u001b[0m \u001b[1;32mNone\u001b[0m\u001b[1;33m\u001b[0m\u001b[0m\n\u001b[0m\u001b[0;32m    358\u001b[0m         \u001b[1;32mreturn\u001b[0m \u001b[0mobj\u001b[0m\u001b[1;33m,\u001b[0m \u001b[0mend\u001b[0m\u001b[1;33m\u001b[0m\u001b[0m\n",
      "\u001b[1;31mJSONDecodeError\u001b[0m: Expecting value: line 1 column 1 (char 0)"
     ]
    }
   ],
   "source": [
    "resultObj = json.loads(resultStr)"
   ]
  },
  {
   "cell_type": "code",
   "execution_count": 58,
   "metadata": {},
   "outputs": [
    {
     "data": {
      "text/plain": [
       "{'list': [{'_returnType': 'json',\n",
       "   'coGrade': '1',\n",
       "   'coValue': '0.2',\n",
       "   'dataTerm': '',\n",
       "   'dataTime': '2018-07-13 16:00',\n",
       "   'khaiGrade': '',\n",
       "   'khaiValue': '-',\n",
       "   'mangName': '도시대기',\n",
       "   'no2Grade': '1',\n",
       "   'no2Value': '0.010',\n",
       "   'numOfRows': '10',\n",
       "   'o3Grade': '1',\n",
       "   'o3Value': '0.023',\n",
       "   'pageNo': '1',\n",
       "   'pm10Grade': '1',\n",
       "   'pm10Grade1h': '1',\n",
       "   'pm10Value': '14',\n",
       "   'pm10Value24': '21',\n",
       "   'pm25Grade': '',\n",
       "   'pm25Grade1h': '',\n",
       "   'pm25Value': '-',\n",
       "   'pm25Value24': '-',\n",
       "   'resultCode': '',\n",
       "   'resultMsg': '',\n",
       "   'rnum': 0,\n",
       "   'serviceKey': '',\n",
       "   'sidoName': '',\n",
       "   'so2Grade': '1',\n",
       "   'so2Value': '0.006',\n",
       "   'stationCode': '',\n",
       "   'stationName': '이도동',\n",
       "   'totalCount': '',\n",
       "   'ver': ''},\n",
       "  {'_returnType': 'json',\n",
       "   'coGrade': '1',\n",
       "   'coValue': '0.2',\n",
       "   'dataTerm': '',\n",
       "   'dataTime': '2018-07-13 16:00',\n",
       "   'khaiGrade': '1',\n",
       "   'khaiValue': '42',\n",
       "   'mangName': '도시대기',\n",
       "   'no2Grade': '1',\n",
       "   'no2Value': '0.008',\n",
       "   'numOfRows': '10',\n",
       "   'o3Grade': '1',\n",
       "   'o3Value': '0.025',\n",
       "   'pageNo': '1',\n",
       "   'pm10Grade': '1',\n",
       "   'pm10Grade1h': '1',\n",
       "   'pm10Value': '21',\n",
       "   'pm10Value24': '23',\n",
       "   'pm25Grade': '1',\n",
       "   'pm25Grade1h': '1',\n",
       "   'pm25Value': '13',\n",
       "   'pm25Value24': '12',\n",
       "   'resultCode': '',\n",
       "   'resultMsg': '',\n",
       "   'rnum': 0,\n",
       "   'serviceKey': '',\n",
       "   'sidoName': '',\n",
       "   'so2Grade': '1',\n",
       "   'so2Value': '0.006',\n",
       "   'stationCode': '',\n",
       "   'stationName': '연동',\n",
       "   'totalCount': '',\n",
       "   'ver': ''},\n",
       "  {'_returnType': 'json',\n",
       "   'coGrade': '',\n",
       "   'coValue': '-',\n",
       "   'dataTerm': '',\n",
       "   'dataTime': '2018-07-13 16:00',\n",
       "   'khaiGrade': '1',\n",
       "   'khaiValue': '47',\n",
       "   'mangName': '도시대기',\n",
       "   'no2Grade': '1',\n",
       "   'no2Value': '0.003',\n",
       "   'numOfRows': '10',\n",
       "   'o3Grade': '1',\n",
       "   'o3Value': '0.023',\n",
       "   'pageNo': '1',\n",
       "   'pm10Grade': '1',\n",
       "   'pm10Grade1h': '1',\n",
       "   'pm10Value': '20',\n",
       "   'pm10Value24': '18',\n",
       "   'pm25Grade': '1',\n",
       "   'pm25Grade1h': '2',\n",
       "   'pm25Value': '18',\n",
       "   'pm25Value24': '14',\n",
       "   'resultCode': '',\n",
       "   'resultMsg': '',\n",
       "   'rnum': 0,\n",
       "   'serviceKey': '',\n",
       "   'sidoName': '',\n",
       "   'so2Grade': '1',\n",
       "   'so2Value': '0.004',\n",
       "   'stationCode': '',\n",
       "   'stationName': '동홍동',\n",
       "   'totalCount': '',\n",
       "   'ver': ''},\n",
       "  {'_returnType': 'json',\n",
       "   'coGrade': '1',\n",
       "   'coValue': '0.0',\n",
       "   'dataTerm': '',\n",
       "   'dataTime': '2018-07-13 16:00',\n",
       "   'khaiGrade': '2',\n",
       "   'khaiValue': '51',\n",
       "   'mangName': '도시대기',\n",
       "   'no2Grade': '1',\n",
       "   'no2Value': '0.005',\n",
       "   'numOfRows': '10',\n",
       "   'o3Grade': '1',\n",
       "   'o3Value': '0.022',\n",
       "   'pageNo': '1',\n",
       "   'pm10Grade': '2',\n",
       "   'pm10Grade1h': '2',\n",
       "   'pm10Value': '32',\n",
       "   'pm10Value24': '31',\n",
       "   'pm25Grade': '1',\n",
       "   'pm25Grade1h': '1',\n",
       "   'pm25Value': '15',\n",
       "   'pm25Value24': '9',\n",
       "   'resultCode': '',\n",
       "   'resultMsg': '',\n",
       "   'rnum': 0,\n",
       "   'serviceKey': '',\n",
       "   'sidoName': '',\n",
       "   'so2Grade': '1',\n",
       "   'so2Value': '0.003',\n",
       "   'stationCode': '',\n",
       "   'stationName': '성산읍',\n",
       "   'totalCount': '',\n",
       "   'ver': ''},\n",
       "  {'_returnType': 'json',\n",
       "   'coGrade': '',\n",
       "   'coValue': '-',\n",
       "   'dataTerm': '',\n",
       "   'dataTime': '2018-07-13 15:00',\n",
       "   'khaiGrade': '',\n",
       "   'khaiValue': '-',\n",
       "   'mangName': '국가배경농도',\n",
       "   'no2Grade': '',\n",
       "   'no2Value': '-',\n",
       "   'numOfRows': '10',\n",
       "   'o3Grade': '',\n",
       "   'o3Value': '-',\n",
       "   'pageNo': '1',\n",
       "   'pm10Grade': '',\n",
       "   'pm10Grade1h': '',\n",
       "   'pm10Value': '-',\n",
       "   'pm10Value24': '-',\n",
       "   'pm25Grade': '1',\n",
       "   'pm25Grade1h': '1',\n",
       "   'pm25Value': '7',\n",
       "   'pm25Value24': '8',\n",
       "   'resultCode': '',\n",
       "   'resultMsg': '',\n",
       "   'rnum': 0,\n",
       "   'serviceKey': '',\n",
       "   'sidoName': '',\n",
       "   'so2Grade': '',\n",
       "   'so2Value': '-',\n",
       "   'stationCode': '',\n",
       "   'stationName': '고산리',\n",
       "   'totalCount': '',\n",
       "   'ver': ''}],\n",
       " 'parm': {'_returnType': 'json',\n",
       "  'coGrade': '',\n",
       "  'coValue': '',\n",
       "  'dataTerm': '',\n",
       "  'dataTime': '',\n",
       "  'khaiGrade': '',\n",
       "  'khaiValue': '',\n",
       "  'mangName': '',\n",
       "  'no2Grade': '',\n",
       "  'no2Value': '',\n",
       "  'numOfRows': '10',\n",
       "  'o3Grade': '',\n",
       "  'o3Value': '',\n",
       "  'pageNo': '1',\n",
       "  'pm10Grade': '',\n",
       "  'pm10Grade1h': '',\n",
       "  'pm10Value': '',\n",
       "  'pm10Value24': '',\n",
       "  'pm25Grade': '',\n",
       "  'pm25Grade1h': '',\n",
       "  'pm25Value': '',\n",
       "  'pm25Value24': '',\n",
       "  'resultCode': '',\n",
       "  'resultMsg': '',\n",
       "  'rnum': 0,\n",
       "  'serviceKey': 'sjc4mmX/YsEie54QsVIEZVrWfkgaO44OWimEARmGFWWCr0a8+tyL8fJnF2PcTc5FWEV5ayrD1lG+4UA7r8SbzQ==',\n",
       "  'sidoName': '제주',\n",
       "  'so2Grade': '',\n",
       "  'so2Value': '',\n",
       "  'stationCode': '',\n",
       "  'stationName': '',\n",
       "  'totalCount': '',\n",
       "  'ver': ''},\n",
       " 'ArpltnInforInqireSvcVo': {'_returnType': 'json',\n",
       "  'coGrade': '',\n",
       "  'coValue': '',\n",
       "  'dataTerm': '',\n",
       "  'dataTime': '',\n",
       "  'khaiGrade': '',\n",
       "  'khaiValue': '',\n",
       "  'mangName': '',\n",
       "  'no2Grade': '',\n",
       "  'no2Value': '',\n",
       "  'numOfRows': '10',\n",
       "  'o3Grade': '',\n",
       "  'o3Value': '',\n",
       "  'pageNo': '1',\n",
       "  'pm10Grade': '',\n",
       "  'pm10Grade1h': '',\n",
       "  'pm10Value': '',\n",
       "  'pm10Value24': '',\n",
       "  'pm25Grade': '',\n",
       "  'pm25Grade1h': '',\n",
       "  'pm25Value': '',\n",
       "  'pm25Value24': '',\n",
       "  'resultCode': '',\n",
       "  'resultMsg': '',\n",
       "  'rnum': 0,\n",
       "  'serviceKey': 'sjc4mmX/YsEie54QsVIEZVrWfkgaO44OWimEARmGFWWCr0a8+tyL8fJnF2PcTc5FWEV5ayrD1lG+4UA7r8SbzQ==',\n",
       "  'sidoName': '제주',\n",
       "  'so2Grade': '',\n",
       "  'so2Value': '',\n",
       "  'stationCode': '',\n",
       "  'stationName': '',\n",
       "  'totalCount': '',\n",
       "  'ver': ''},\n",
       " 'totalCount': 5}"
      ]
     },
     "execution_count": 58,
     "metadata": {},
     "output_type": "execute_result"
    }
   ],
   "source": [
    "resultObj"
   ]
  },
  {
   "cell_type": "code",
   "execution_count": 59,
   "metadata": {},
   "outputs": [],
   "source": [
    "from lxml import etree"
   ]
  },
  {
   "cell_type": "code",
   "execution_count": 60,
   "metadata": {},
   "outputs": [],
   "source": [
    "apiTree = etree.fromstring(result)"
   ]
  },
  {
   "cell_type": "code",
   "execution_count": 61,
   "metadata": {},
   "outputs": [
    {
     "name": "stdout",
     "output_type": "stream",
     "text": [
      "<response>\n",
      "\t<header>\n",
      "\t\t<resultCode>00</resultCode>\n",
      "\t\t<resultMsg>NORMAL SERVICE.</resultMsg>\n",
      "\t</header>\n",
      "\t<body>\n",
      "\t\t<items>\n",
      "\t\t\t\n",
      "\t\t\t\t<item>\n",
      "\t\t\t\t\t<stationName>이도동</stationName>\n",
      "\t\t\t\t\t\n",
      "\t\t\t\t\t<dataTime>2018-07-13 17:00</dataTime>\n",
      "\t\t\t\t\t<so2Value>0.009</so2Value>\n",
      "\t\t\t\t\t<coValue>0.2</coValue>\n",
      "\t\t\t\t\t<o3Value>0.020</o3Value>\n",
      "\t\t\t\t\t<no2Value>0.013</no2Value>\n",
      "\t\t\t\t\t<pm10Value>23</pm10Value>\n",
      "\t\t\t\t\t\n",
      "\t\t\t\t\t\n",
      "\t\t\t\t    \n",
      "\t\t\t\t\t<khaiValue>54</khaiValue>\n",
      "\t\t\t\t\t<khaiGrade>2</khaiGrade>\n",
      "\t\t\t\t\t<so2Grade>1</so2Grade>\n",
      "\t\t\t\t\t<coGrade>1</coGrade>\n",
      "\t\t\t\t\t<o3Grade>1</o3Grade>\n",
      "\t\t\t\t\t<no2Grade>1</no2Grade>\n",
      "\t\t\t\t\t<pm10Grade>1</pm10Grade>\n",
      "\t\t\t\t\t\n",
      "\t\t\t\t    \n",
      "\t\t\t\t</item>\n",
      "\t\t\t\n",
      "\t\t\t\t<item>\n",
      "\t\t\t\t\t<stationName>연동</stationName>\n",
      "\t\t\t\t\t\n",
      "\t\t\t\t\t<dataTime>2018-07-13 17:00</dataTime>\n",
      "\t\t\t\t\t<so2Value>0.006</so2Value>\n",
      "\t\t\t\t\t<coValue>0.2</coValue>\n",
      "\t\t\t\t\t<o3Value>0.023</o3Value>\n",
      "\t\t\t\t\t<no2Value>0.008</no2Value>\n",
      "\t\t\t\t\t<pm10Value>30</pm10Value>\n",
      "\t\t\t\t\t\n",
      "\t\t\t\t\t\n",
      "\t\t\t\t    \n",
      "\t\t\t\t\t<khaiValue>43</khaiValue>\n",
      "\t\t\t\t\t<khaiGrade>1</khaiGrade>\n",
      "\t\t\t\t\t<so2Grade>1</so2Grade>\n",
      "\t\t\t\t\t<coGrade>1</coGrade>\n",
      "\t\t\t\t\t<o3Grade>1</o3Grade>\n",
      "\t\t\t\t\t<no2Grade>1</no2Grade>\n",
      "\t\t\t\t\t<pm10Grade>1</pm10Grade>\n",
      "\t\t\t\t\t\n",
      "\t\t\t\t    \n",
      "\t\t\t\t</item>\n",
      "\t\t\t\n",
      "\t\t\t\t<item>\n",
      "\t\t\t\t\t<stationName>동홍동</stationName>\n",
      "\t\t\t\t\t\n",
      "\t\t\t\t\t<dataTime>2018-07-13 17:00</dataTime>\n",
      "\t\t\t\t\t<so2Value>0.003</so2Value>\n",
      "\t\t\t\t\t<coValue>-</coValue>\n",
      "\t\t\t\t\t<o3Value>0.021</o3Value>\n",
      "\t\t\t\t\t<no2Value>0.003</no2Value>\n",
      "\t\t\t\t\t<pm10Value>16</pm10Value>\n",
      "\t\t\t\t\t\n",
      "\t\t\t\t\t\n",
      "\t\t\t\t    \n",
      "\t\t\t\t\t<khaiValue>-</khaiValue>\n",
      "\t\t\t\t\t<khaiGrade/>\n",
      "\t\t\t\t\t<so2Grade>1</so2Grade>\n",
      "\t\t\t\t\t<coGrade/>\n",
      "\t\t\t\t\t<o3Grade>1</o3Grade>\n",
      "\t\t\t\t\t<no2Grade>1</no2Grade>\n",
      "\t\t\t\t\t<pm10Grade>1</pm10Grade>\n",
      "\t\t\t\t\t\n",
      "\t\t\t\t    \n",
      "\t\t\t\t</item>\n",
      "\t\t\t\n",
      "\t\t\t\t<item>\n",
      "\t\t\t\t\t<stationName>성산읍</stationName>\n",
      "\t\t\t\t\t\n",
      "\t\t\t\t\t<dataTime>2018-07-13 17:00</dataTime>\n",
      "\t\t\t\t\t<so2Value>0.002</so2Value>\n",
      "\t\t\t\t\t<coValue>0.0</coValue>\n",
      "\t\t\t\t\t<o3Value>0.019</o3Value>\n",
      "\t\t\t\t\t<no2Value>0.004</no2Value>\n",
      "\t\t\t\t\t<pm10Value>30</pm10Value>\n",
      "\t\t\t\t\t\n",
      "\t\t\t\t\t\n",
      "\t\t\t\t    \n",
      "\t\t\t\t\t<khaiValue>52</khaiValue>\n",
      "\t\t\t\t\t<khaiGrade>2</khaiGrade>\n",
      "\t\t\t\t\t<so2Grade>1</so2Grade>\n",
      "\t\t\t\t\t<coGrade>1</coGrade>\n",
      "\t\t\t\t\t<o3Grade>1</o3Grade>\n",
      "\t\t\t\t\t<no2Grade>1</no2Grade>\n",
      "\t\t\t\t\t<pm10Grade>2</pm10Grade>\n",
      "\t\t\t\t\t\n",
      "\t\t\t\t    \n",
      "\t\t\t\t</item>\n",
      "\t\t\t\n",
      "\t\t\t\t<item>\n",
      "\t\t\t\t\t<stationName>고산리</stationName>\n",
      "\t\t\t\t\t\n",
      "\t\t\t\t\t<dataTime>2018-07-13 17:00</dataTime>\n",
      "\t\t\t\t\t<so2Value>0.001</so2Value>\n",
      "\t\t\t\t\t<coValue>0.1</coValue>\n",
      "\t\t\t\t\t<o3Value>0.009</o3Value>\n",
      "\t\t\t\t\t<no2Value>0.001</no2Value>\n",
      "\t\t\t\t\t<pm10Value>-</pm10Value>\n",
      "\t\t\t\t\t\n",
      "\t\t\t\t\t\n",
      "\t\t\t\t    \n",
      "\t\t\t\t\t<khaiValue>-</khaiValue>\n",
      "\t\t\t\t\t<khaiGrade/>\n",
      "\t\t\t\t\t<so2Grade>1</so2Grade>\n",
      "\t\t\t\t\t<coGrade>1</coGrade>\n",
      "\t\t\t\t\t<o3Grade>1</o3Grade>\n",
      "\t\t\t\t\t<no2Grade>1</no2Grade>\n",
      "\t\t\t\t\t<pm10Grade/>\n",
      "\t\t\t\t\t\n",
      "\t\t\t\t    \n",
      "\t\t\t\t</item>\n",
      "\t\t\t\n",
      "\t\t</items>\n",
      "\t\t\t<numOfRows>10</numOfRows>\n",
      "\t\t\t<pageNo>1</pageNo>\n",
      "\t\t\t<totalCount>5</totalCount>\n",
      "\t</body>\n",
      "</response>\n"
     ]
    }
   ],
   "source": [
    "etree.dump(apiTree)"
   ]
  },
  {
   "cell_type": "code",
   "execution_count": 62,
   "metadata": {},
   "outputs": [],
   "source": [
    "fin = etree.ElementTree(apiTree)"
   ]
  },
  {
   "cell_type": "code",
   "execution_count": 67,
   "metadata": {},
   "outputs": [
    {
     "data": {
      "text/plain": [
       "<lxml.etree._ElementTree at 0x28f16b34588>"
      ]
     },
     "execution_count": 67,
     "metadata": {},
     "output_type": "execute_result"
    }
   ],
   "source": [
    "fin"
   ]
  },
  {
   "cell_type": "code",
   "execution_count": 64,
   "metadata": {},
   "outputs": [
    {
     "ename": "TypeError",
     "evalue": "Argument 'elem' has incorrect type (expected lxml.etree._Element, got lxml.etree._ElementTree)",
     "output_type": "error",
     "traceback": [
      "\u001b[1;31m---------------------------------------------------------------------------\u001b[0m",
      "\u001b[1;31mTypeError\u001b[0m                                 Traceback (most recent call last)",
      "\u001b[1;32m<ipython-input-64-960f9432e4ad>\u001b[0m in \u001b[0;36m<module>\u001b[1;34m()\u001b[0m\n\u001b[1;32m----> 1\u001b[1;33m \u001b[0metree\u001b[0m\u001b[1;33m.\u001b[0m\u001b[0mdump\u001b[0m\u001b[1;33m(\u001b[0m\u001b[0mfin\u001b[0m\u001b[1;33m)\u001b[0m\u001b[1;33m\u001b[0m\u001b[0m\n\u001b[0m",
      "\u001b[1;31mTypeError\u001b[0m: Argument 'elem' has incorrect type (expected lxml.etree._Element, got lxml.etree._ElementTree)"
     ]
    }
   ],
   "source": [
    "etree.dump(fin)"
   ]
  },
  {
   "cell_type": "code",
   "execution_count": 68,
   "metadata": {},
   "outputs": [
    {
     "ename": "TypeError",
     "evalue": "'lxml.etree._ElementTree' object is not iterable",
     "output_type": "error",
     "traceback": [
      "\u001b[1;31m---------------------------------------------------------------------------\u001b[0m",
      "\u001b[1;31mTypeError\u001b[0m                                 Traceback (most recent call last)",
      "\u001b[1;32m<ipython-input-68-c5fcba48bca6>\u001b[0m in \u001b[0;36m<module>\u001b[1;34m()\u001b[0m\n\u001b[1;32m----> 1\u001b[1;33m \u001b[1;32mfor\u001b[0m \u001b[0mi\u001b[0m \u001b[1;32min\u001b[0m \u001b[0mfin\u001b[0m \u001b[1;33m:\u001b[0m\u001b[1;33m\u001b[0m\u001b[0m\n\u001b[0m\u001b[0;32m      2\u001b[0m     \u001b[0mprint\u001b[0m\u001b[1;33m(\u001b[0m\u001b[0mi\u001b[0m\u001b[1;33m.\u001b[0m\u001b[0mtag\u001b[0m\u001b[1;33m)\u001b[0m\u001b[1;33m\u001b[0m\u001b[0m\n",
      "\u001b[1;31mTypeError\u001b[0m: 'lxml.etree._ElementTree' object is not iterable"
     ]
    }
   ],
   "source": [
    "for i in fin :\n",
    "    print(i.tag)"
   ]
  },
  {
   "cell_type": "code",
   "execution_count": null,
   "metadata": {},
   "outputs": [],
   "source": []
  }
 ],
 "metadata": {
  "kernelspec": {
   "display_name": "Python 3",
   "language": "python",
   "name": "python3"
  },
  "language_info": {
   "codemirror_mode": {
    "name": "ipython",
    "version": 3
   },
   "file_extension": ".py",
   "mimetype": "text/x-python",
   "name": "python",
   "nbconvert_exporter": "python",
   "pygments_lexer": "ipython3",
   "version": "3.6.5"
  }
 },
 "nbformat": 4,
 "nbformat_minor": 2
}
