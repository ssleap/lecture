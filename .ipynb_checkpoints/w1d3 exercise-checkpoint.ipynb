{
 "cells": [
  {
   "cell_type": "markdown",
   "metadata": {},
   "source": [
    "# 전공자반 임원경"
   ]
  },
  {
   "cell_type": "markdown",
   "metadata": {},
   "source": [
    "## 61"
   ]
  },
  {
   "cell_type": "code",
   "execution_count": 5,
   "metadata": {},
   "outputs": [
    {
     "name": "stdout",
     "output_type": "stream",
     "text": [
      "1\n",
      "2\n",
      "3\n",
      "4\n",
      "\n",
      "입력을 똑바로 합시다.\n",
      "5\n",
      "6\n",
      "6\n",
      "7\n",
      "\n",
      "입력을 똑바로 합시다.\n",
      "8\n",
      "9\n",
      "6\n",
      "100\n",
      "-13131\n",
      "213412\n",
      "0\n",
      "13362.533333333333\n"
     ]
    }
   ],
   "source": [
    "l = []\n",
    "a = int(input())\n",
    "if a == 0:\n",
    "    assert a != 0\n",
    "l.append(a)\n",
    "while True :\n",
    "    try:\n",
    "        a = int(input())\n",
    "        l.append(a)\n",
    "        if a == 0 :\n",
    "            break\n",
    "    except :\n",
    "        print(\"입력을 똑바로 합시다.\")\n",
    "    \n",
    "res = 0\n",
    "for i in l :\n",
    "   res += i\n",
    "print(float(res/(len(l))))\n",
    "    "
   ]
  },
  {
   "cell_type": "markdown",
   "metadata": {},
   "source": [
    "## 63"
   ]
  },
  {
   "cell_type": "code",
   "execution_count": 8,
   "metadata": {},
   "outputs": [
    {
     "name": "stdout",
     "output_type": "stream",
     "text": [
      "c    :   f\n",
      "10  :  50.0\n",
      "20  :  68.0\n",
      "30  :  86.0\n",
      "40  :  104.0\n",
      "50  :  122.0\n",
      "60  :  140.0\n",
      "70  :  158.0\n",
      "80  :  176.0\n",
      "90  :  194.0\n",
      "100  :  212.0\n"
     ]
    }
   ],
   "source": [
    "cel = []\n",
    "for i in range(1,11):\n",
    "    cel.append(i*10)\n",
    "print(\"c    :   f\")\n",
    "for i in cel :\n",
    "    print(i, \" : \", (i*1.8)+32)"
   ]
  },
  {
   "cell_type": "markdown",
   "metadata": {},
   "source": [
    "## 66"
   ]
  },
  {
   "cell_type": "code",
   "execution_count": 2,
   "metadata": {},
   "outputs": [
    {
     "name": "stdout",
     "output_type": "stream",
     "text": [
      "A+\n",
      "A\n",
      "B\n",
      "C+\n",
      "D\n",
      "\n",
      "2.8600000000000003\n"
     ]
    }
   ],
   "source": [
    "l = []\n",
    "while True :\n",
    "    a = input()\n",
    "    if a == 'A+':\n",
    "        b = 4.0\n",
    "    elif a == 'A':\n",
    "        b = 4.0\n",
    "    elif a == 'A-':\n",
    "        b = 3.7\n",
    "    elif a == 'B+':\n",
    "        b = 3.3\n",
    "    elif a == 'B':\n",
    "        b = 3.0\n",
    "    elif a == 'B-':\n",
    "        b = 2.7\n",
    "    elif a == 'C+':\n",
    "        b = 2.3\n",
    "    elif a == 'C':\n",
    "        b = 2.0\n",
    "    elif a == 'C-':\n",
    "        b = 1.7\n",
    "    elif a == 'D+':\n",
    "        b = 1.3\n",
    "    elif a == 'D':\n",
    "        b = 1.0\n",
    "    elif a == 'F':\n",
    "        b = 0\n",
    "    \n",
    "        \n",
    "    elif a == 'A':\n",
    "        b = 4.0\n",
    "    elif a == 'A':\n",
    "        b = 4.0\n",
    "    \n",
    "    \n",
    "    elif a ==  '':\n",
    "        break\n",
    "    \n",
    "    l.append(b)\n",
    "res = 0\n",
    "for i in l:\n",
    "    res += i\n",
    "print(res/len(l))\n",
    "        \n"
   ]
  },
  {
   "cell_type": "markdown",
   "metadata": {},
   "source": [
    "# 67"
   ]
  },
  {
   "cell_type": "code",
   "execution_count": 3,
   "metadata": {},
   "outputs": [
    {
     "name": "stdout",
     "output_type": "stream",
     "text": [
      "1202\n",
      "3\n",
      "1\n",
      "77\n",
      "44\n",
      "23\n",
      "\n"
     ]
    },
    {
     "data": {
      "text/plain": [
       "96"
      ]
     },
     "execution_count": 3,
     "metadata": {},
     "output_type": "execute_result"
    }
   ],
   "source": [
    "res = 0\n",
    "while True :\n",
    "    try:\n",
    "        a = input()\n",
    "        if a == '':\n",
    "            break\n",
    "        b = float(a)\n",
    "        if 3<=b<=12 :\n",
    "            res += 14\n",
    "        elif 13<=b<=64:\n",
    "            res += 23\n",
    "        elif b>=65 :\n",
    "            res += 18\n",
    "        \n",
    "    except :\n",
    "        print('integer only')\n",
    "        \n",
    "round(res,2)\n",
    "\n",
    "    "
   ]
  },
  {
   "cell_type": "markdown",
   "metadata": {},
   "source": [
    "## 72"
   ]
  },
  {
   "cell_type": "code",
   "execution_count": 2,
   "metadata": {},
   "outputs": [
    {
     "name": "stdout",
     "output_type": "stream",
     "text": [
      "aaaabaaaa\n",
      "it is palindrome\n"
     ]
    }
   ],
   "source": [
    "a = input()\n",
    "for i in range(0,int(len(a)/2)+1):\n",
    "    if a[i] != a[len(a)-1-i]:\n",
    "        print(\"it is not palindrome\")\n",
    "        break\n",
    "else :\n",
    "    print(\"it is palindrome\")"
   ]
  },
  {
   "cell_type": "markdown",
   "metadata": {},
   "source": [
    "# 74"
   ]
  },
  {
   "cell_type": "code",
   "execution_count": 16,
   "metadata": {},
   "outputs": [
    {
     "name": "stdout",
     "output_type": "stream",
     "text": [
      "    1   2   3   4   5   6   7   8   9   10\n",
      "1   1   2   3   4   5   6   7   8   9   10\n",
      "2   2   4   6   8   10  12  14  16  18  20\n",
      "3   3   6   9   12  15  18  21  24  27  30\n",
      "4   4   8   12  16  20  24  28  32  36  40\n",
      "5   5   10  15  20  25  30  35  40  45  50\n",
      "6   6   12  18  24  30  36  42  48  54  60\n",
      "7   7   14  21  28  35  42  49  56  63  70\n",
      "8   8   16  24  32  40  48  56  64  72  80\n",
      "9   9   18  27  36  45  54  63  72  81  90\n",
      "10  10  20  30  40  50  60  70  80  90  100\n"
     ]
    }
   ],
   "source": [
    "print('    ',end='')\n",
    "for i in range(1, 10):\n",
    "    print(i, end = '   ')\n",
    "print(10)\n",
    "for i in range(1,11):\n",
    "    if i == 10:\n",
    "        print(i, end = '  ')\n",
    "    else :\n",
    "        print(i, end = '   ')\n",
    "    for j in range(1,10):\n",
    "        if 1<= i*j <=9:\n",
    "            print(i*j, end = '   ')\n",
    "        elif 10<=i*j<=99:\n",
    "            print(i*j, end = '  ')\n",
    "        \n",
    "    print(i*10)"
   ]
  },
  {
   "cell_type": "markdown",
   "metadata": {},
   "source": [
    "# 75"
   ]
  },
  {
   "cell_type": "code",
   "execution_count": 18,
   "metadata": {},
   "outputs": [
    {
     "name": "stdout",
     "output_type": "stream",
     "text": [
      "496\n",
      "28\n"
     ]
    },
    {
     "data": {
      "text/plain": [
       "4"
      ]
     },
     "execution_count": 18,
     "metadata": {},
     "output_type": "execute_result"
    }
   ],
   "source": [
    "while True :\n",
    "    try :\n",
    "        a = input()\n",
    "        n = int(a)\n",
    "        b = input()\n",
    "        m = int(b)\n",
    "        break\n",
    "    except :\n",
    "        print('정수만 입력 바랍니다. 처음부터 다시입력해주세요')\n",
    "        \n",
    "smr = n if n < m else m\n",
    "\n",
    "res = 1\n",
    "for i in range(2, smr+1):\n",
    "    if n % i ==0 and m % i ==0:\n",
    "        res = i\n",
    "res"
   ]
  },
  {
   "cell_type": "markdown",
   "metadata": {},
   "source": [
    "# 77"
   ]
  },
  {
   "cell_type": "code",
   "execution_count": 33,
   "metadata": {},
   "outputs": [
    {
     "name": "stdout",
     "output_type": "stream",
     "text": [
      "10100111011\n",
      "1339\n"
     ]
    }
   ],
   "source": [
    "l = []\n",
    "a = input()\n",
    "for i in range(len(a)) :\n",
    "    l.append(a[i])\n",
    "l.reverse()\n",
    "n = 1\n",
    "res = 0\n",
    "for i in range(len(l)) :\n",
    "    if l[i] == '1' :\n",
    "        res += n\n",
    "    n *= 2\n",
    "print(res)\n",
    "\n",
    "    "
   ]
  },
  {
   "cell_type": "markdown",
   "metadata": {},
   "source": [
    "## 78"
   ]
  },
  {
   "cell_type": "code",
   "execution_count": 34,
   "metadata": {},
   "outputs": [
    {
     "name": "stdout",
     "output_type": "stream",
     "text": [
      "75849\n",
      "0b10010100001001001\n"
     ]
    }
   ],
   "source": [
    "a = int(input())\n",
    "\n",
    "res = bin(a)\n",
    "\n",
    "\n",
    "print(res)"
   ]
  },
  {
   "cell_type": "code",
   "execution_count": 19,
   "metadata": {},
   "outputs": [
    {
     "data": {
      "text/plain": [
       "['__add__',\n",
       " '__class__',\n",
       " '__contains__',\n",
       " '__delattr__',\n",
       " '__dir__',\n",
       " '__doc__',\n",
       " '__eq__',\n",
       " '__format__',\n",
       " '__ge__',\n",
       " '__getattribute__',\n",
       " '__getitem__',\n",
       " '__getnewargs__',\n",
       " '__gt__',\n",
       " '__hash__',\n",
       " '__init__',\n",
       " '__init_subclass__',\n",
       " '__iter__',\n",
       " '__le__',\n",
       " '__len__',\n",
       " '__lt__',\n",
       " '__mod__',\n",
       " '__mul__',\n",
       " '__ne__',\n",
       " '__new__',\n",
       " '__reduce__',\n",
       " '__reduce_ex__',\n",
       " '__repr__',\n",
       " '__rmod__',\n",
       " '__rmul__',\n",
       " '__setattr__',\n",
       " '__sizeof__',\n",
       " '__str__',\n",
       " '__subclasshook__',\n",
       " 'capitalize',\n",
       " 'casefold',\n",
       " 'center',\n",
       " 'count',\n",
       " 'encode',\n",
       " 'endswith',\n",
       " 'expandtabs',\n",
       " 'find',\n",
       " 'format',\n",
       " 'format_map',\n",
       " 'index',\n",
       " 'isalnum',\n",
       " 'isalpha',\n",
       " 'isdecimal',\n",
       " 'isdigit',\n",
       " 'isidentifier',\n",
       " 'islower',\n",
       " 'isnumeric',\n",
       " 'isprintable',\n",
       " 'isspace',\n",
       " 'istitle',\n",
       " 'isupper',\n",
       " 'join',\n",
       " 'ljust',\n",
       " 'lower',\n",
       " 'lstrip',\n",
       " 'maketrans',\n",
       " 'partition',\n",
       " 'replace',\n",
       " 'rfind',\n",
       " 'rindex',\n",
       " 'rjust',\n",
       " 'rpartition',\n",
       " 'rsplit',\n",
       " 'rstrip',\n",
       " 'split',\n",
       " 'splitlines',\n",
       " 'startswith',\n",
       " 'strip',\n",
       " 'swapcase',\n",
       " 'title',\n",
       " 'translate',\n",
       " 'upper',\n",
       " 'zfill']"
      ]
     },
     "execution_count": 19,
     "metadata": {},
     "output_type": "execute_result"
    }
   ],
   "source": [
    "dir(str)"
   ]
  },
  {
   "cell_type": "code",
   "execution_count": 20,
   "metadata": {},
   "outputs": [
    {
     "data": {
      "text/plain": [
       "['__add__',\n",
       " '__class__',\n",
       " '__contains__',\n",
       " '__delattr__',\n",
       " '__delitem__',\n",
       " '__dir__',\n",
       " '__doc__',\n",
       " '__eq__',\n",
       " '__format__',\n",
       " '__ge__',\n",
       " '__getattribute__',\n",
       " '__getitem__',\n",
       " '__gt__',\n",
       " '__hash__',\n",
       " '__iadd__',\n",
       " '__imul__',\n",
       " '__init__',\n",
       " '__init_subclass__',\n",
       " '__iter__',\n",
       " '__le__',\n",
       " '__len__',\n",
       " '__lt__',\n",
       " '__mul__',\n",
       " '__ne__',\n",
       " '__new__',\n",
       " '__reduce__',\n",
       " '__reduce_ex__',\n",
       " '__repr__',\n",
       " '__reversed__',\n",
       " '__rmul__',\n",
       " '__setattr__',\n",
       " '__setitem__',\n",
       " '__sizeof__',\n",
       " '__str__',\n",
       " '__subclasshook__',\n",
       " 'append',\n",
       " 'clear',\n",
       " 'copy',\n",
       " 'count',\n",
       " 'extend',\n",
       " 'index',\n",
       " 'insert',\n",
       " 'pop',\n",
       " 'remove',\n",
       " 'reverse',\n",
       " 'sort']"
      ]
     },
     "execution_count": 20,
     "metadata": {},
     "output_type": "execute_result"
    }
   ],
   "source": [
    "dir(list)\n"
   ]
  },
  {
   "cell_type": "code",
   "execution_count": null,
   "metadata": {},
   "outputs": [],
   "source": []
  }
 ],
 "metadata": {
  "kernelspec": {
   "display_name": "Python 3",
   "language": "python",
   "name": "python3"
  },
  "language_info": {
   "codemirror_mode": {
    "name": "ipython",
    "version": 3
   },
   "file_extension": ".py",
   "mimetype": "text/x-python",
   "name": "python",
   "nbconvert_exporter": "python",
   "pygments_lexer": "ipython3",
   "version": "3.6.5"
  }
 },
 "nbformat": 4,
 "nbformat_minor": 2
}
