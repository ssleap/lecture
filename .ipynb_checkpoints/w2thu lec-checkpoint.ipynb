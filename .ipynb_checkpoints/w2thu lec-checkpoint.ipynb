{
 "cells": [
  {
   "cell_type": "markdown",
   "metadata": {},
   "source": [
    "# W2 Thu Lecture"
   ]
  },
  {
   "cell_type": "code",
   "execution_count": 8,
   "metadata": {},
   "outputs": [],
   "source": [
    "from sqlalchemy import create_engine"
   ]
  },
  {
   "cell_type": "code",
   "execution_count": 9,
   "metadata": {},
   "outputs": [],
   "source": [
    "engine = create_engine('sqlite:///alchemy.db', echo = True)"
   ]
  },
  {
   "cell_type": "code",
   "execution_count": 10,
   "metadata": {},
   "outputs": [],
   "source": [
    "from sqlalchemy.ext.automap import automap_base"
   ]
  },
  {
   "cell_type": "code",
   "execution_count": 11,
   "metadata": {},
   "outputs": [],
   "source": [
    "Base = automap_base()"
   ]
  },
  {
   "cell_type": "code",
   "execution_count": 12,
   "metadata": {},
   "outputs": [
    {
     "name": "stdout",
     "output_type": "stream",
     "text": [
      "2018-07-12 10:35:07,206 INFO sqlalchemy.engine.base.Engine SELECT CAST('test plain returns' AS VARCHAR(60)) AS anon_1\n",
      "2018-07-12 10:35:07,210 INFO sqlalchemy.engine.base.Engine ()\n",
      "2018-07-12 10:35:07,212 INFO sqlalchemy.engine.base.Engine SELECT CAST('test unicode returns' AS VARCHAR(60)) AS anon_1\n",
      "2018-07-12 10:35:07,213 INFO sqlalchemy.engine.base.Engine ()\n",
      "2018-07-12 10:35:07,215 INFO sqlalchemy.engine.base.Engine SELECT name FROM sqlite_master WHERE type='table' ORDER BY name\n",
      "2018-07-12 10:35:07,216 INFO sqlalchemy.engine.base.Engine ()\n",
      "2018-07-12 10:35:07,221 INFO sqlalchemy.engine.base.Engine PRAGMA table_info(\"Album\")\n",
      "2018-07-12 10:35:07,222 INFO sqlalchemy.engine.base.Engine ()\n",
      "2018-07-12 10:35:07,224 INFO sqlalchemy.engine.base.Engine SELECT sql FROM  (SELECT * FROM sqlite_master UNION ALL   SELECT * FROM sqlite_temp_master) WHERE name = 'Album' AND type = 'table'\n",
      "2018-07-12 10:35:07,225 INFO sqlalchemy.engine.base.Engine ()\n",
      "2018-07-12 10:35:07,228 INFO sqlalchemy.engine.base.Engine PRAGMA foreign_key_list(\"Album\")\n",
      "2018-07-12 10:35:07,229 INFO sqlalchemy.engine.base.Engine ()\n",
      "2018-07-12 10:35:07,231 INFO sqlalchemy.engine.base.Engine SELECT sql FROM  (SELECT * FROM sqlite_master UNION ALL   SELECT * FROM sqlite_temp_master) WHERE name = 'Album' AND type = 'table'\n",
      "2018-07-12 10:35:07,232 INFO sqlalchemy.engine.base.Engine ()\n",
      "2018-07-12 10:35:07,239 INFO sqlalchemy.engine.base.Engine PRAGMA table_info(\"Artist\")\n",
      "2018-07-12 10:35:07,241 INFO sqlalchemy.engine.base.Engine ()\n",
      "2018-07-12 10:35:07,243 INFO sqlalchemy.engine.base.Engine SELECT sql FROM  (SELECT * FROM sqlite_master UNION ALL   SELECT * FROM sqlite_temp_master) WHERE name = 'Artist' AND type = 'table'\n",
      "2018-07-12 10:35:07,244 INFO sqlalchemy.engine.base.Engine ()\n",
      "2018-07-12 10:35:07,246 INFO sqlalchemy.engine.base.Engine PRAGMA foreign_key_list(\"Artist\")\n",
      "2018-07-12 10:35:07,248 INFO sqlalchemy.engine.base.Engine ()\n",
      "2018-07-12 10:35:07,250 INFO sqlalchemy.engine.base.Engine SELECT sql FROM  (SELECT * FROM sqlite_master UNION ALL   SELECT * FROM sqlite_temp_master) WHERE name = 'Artist' AND type = 'table'\n",
      "2018-07-12 10:35:07,251 INFO sqlalchemy.engine.base.Engine ()\n",
      "2018-07-12 10:35:07,252 INFO sqlalchemy.engine.base.Engine PRAGMA index_list(\"Artist\")\n",
      "2018-07-12 10:35:07,253 INFO sqlalchemy.engine.base.Engine ()\n",
      "2018-07-12 10:35:07,255 INFO sqlalchemy.engine.base.Engine PRAGMA index_list(\"Artist\")\n",
      "2018-07-12 10:35:07,256 INFO sqlalchemy.engine.base.Engine ()\n",
      "2018-07-12 10:35:07,257 INFO sqlalchemy.engine.base.Engine SELECT sql FROM  (SELECT * FROM sqlite_master UNION ALL   SELECT * FROM sqlite_temp_master) WHERE name = 'Artist' AND type = 'table'\n",
      "2018-07-12 10:35:07,258 INFO sqlalchemy.engine.base.Engine ()\n",
      "2018-07-12 10:35:07,264 INFO sqlalchemy.engine.base.Engine PRAGMA index_list(\"Album\")\n",
      "2018-07-12 10:35:07,265 INFO sqlalchemy.engine.base.Engine ()\n",
      "2018-07-12 10:35:07,267 INFO sqlalchemy.engine.base.Engine PRAGMA index_list(\"Album\")\n",
      "2018-07-12 10:35:07,268 INFO sqlalchemy.engine.base.Engine ()\n",
      "2018-07-12 10:35:07,270 INFO sqlalchemy.engine.base.Engine SELECT sql FROM  (SELECT * FROM sqlite_master UNION ALL   SELECT * FROM sqlite_temp_master) WHERE name = 'Album' AND type = 'table'\n",
      "2018-07-12 10:35:07,271 INFO sqlalchemy.engine.base.Engine ()\n",
      "2018-07-12 10:35:07,273 INFO sqlalchemy.engine.base.Engine PRAGMA table_info(\"Genre\")\n",
      "2018-07-12 10:35:07,275 INFO sqlalchemy.engine.base.Engine ()\n",
      "2018-07-12 10:35:07,277 INFO sqlalchemy.engine.base.Engine SELECT sql FROM  (SELECT * FROM sqlite_master UNION ALL   SELECT * FROM sqlite_temp_master) WHERE name = 'Genre' AND type = 'table'\n",
      "2018-07-12 10:35:07,277 INFO sqlalchemy.engine.base.Engine ()\n",
      "2018-07-12 10:35:07,279 INFO sqlalchemy.engine.base.Engine PRAGMA foreign_key_list(\"Genre\")\n",
      "2018-07-12 10:35:07,280 INFO sqlalchemy.engine.base.Engine ()\n",
      "2018-07-12 10:35:07,282 INFO sqlalchemy.engine.base.Engine SELECT sql FROM  (SELECT * FROM sqlite_master UNION ALL   SELECT * FROM sqlite_temp_master) WHERE name = 'Genre' AND type = 'table'\n",
      "2018-07-12 10:35:07,283 INFO sqlalchemy.engine.base.Engine ()\n",
      "2018-07-12 10:35:07,285 INFO sqlalchemy.engine.base.Engine PRAGMA index_list(\"Genre\")\n",
      "2018-07-12 10:35:07,286 INFO sqlalchemy.engine.base.Engine ()\n",
      "2018-07-12 10:35:07,287 INFO sqlalchemy.engine.base.Engine PRAGMA index_list(\"Genre\")\n",
      "2018-07-12 10:35:07,288 INFO sqlalchemy.engine.base.Engine ()\n",
      "2018-07-12 10:35:07,290 INFO sqlalchemy.engine.base.Engine SELECT sql FROM  (SELECT * FROM sqlite_master UNION ALL   SELECT * FROM sqlite_temp_master) WHERE name = 'Genre' AND type = 'table'\n",
      "2018-07-12 10:35:07,290 INFO sqlalchemy.engine.base.Engine ()\n",
      "2018-07-12 10:35:07,292 INFO sqlalchemy.engine.base.Engine PRAGMA table_info(\"Track\")\n",
      "2018-07-12 10:35:07,293 INFO sqlalchemy.engine.base.Engine ()\n",
      "2018-07-12 10:35:07,296 INFO sqlalchemy.engine.base.Engine SELECT sql FROM  (SELECT * FROM sqlite_master UNION ALL   SELECT * FROM sqlite_temp_master) WHERE name = 'Track' AND type = 'table'\n",
      "2018-07-12 10:35:07,298 INFO sqlalchemy.engine.base.Engine ()\n",
      "2018-07-12 10:35:07,302 INFO sqlalchemy.engine.base.Engine PRAGMA foreign_key_list(\"Track\")\n",
      "2018-07-12 10:35:07,303 INFO sqlalchemy.engine.base.Engine ()\n",
      "2018-07-12 10:35:07,304 INFO sqlalchemy.engine.base.Engine SELECT sql FROM  (SELECT * FROM sqlite_master UNION ALL   SELECT * FROM sqlite_temp_master) WHERE name = 'Track' AND type = 'table'\n",
      "2018-07-12 10:35:07,305 INFO sqlalchemy.engine.base.Engine ()\n",
      "2018-07-12 10:35:07,308 INFO sqlalchemy.engine.base.Engine PRAGMA index_list(\"Track\")\n",
      "2018-07-12 10:35:07,309 INFO sqlalchemy.engine.base.Engine ()\n",
      "2018-07-12 10:35:07,310 INFO sqlalchemy.engine.base.Engine PRAGMA index_list(\"Track\")\n",
      "2018-07-12 10:35:07,311 INFO sqlalchemy.engine.base.Engine ()\n",
      "2018-07-12 10:35:07,312 INFO sqlalchemy.engine.base.Engine SELECT sql FROM  (SELECT * FROM sqlite_master UNION ALL   SELECT * FROM sqlite_temp_master) WHERE name = 'Track' AND type = 'table'\n",
      "2018-07-12 10:35:07,315 INFO sqlalchemy.engine.base.Engine ()\n",
      "2018-07-12 10:35:07,318 INFO sqlalchemy.engine.base.Engine PRAGMA table_info(\"adress\")\n",
      "2018-07-12 10:35:07,321 INFO sqlalchemy.engine.base.Engine ()\n",
      "2018-07-12 10:35:07,325 INFO sqlalchemy.engine.base.Engine SELECT sql FROM  (SELECT * FROM sqlite_master UNION ALL   SELECT * FROM sqlite_temp_master) WHERE name = 'adress' AND type = 'table'\n",
      "2018-07-12 10:35:07,326 INFO sqlalchemy.engine.base.Engine ()\n",
      "2018-07-12 10:35:07,327 INFO sqlalchemy.engine.base.Engine PRAGMA foreign_key_list(\"adress\")\n",
      "2018-07-12 10:35:07,328 INFO sqlalchemy.engine.base.Engine ()\n",
      "2018-07-12 10:35:07,330 INFO sqlalchemy.engine.base.Engine SELECT sql FROM  (SELECT * FROM sqlite_master UNION ALL   SELECT * FROM sqlite_temp_master) WHERE name = 'adress' AND type = 'table'\n",
      "2018-07-12 10:35:07,333 INFO sqlalchemy.engine.base.Engine ()\n",
      "2018-07-12 10:35:07,334 INFO sqlalchemy.engine.base.Engine PRAGMA table_info(\"users\")\n",
      "2018-07-12 10:35:07,335 INFO sqlalchemy.engine.base.Engine ()\n",
      "2018-07-12 10:35:07,337 INFO sqlalchemy.engine.base.Engine SELECT sql FROM  (SELECT * FROM sqlite_master UNION ALL   SELECT * FROM sqlite_temp_master) WHERE name = 'users' AND type = 'table'\n",
      "2018-07-12 10:35:07,338 INFO sqlalchemy.engine.base.Engine ()\n",
      "2018-07-12 10:35:07,340 INFO sqlalchemy.engine.base.Engine PRAGMA foreign_key_list(\"users\")\n",
      "2018-07-12 10:35:07,341 INFO sqlalchemy.engine.base.Engine ()\n",
      "2018-07-12 10:35:07,342 INFO sqlalchemy.engine.base.Engine SELECT sql FROM  (SELECT * FROM sqlite_master UNION ALL   SELECT * FROM sqlite_temp_master) WHERE name = 'users' AND type = 'table'\n",
      "2018-07-12 10:35:07,344 INFO sqlalchemy.engine.base.Engine ()\n",
      "2018-07-12 10:35:07,347 INFO sqlalchemy.engine.base.Engine PRAGMA index_list(\"users\")\n",
      "2018-07-12 10:35:07,349 INFO sqlalchemy.engine.base.Engine ()\n",
      "2018-07-12 10:35:07,353 INFO sqlalchemy.engine.base.Engine PRAGMA index_list(\"users\")\n",
      "2018-07-12 10:35:07,354 INFO sqlalchemy.engine.base.Engine ()\n",
      "2018-07-12 10:35:07,356 INFO sqlalchemy.engine.base.Engine SELECT sql FROM  (SELECT * FROM sqlite_master UNION ALL   SELECT * FROM sqlite_temp_master) WHERE name = 'users' AND type = 'table'\n",
      "2018-07-12 10:35:07,357 INFO sqlalchemy.engine.base.Engine ()\n",
      "2018-07-12 10:35:07,359 INFO sqlalchemy.engine.base.Engine PRAGMA index_list(\"adress\")\n"
     ]
    },
    {
     "name": "stdout",
     "output_type": "stream",
     "text": [
      "2018-07-12 10:35:07,359 INFO sqlalchemy.engine.base.Engine ()\n",
      "2018-07-12 10:35:07,361 INFO sqlalchemy.engine.base.Engine PRAGMA index_list(\"adress\")\n",
      "2018-07-12 10:35:07,362 INFO sqlalchemy.engine.base.Engine ()\n",
      "2018-07-12 10:35:07,365 INFO sqlalchemy.engine.base.Engine SELECT sql FROM  (SELECT * FROM sqlite_master UNION ALL   SELECT * FROM sqlite_temp_master) WHERE name = 'adress' AND type = 'table'\n",
      "2018-07-12 10:35:07,366 INFO sqlalchemy.engine.base.Engine ()\n"
     ]
    }
   ],
   "source": [
    "Base.prepare(engine, reflect=True)"
   ]
  },
  {
   "cell_type": "code",
   "execution_count": 13,
   "metadata": {},
   "outputs": [],
   "source": [
    "from sqlalchemy.orm import sessionmaker"
   ]
  },
  {
   "cell_type": "code",
   "execution_count": 14,
   "metadata": {},
   "outputs": [],
   "source": [
    "Session = sessionmaker(bind = engine)"
   ]
  },
  {
   "cell_type": "code",
   "execution_count": 15,
   "metadata": {},
   "outputs": [],
   "source": [
    "ss = Session()"
   ]
  },
  {
   "cell_type": "code",
   "execution_count": 16,
   "metadata": {},
   "outputs": [],
   "source": [
    "artist = Base.classes.Artist"
   ]
  },
  {
   "cell_type": "code",
   "execution_count": 17,
   "metadata": {},
   "outputs": [
    {
     "data": {
      "text/plain": [
       "sqlalchemy.ext.automap.Artist"
      ]
     },
     "execution_count": 17,
     "metadata": {},
     "output_type": "execute_result"
    }
   ],
   "source": [
    "artist"
   ]
  },
  {
   "cell_type": "code",
   "execution_count": 18,
   "metadata": {},
   "outputs": [
    {
     "data": {
      "text/plain": [
       "<sqlalchemy.orm.attributes.InstrumentedAttribute at 0x1aae62f7048>"
      ]
     },
     "execution_count": 18,
     "metadata": {},
     "output_type": "execute_result"
    }
   ],
   "source": [
    "artist.name"
   ]
  },
  {
   "cell_type": "code",
   "execution_count": 19,
   "metadata": {},
   "outputs": [],
   "source": [
    "result = ss.query(artist)"
   ]
  },
  {
   "cell_type": "code",
   "execution_count": 20,
   "metadata": {},
   "outputs": [
    {
     "name": "stdout",
     "output_type": "stream",
     "text": [
      "2018-07-12 10:35:09,722 INFO sqlalchemy.engine.base.Engine BEGIN (implicit)\n",
      "2018-07-12 10:35:09,723 INFO sqlalchemy.engine.base.Engine SELECT \"Artist\".id AS \"Artist_id\", \"Artist\".name AS \"Artist_name\" \n",
      "FROM \"Artist\"\n",
      "2018-07-12 10:35:09,724 INFO sqlalchemy.engine.base.Engine ()\n",
      "1 Led Zepllin\n",
      "2 AC/DC\n"
     ]
    }
   ],
   "source": [
    "for row in result:\n",
    "    print(row.id, row.name)"
   ]
  },
  {
   "cell_type": "code",
   "execution_count": null,
   "metadata": {},
   "outputs": [],
   "source": []
  }
 ],
 "metadata": {
  "kernelspec": {
   "display_name": "Python 3",
   "language": "python",
   "name": "python3"
  },
  "language_info": {
   "codemirror_mode": {
    "name": "ipython",
    "version": 3
   },
   "file_extension": ".py",
   "mimetype": "text/x-python",
   "name": "python",
   "nbconvert_exporter": "python",
   "pygments_lexer": "ipython3",
   "version": "3.6.5"
  }
 },
 "nbformat": 4,
 "nbformat_minor": 2
}
