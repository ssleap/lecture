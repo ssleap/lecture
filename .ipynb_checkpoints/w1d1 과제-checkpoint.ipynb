{
 "cells": [
  {
   "cell_type": "markdown",
   "metadata": {},
   "source": [
    "# 이번 과정에서 특히 자세히 배우고 싶은 것"
   ]
  },
  {
   "cell_type": "markdown",
   "metadata": {},
   "source": [
    "---\n",
    "1. 머신러닝 관련 이론\n",
    "  - 기계학습 모듈 tensorflow 사용했으면 좋겠습니다.\n",
    "  - CNN\n",
    "  - RNN 등\n",
    "---\n",
    "\n",
    "2. 데이터마이닝\n",
    "  - 클러스터링\n",
    "  - 추천 시스템\n",
    "  - 페이지 랭크\n",
    "  ---\n",
    "  \n",
    "3. 다양한 파이썬 라이브러리\n",
    "  - numpy\n",
    "  - 판다스\n",
    "  - 텐서플로우\n",
    "  - 플라스크 \n",
    "  - matplotlib 등\n",
    "  ---\n",
    "\n",
    "4. 국내 빅데이터 전망\n",
    "---\n",
    "\n",
    "\n",
    "\n",
    "  \n",
    "  "
   ]
  },
  {
   "cell_type": "code",
   "execution_count": null,
   "metadata": {},
   "outputs": [],
   "source": []
  }
 ],
 "metadata": {
  "kernelspec": {
   "display_name": "Python 3",
   "language": "python",
   "name": "python3"
  },
  "language_info": {
   "codemirror_mode": {
    "name": "ipython",
    "version": 3
   },
   "file_extension": ".py",
   "mimetype": "text/x-python",
   "name": "python",
   "nbconvert_exporter": "python",
   "pygments_lexer": "ipython3",
   "version": "3.6.5"
  }
 },
 "nbformat": 4,
 "nbformat_minor": 2
}
