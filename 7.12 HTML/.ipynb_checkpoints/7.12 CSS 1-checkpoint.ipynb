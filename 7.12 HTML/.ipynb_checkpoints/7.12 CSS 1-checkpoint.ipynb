{
 "cells": [
  {
   "cell_type": "code",
   "execution_count": 1,
   "metadata": {},
   "outputs": [
    {
     "name": "stdout",
     "output_type": "stream",
     "text": [
      "Writing css.html\n"
     ]
    }
   ],
   "source": [
    "%%writefile css.html\n",
    "<!doctype html>\n",
    "<html>\n",
    "    <head>\n",
    "        <style>\n",
    "            div { border : 1px solid #aaaaaa; }\n",
    "            #div1 { position : relative; height : 1000px; }\n",
    "            #div2 { position : absolute; top : 100px; left : 200px; }\n",
    "            #div3 { position : fixed; top : 100px; left : 200px; }\n",
    "            #div1 > ul { position : absolute; top: : 0; left : 200px; }\n",
    "        </style>\n",
    "    </head>\n",
    "    <body>\n",
    "        <div id = \"div1\">\n",
    "            <ul>\n",
    "                <li>Menu1</li>\n",
    "                <li>Menu2</li>\n",
    "            </ul>\n",
    "        </div>\n",
    "        <div id = \"div2\">Content2</div>\n",
    "        <div id = \"div3\">Content3</div>\n",
    "    </body>\n",
    "</html>"
   ]
  },
  {
   "cell_type": "code",
   "execution_count": 2,
   "metadata": {},
   "outputs": [
    {
     "ename": "IndentationError",
     "evalue": "unexpected indent (<ipython-input-2-98175f67c68b>, line 2)",
     "output_type": "error",
     "traceback": [
      "\u001b[1;36m  File \u001b[1;32m\"<ipython-input-2-98175f67c68b>\"\u001b[1;36m, line \u001b[1;32m2\u001b[0m\n\u001b[1;33m    div { background-color : rgba( 255, 0, 0, .5 ); }\u001b[0m\n\u001b[1;37m    ^\u001b[0m\n\u001b[1;31mIndentationError\u001b[0m\u001b[1;31m:\u001b[0m unexpected indent\n"
     ]
    }
   ],
   "source": [
    "\n",
    "            div { background-color : rgba( 255, 0, 0, .5 ); }\n",
    "            #id{ color : rgb(0,0,255); }\n",
    "            .class { background-color : yellow; }\n",
    "            div + p.class { background-color : green; }\n",
    "            p.class { font-family : \"맑은고딕\", \"Malgun Gothic\", batangche, Sans-serif; } <!--앞에것이 없으면 뒤에것을 사용-->\n",
    "            p.class { font-size : 1.0em; } <!-- em은 상대적인 크기-->"
   ]
  },
  {
   "cell_type": "code",
   "execution_count": null,
   "metadata": {},
   "outputs": [],
   "source": []
  }
 ],
 "metadata": {
  "kernelspec": {
   "display_name": "Python 3",
   "language": "python",
   "name": "python3"
  },
  "language_info": {
   "codemirror_mode": {
    "name": "ipython",
    "version": 3
   },
   "file_extension": ".py",
   "mimetype": "text/x-python",
   "name": "python",
   "nbconvert_exporter": "python",
   "pygments_lexer": "ipython3",
   "version": "3.6.5"
  }
 },
 "nbformat": 4,
 "nbformat_minor": 2
}
