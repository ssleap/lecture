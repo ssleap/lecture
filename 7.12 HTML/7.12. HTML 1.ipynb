{
 "cells": [
  {
   "cell_type": "code",
   "execution_count": 20,
   "metadata": {},
   "outputs": [
    {
     "name": "stdout",
     "output_type": "stream",
     "text": [
      "Overwriting test.html\n"
     ]
    }
   ],
   "source": [
    "%%writefile test.html\n",
    "\n",
    "<!doctype html>\n",
    "<html lang = \"ko\"> \n",
    "<head>\n",
    "    <meta charset = \"utf-8\"/> \n",
    "    <title>예제</title>\n",
    "    <meta name = \"viewport\" content = \"width = device -width, initial-scale = 1.0\"/> <!--화면가로크기 최적화-->\n",
    "    <meta name = \"keywords\" content = \"실습, 데이터진흥원, 잼\"/> <!--문서 키워드 설정-->\n",
    "    \n",
    "    \n",
    "    \n",
    "    <script></script>\n",
    "    <style></style>\n",
    "</head>\n",
    "<body>\n",
    "    <ul>\n",
    "        <li><span style = \"color:red;\">첫</span> <div style =\"color:red;\"> 번</div>째</li> <!--inline요소는 영역을 잡지않고 block요소는 영역을 잡아줌-->\n",
    "        <li>두 번째</li>\n",
    "        <li>세 번째</li>\n",
    "    </ul>\n",
    "    <h1>첫 번째 예제</h1> <!--중요한것-->\n",
    "    <h2>첫 번째 예제</h2>\n",
    "    <h3>첫 번째 예제</h3>\n",
    "    <h4>첫 번째 예제</h4>\n",
    "    <h5>첫 번째 예제</h5>\n",
    "    <h6>첫 번째 예제</h6> <!--안중요한것-->\n",
    "    <section>\n",
    "        <article>\n",
    "            <h1>제목1</h1>\n",
    "            <p>내용1</p>\n",
    "        </article>\n",
    "        <article>\n",
    "            <h1>제목2</h1>\n",
    "            <p>내용2</p>\n",
    "        </article>\n",
    "        <article>\n",
    "            <h1>제목3</h1>\n",
    "            <p>내용3</p>\n",
    "        </article>\n",
    "        <article>\n",
    "            <pre>                       \n",
    "            <!--pre는 눈에보이는대로 출력해줌-->\n",
    "                                           출력\n",
    "            </pre>\n",
    "            <br/><br/><!--\\n\\n-->\n",
    "        <article>\n",
    "            <h1>네이버</h1>\n",
    "            <p>\n",
    "                <a href = \"https://www.naver.com\" target = \"_self\">단락</a><br/><br/>\n",
    "            </p>\n",
    "        </article>\n",
    "        <article>\n",
    "            <h></h>\n",
    "            <p>\n",
    "                <img src = \"bg.jpg\" usemap = \"#test\"/> <!--hash : id값을 나타냄-->\n",
    "            </p>\n",
    "            <map name = \"test\">\n",
    "                <area shape = \"rect\" coords = \"0,0,100,100\" alt = \"도움말1\" href = \"https://www.naver.com\">\n",
    "                <area shape = \"rect\" coords = \"100,100,200,200\" alt = \"도움말2\" href = \"https://www.naver.com\">\n",
    "                <area shape = \"rect\" coords = \"200,200,300,300\" alt = \"도움말3\" href = \"https://www.naver.com\">\n",
    "            </map>\n",
    "        </article>\n",
    "    </section>\n",
    "</body>\n",
    "</html>"
   ]
  },
  {
   "cell_type": "code",
   "execution_count": null,
   "metadata": {},
   "outputs": [],
   "source": []
  },
  {
   "cell_type": "code",
   "execution_count": null,
   "metadata": {},
   "outputs": [],
   "source": []
  }
 ],
 "metadata": {
  "kernelspec": {
   "display_name": "Python 3",
   "language": "python",
   "name": "python3"
  },
  "language_info": {
   "codemirror_mode": {
    "name": "ipython",
    "version": 3
   },
   "file_extension": ".py",
   "mimetype": "text/x-python",
   "name": "python",
   "nbconvert_exporter": "python",
   "pygments_lexer": "ipython3",
   "version": "3.6.5"
  }
 },
 "nbformat": 4,
 "nbformat_minor": 2
}
