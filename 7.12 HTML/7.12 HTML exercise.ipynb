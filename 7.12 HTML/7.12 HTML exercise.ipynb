{
 "cells": [
  {
   "cell_type": "code",
   "execution_count": 1,
   "metadata": {},
   "outputs": [
    {
     "name": "stdout",
     "output_type": "stream",
     "text": [
      "Overwriting test.html\n"
     ]
    }
   ],
   "source": [
    "%%writefile test.html\n",
    "\n",
    "<!doctype html>\n",
    "<html lang = \"ko\"> \n",
    "<head>\n",
    "    <meta charset = \"utf-8\"/> \n",
    "    <title>예제</title>\n",
    "    <meta name = \"viewport\" content = \"width = device -width, initial-scale = 1.0\"/> <!--화면가로크기 최적화-->\n",
    "    <meta name = \"keywords\" content = \"실습, 데이터진흥원, 잼\"/> <!--문서 키워드 설정-->\n",
    "    <script></script>\n",
    "    <style></style>\n",
    "</head>\n",
    "<body>\n",
    "    <header>\n",
    "        <nav>\n",
    "            <ul>\n",
    "                <li>Home</li>\n",
    "                <li>News</li>\n",
    "                <li>Contact</li>\n",
    "                <li>About</li>\n",
    "            </ul>\n",
    "        </nav>\n",
    "    </header>\n",
    "    <main>\n",
    "        <aside>\n",
    "            <section>\n",
    "                <h1>Advertisement</h1>\n",
    "                <p>Content</p>\n",
    "            </section>\n",
    "            <section>\n",
    "                <h1>Advertisement</h1>\n",
    "                <p>Content</p>\n",
    "            </section>\n",
    "        </aside>\n",
    "        <section>\n",
    "            <article>\n",
    "                <h1>1. Title</h1>\n",
    "                <p>Content</p>\n",
    "            </article>\n",
    "            <article>\n",
    "                <h1>2. Title</h1>\n",
    "                <section>\n",
    "                    <h1>2.1 Title</h1>\n",
    "                    <p>2.1 Content</p>\n",
    "                </section>\n",
    "                <section>\n",
    "                    <h1>2.2 Title</h1>\n",
    "                    <p>2.2 Content</p>\n",
    "                </section>\n",
    "            </article>\n",
    "        </section>\n",
    "    </main>\n",
    "    <footer>\n",
    "    </footer>\n",
    "</body>\n",
    "</html>"
   ]
  },
  {
   "cell_type": "code",
   "execution_count": null,
   "metadata": {},
   "outputs": [],
   "source": []
  }
 ],
 "metadata": {
  "kernelspec": {
   "display_name": "Python 3",
   "language": "python",
   "name": "python3"
  },
  "language_info": {
   "codemirror_mode": {
    "name": "ipython",
    "version": 3
   },
   "file_extension": ".py",
   "mimetype": "text/x-python",
   "name": "python",
   "nbconvert_exporter": "python",
   "pygments_lexer": "ipython3",
   "version": "3.6.5"
  }
 },
 "nbformat": 4,
 "nbformat_minor": 2
}
