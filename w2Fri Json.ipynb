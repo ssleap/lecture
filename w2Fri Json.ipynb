{
 "cells": [
  {
   "cell_type": "code",
   "execution_count": 1,
   "metadata": {},
   "outputs": [],
   "source": [
    "import json"
   ]
  },
  {
   "cell_type": "code",
   "execution_count": 2,
   "metadata": {},
   "outputs": [
    {
     "data": {
      "text/plain": [
       "['JSONDecodeError',\n",
       " 'JSONDecoder',\n",
       " 'JSONEncoder',\n",
       " '__all__',\n",
       " '__author__',\n",
       " '__builtins__',\n",
       " '__cached__',\n",
       " '__doc__',\n",
       " '__file__',\n",
       " '__loader__',\n",
       " '__name__',\n",
       " '__package__',\n",
       " '__path__',\n",
       " '__spec__',\n",
       " '__version__',\n",
       " '_default_decoder',\n",
       " '_default_encoder',\n",
       " 'codecs',\n",
       " 'decoder',\n",
       " 'detect_encoding',\n",
       " 'dump',\n",
       " 'dumps',\n",
       " 'encoder',\n",
       " 'load',\n",
       " 'loads',\n",
       " 'scanner']"
      ]
     },
     "execution_count": 2,
     "metadata": {},
     "output_type": "execute_result"
    }
   ],
   "source": [
    "dir(json)"
   ]
  },
  {
   "cell_type": "code",
   "execution_count": 3,
   "metadata": {},
   "outputs": [],
   "source": [
    "name = (\"kim\", \"lee\", \"park\")"
   ]
  },
  {
   "cell_type": "code",
   "execution_count": 4,
   "metadata": {},
   "outputs": [
    {
     "data": {
      "text/plain": [
       "tuple"
      ]
     },
     "execution_count": 4,
     "metadata": {},
     "output_type": "execute_result"
    }
   ],
   "source": [
    "type(name)"
   ]
  },
  {
   "cell_type": "code",
   "execution_count": 6,
   "metadata": {},
   "outputs": [],
   "source": [
    "age = [28,32, 53]"
   ]
  },
  {
   "cell_type": "code",
   "execution_count": 7,
   "metadata": {},
   "outputs": [
    {
     "data": {
      "text/plain": [
       "list"
      ]
     },
     "execution_count": 7,
     "metadata": {},
     "output_type": "execute_result"
    }
   ],
   "source": [
    "type(age)"
   ]
  },
  {
   "cell_type": "code",
   "execution_count": 8,
   "metadata": {},
   "outputs": [],
   "source": [
    "person = {\"name\" : \"kim\", \"age\":30, \"car\" : False}"
   ]
  },
  {
   "cell_type": "code",
   "execution_count": 9,
   "metadata": {},
   "outputs": [
    {
     "data": {
      "text/plain": [
       "dict"
      ]
     },
     "execution_count": 9,
     "metadata": {},
     "output_type": "execute_result"
    }
   ],
   "source": [
    "type(person)"
   ]
  },
  {
   "cell_type": "code",
   "execution_count": 11,
   "metadata": {},
   "outputs": [],
   "source": [
    "nameStr = json.dumps(name)"
   ]
  },
  {
   "cell_type": "code",
   "execution_count": 12,
   "metadata": {},
   "outputs": [
    {
     "data": {
      "text/plain": [
       "str"
      ]
     },
     "execution_count": 12,
     "metadata": {},
     "output_type": "execute_result"
    }
   ],
   "source": [
    "type(nameStr)"
   ]
  },
  {
   "cell_type": "code",
   "execution_count": 13,
   "metadata": {},
   "outputs": [
    {
     "data": {
      "text/plain": [
       "'[\"kim\", \"lee\", \"park\"]'"
      ]
     },
     "execution_count": 13,
     "metadata": {},
     "output_type": "execute_result"
    }
   ],
   "source": [
    "nameStr"
   ]
  },
  {
   "cell_type": "code",
   "execution_count": 14,
   "metadata": {},
   "outputs": [],
   "source": [
    "personStr = json.dumps(person, indent = \"    \")"
   ]
  },
  {
   "cell_type": "code",
   "execution_count": 15,
   "metadata": {},
   "outputs": [
    {
     "data": {
      "text/plain": [
       "str"
      ]
     },
     "execution_count": 15,
     "metadata": {},
     "output_type": "execute_result"
    }
   ],
   "source": [
    "type(personStr)"
   ]
  },
  {
   "cell_type": "code",
   "execution_count": 16,
   "metadata": {},
   "outputs": [
    {
     "data": {
      "text/plain": [
       "'{\\n    \"name\": \"kim\",\\n    \"age\": 30,\\n    \"car\": false\\n}'"
      ]
     },
     "execution_count": 16,
     "metadata": {},
     "output_type": "execute_result"
    }
   ],
   "source": [
    "personStr"
   ]
  },
  {
   "cell_type": "markdown",
   "metadata": {},
   "source": [
    "json에서 받아온 컨테이너 자료형 타입은 스트링"
   ]
  },
  {
   "cell_type": "code",
   "execution_count": 17,
   "metadata": {},
   "outputs": [],
   "source": [
    "korean = ('김','이','최')"
   ]
  },
  {
   "cell_type": "code",
   "execution_count": 18,
   "metadata": {},
   "outputs": [],
   "source": [
    "koreanStr = json.dumps(korean)"
   ]
  },
  {
   "cell_type": "code",
   "execution_count": 19,
   "metadata": {},
   "outputs": [
    {
     "name": "stdout",
     "output_type": "stream",
     "text": [
      "[\"\\uae40\", \"\\uc774\", \"\\ucd5c\"]\n"
     ]
    }
   ],
   "source": [
    "print(koreanStr)"
   ]
  },
  {
   "cell_type": "markdown",
   "metadata": {},
   "source": [
    "아스키코드로 변화된다."
   ]
  },
  {
   "cell_type": "code",
   "execution_count": 20,
   "metadata": {},
   "outputs": [],
   "source": [
    "koreanStr = json.dumps(korean, ensure_ascii = False)"
   ]
  },
  {
   "cell_type": "code",
   "execution_count": 21,
   "metadata": {},
   "outputs": [
    {
     "name": "stdout",
     "output_type": "stream",
     "text": [
      "[\"김\", \"이\", \"최\"]\n"
     ]
    }
   ],
   "source": [
    "print(koreanStr)"
   ]
  },
  {
   "cell_type": "code",
   "execution_count": 22,
   "metadata": {},
   "outputs": [
    {
     "data": {
      "text/plain": [
       "'[\"김\", \"이\", \"최\"]'"
      ]
     },
     "execution_count": 22,
     "metadata": {},
     "output_type": "execute_result"
    }
   ],
   "source": [
    "koreanStr"
   ]
  },
  {
   "cell_type": "markdown",
   "metadata": {},
   "source": [
    "역시 문자열이다."
   ]
  },
  {
   "cell_type": "code",
   "execution_count": 24,
   "metadata": {},
   "outputs": [],
   "source": [
    "personObj = json.loads(personStr)"
   ]
  },
  {
   "cell_type": "code",
   "execution_count": 25,
   "metadata": {},
   "outputs": [
    {
     "data": {
      "text/plain": [
       "{'name': 'kim', 'age': 30, 'car': False}"
      ]
     },
     "execution_count": 25,
     "metadata": {},
     "output_type": "execute_result"
    }
   ],
   "source": [
    "personObj"
   ]
  },
  {
   "cell_type": "markdown",
   "metadata": {},
   "source": [
    "다시 딕셔너리 타입으로 읽어온다. "
   ]
  },
  {
   "cell_type": "code",
   "execution_count": 26,
   "metadata": {},
   "outputs": [
    {
     "data": {
      "text/plain": [
       "'kim'"
      ]
     },
     "execution_count": 26,
     "metadata": {},
     "output_type": "execute_result"
    }
   ],
   "source": [
    "personObj['name']"
   ]
  },
  {
   "cell_type": "code",
   "execution_count": 27,
   "metadata": {},
   "outputs": [
    {
     "data": {
      "text/plain": [
       "True"
      ]
     },
     "execution_count": 27,
     "metadata": {},
     "output_type": "execute_result"
    }
   ],
   "source": [
    "person == personObj"
   ]
  },
  {
   "cell_type": "code",
   "execution_count": 28,
   "metadata": {},
   "outputs": [
    {
     "data": {
      "text/plain": [
       "False"
      ]
     },
     "execution_count": 28,
     "metadata": {},
     "output_type": "execute_result"
    }
   ],
   "source": [
    "person is personObj\n"
   ]
  },
  {
   "cell_type": "code",
   "execution_count": 29,
   "metadata": {},
   "outputs": [],
   "source": [
    "personObj['car'] = ['레이', '모닝']"
   ]
  },
  {
   "cell_type": "code",
   "execution_count": 30,
   "metadata": {},
   "outputs": [
    {
     "data": {
      "text/plain": [
       "{'name': 'kim', 'age': 30, 'car': ['레이', '모닝']}"
      ]
     },
     "execution_count": 30,
     "metadata": {},
     "output_type": "execute_result"
    }
   ],
   "source": [
    "personObj"
   ]
  },
  {
   "cell_type": "code",
   "execution_count": 36,
   "metadata": {},
   "outputs": [],
   "source": [
    "with open(\"test.json\",'w') as fp:\n",
    "    json.dump(personObj, fp)"
   ]
  },
  {
   "cell_type": "code",
   "execution_count": 37,
   "metadata": {},
   "outputs": [],
   "source": [
    "with open(\"test.json\",'r') as fp:\n",
    "    loadObj = json.load(fp)"
   ]
  },
  {
   "cell_type": "code",
   "execution_count": 38,
   "metadata": {},
   "outputs": [
    {
     "data": {
      "text/plain": [
       "{'name': 'kim', 'age': 30, 'car': ['레이', '모닝']}"
      ]
     },
     "execution_count": 38,
     "metadata": {},
     "output_type": "execute_result"
    }
   ],
   "source": [
    "loadObj"
   ]
  },
  {
   "cell_type": "code",
   "execution_count": 39,
   "metadata": {},
   "outputs": [
    {
     "data": {
      "text/plain": [
       "True"
      ]
     },
     "execution_count": 39,
     "metadata": {},
     "output_type": "execute_result"
    }
   ],
   "source": [
    "personObj == loadObj"
   ]
  },
  {
   "cell_type": "code",
   "execution_count": 56,
   "metadata": {},
   "outputs": [],
   "source": [
    "import urllib.request"
   ]
  },
  {
   "cell_type": "code",
   "execution_count": 57,
   "metadata": {},
   "outputs": [],
   "source": [
    "resp = urllib.request.urlopen(\"https://jsonplaceholder.typicode.com/posts/1\")"
   ]
  },
  {
   "cell_type": "code",
   "execution_count": 58,
   "metadata": {},
   "outputs": [
    {
     "data": {
      "text/plain": [
       "<http.client.HTTPResponse at 0x1c859932208>"
      ]
     },
     "execution_count": 58,
     "metadata": {},
     "output_type": "execute_result"
    }
   ],
   "source": [
    "resp"
   ]
  },
  {
   "cell_type": "code",
   "execution_count": 59,
   "metadata": {},
   "outputs": [
    {
     "data": {
      "text/plain": [
       "http.client.HTTPResponse"
      ]
     },
     "execution_count": 59,
     "metadata": {},
     "output_type": "execute_result"
    }
   ],
   "source": [
    "type(resp)"
   ]
  },
  {
   "cell_type": "code",
   "execution_count": 60,
   "metadata": {},
   "outputs": [
    {
     "name": "stdout",
     "output_type": "stream",
     "text": [
      "<http.client.HTTPResponse object at 0x000001C859932208>\n"
     ]
    }
   ],
   "source": [
    "print(resp)"
   ]
  },
  {
   "cell_type": "code",
   "execution_count": 61,
   "metadata": {},
   "outputs": [],
   "source": [
    "text = resp.read()"
   ]
  },
  {
   "cell_type": "code",
   "execution_count": 62,
   "metadata": {},
   "outputs": [
    {
     "data": {
      "text/plain": [
       "bytes"
      ]
     },
     "execution_count": 62,
     "metadata": {},
     "output_type": "execute_result"
    }
   ],
   "source": [
    "type(text)"
   ]
  },
  {
   "cell_type": "code",
   "execution_count": 63,
   "metadata": {},
   "outputs": [],
   "source": [
    "textStr = text.decode(\"utf-8\")"
   ]
  },
  {
   "cell_type": "code",
   "execution_count": 64,
   "metadata": {},
   "outputs": [
    {
     "data": {
      "text/plain": [
       "str"
      ]
     },
     "execution_count": 64,
     "metadata": {},
     "output_type": "execute_result"
    }
   ],
   "source": [
    "type(textStr)"
   ]
  },
  {
   "cell_type": "code",
   "execution_count": 65,
   "metadata": {},
   "outputs": [
    {
     "data": {
      "text/plain": [
       "'{\\n  \"userId\": 1,\\n  \"id\": 1,\\n  \"title\": \"sunt aut facere repellat provident occaecati excepturi optio reprehenderit\",\\n  \"body\": \"quia et suscipit\\\\nsuscipit recusandae consequuntur expedita et cum\\\\nreprehenderit molestiae ut ut quas totam\\\\nnostrum rerum est autem sunt rem eveniet architecto\"\\n}'"
      ]
     },
     "execution_count": 65,
     "metadata": {},
     "output_type": "execute_result"
    }
   ],
   "source": [
    "textStr"
   ]
  },
  {
   "cell_type": "code",
   "execution_count": 66,
   "metadata": {},
   "outputs": [],
   "source": [
    "respObj = json.loads(textStr)"
   ]
  },
  {
   "cell_type": "code",
   "execution_count": 67,
   "metadata": {},
   "outputs": [
    {
     "data": {
      "text/plain": [
       "'sunt aut facere repellat provident occaecati excepturi optio reprehenderit'"
      ]
     },
     "execution_count": 67,
     "metadata": {},
     "output_type": "execute_result"
    }
   ],
   "source": [
    "respObj['title']"
   ]
  },
  {
   "cell_type": "code",
   "execution_count": 68,
   "metadata": {},
   "outputs": [
    {
     "name": "stdout",
     "output_type": "stream",
     "text": [
      "userId 1\n",
      "<class 'int'>\n",
      "id 1\n",
      "<class 'int'>\n",
      "title sunt aut facere repellat provident occaecati excepturi optio reprehenderit\n",
      "<class 'str'>\n",
      "body quia et suscipit\n",
      "suscipit recusandae consequuntur expedita et cum\n",
      "reprehenderit molestiae ut ut quas totam\n",
      "nostrum rerum est autem sunt rem eveniet architecto\n",
      "<class 'str'>\n"
     ]
    }
   ],
   "source": [
    "for (k,v) in respObj.items() :\n",
    "    print(k,v)\n",
    "    print(type(v))"
   ]
  },
  {
   "cell_type": "code",
   "execution_count": 97,
   "metadata": {},
   "outputs": [],
   "source": [
    "url = 'http://openapi.airkorea.or.kr/openapi/services/rest/ArpltnInforInqireSvc/getCtprvnRltmMesureDnsty'"
   ]
  },
  {
   "cell_type": "code",
   "execution_count": 93,
   "metadata": {},
   "outputs": [
    {
     "ename": "SyntaxError",
     "evalue": "Missing parentheses in call to 'print'. Did you mean print(response_body)? (<ipython-input-93-3028f4dbe75c>, line 10)",
     "output_type": "error",
     "traceback": [
      "\u001b[1;36m  File \u001b[1;32m\"<ipython-input-93-3028f4dbe75c>\"\u001b[1;36m, line \u001b[1;32m10\u001b[0m\n\u001b[1;33m    print response_body\u001b[0m\n\u001b[1;37m                      ^\u001b[0m\n\u001b[1;31mSyntaxError\u001b[0m\u001b[1;31m:\u001b[0m Missing parentheses in call to 'print'. Did you mean print(response_body)?\n"
     ]
    }
   ],
   "source": [
    "from urllib2 import Request, urlopen\n",
    "from urllib import urlencode, quote_plus\n",
    "\n",
    "url = 'http://openapi.airkorea.or.kr/openapi/services/rest/ArpltnInforInqireSvc/getCtprvnMesureSidoLIst'\n",
    "queryParams = '?' + urlencode({ quote_plus('ServiceKey') : 'ckzCRkQ0HOEcHoV%2BZ5N0fDqDm6Jyp4oTXIZdL5NduqXd%2BbEs%2BZOvsAgOmvuR2YgF5uNI88ARNfA726SEAAAHKA%3D%3D', quote_plus('numOfRows') : '10', quote_plus('pageNo') : '1', quote_plus('sidoName') : '서울', quote_plus('searchCondition') : 'DAILY' })\n",
    "\n",
    "request = Request(url + queryParams)\n",
    "request.get_method = lambda: 'GET'\n",
    "response_body = urlopen(request).read()\n",
    "print response_body"
   ]
  },
  {
   "cell_type": "code",
   "execution_count": 122,
   "metadata": {},
   "outputs": [],
   "source": [
    "params = {\n",
    "    'serviceKey' : 'sjc4mmX%2FYsEie54QsVIEZVrWfkgaO44OWimEARmGFWWCr0a8%2BtyL8fJnF2PcTc5FWEV5ayrD1lG%2B4UA7r8SbzQ%3D%3D',\n",
    "    'numOfRows' : 10,\n",
    "    'pageSize' : 10,\n",
    "    'startPage' : 1,\n",
    "    'sidoName' : None,\n",
    "    'dataTerm' : 'DAILY',\n",
    "    'var' : '1.3',\n",
    "    '_returnType' : 'json',\n",
    "    \n",
    "}"
   ]
  },
  {
   "cell_type": "code",
   "execution_count": 123,
   "metadata": {},
   "outputs": [
    {
     "data": {
      "text/plain": [
       "{'serviceKey': 'sjc4mmX%2FYsEie54QsVIEZVrWfkgaO44OWimEARmGFWWCr0a8%2BtyL8fJnF2PcTc5FWEV5ayrD1lG%2B4UA7r8SbzQ%3D%3D',\n",
       " 'numOfRows': 10,\n",
       " 'pageSize': 10,\n",
       " 'startPage': 1,\n",
       " 'sidoName': None,\n",
       " 'dataTerm': 'DAILY',\n",
       " 'var': '1.3',\n",
       " '_returnType': 'json'}"
      ]
     },
     "execution_count": 123,
     "metadata": {},
     "output_type": "execute_result"
    }
   ],
   "source": [
    "params"
   ]
  },
  {
   "cell_type": "code",
   "execution_count": 124,
   "metadata": {},
   "outputs": [],
   "source": [
    "params['sidoName'] = '서울'"
   ]
  },
  {
   "cell_type": "code",
   "execution_count": 125,
   "metadata": {},
   "outputs": [],
   "source": [
    "url = 'http://openapi.airkorea.or.kr/openapi/services/rest/ArpltnInforInqireSvc/getCtprvnRltmMesureDnsty'"
   ]
  },
  {
   "cell_type": "code",
   "execution_count": 126,
   "metadata": {},
   "outputs": [
    {
     "data": {
      "text/plain": [
       "False"
      ]
     },
     "execution_count": 126,
     "metadata": {},
     "output_type": "execute_result"
    }
   ],
   "source": [
    "url == 'sjc4mmX%2FYsEie54QsVIEZVrWfkgaO44OWimEARmGFWWCr0a8%2BtyL8fJnF2PcTc5FWEV5ayrD1lG%2B4UA7r8SbzQ%3D%3D'"
   ]
  },
  {
   "cell_type": "code",
   "execution_count": 127,
   "metadata": {},
   "outputs": [],
   "source": [
    "from urllib import parse"
   ]
  },
  {
   "cell_type": "code",
   "execution_count": 128,
   "metadata": {},
   "outputs": [],
   "source": [
    "params['serviceKey'] = urllib.parse.unquote(params['serviceKey'])"
   ]
  },
  {
   "cell_type": "code",
   "execution_count": 129,
   "metadata": {},
   "outputs": [
    {
     "data": {
      "text/plain": [
       "'sjc4mmX/YsEie54QsVIEZVrWfkgaO44OWimEARmGFWWCr0a8+tyL8fJnF2PcTc5FWEV5ayrD1lG+4UA7r8SbzQ=='"
      ]
     },
     "execution_count": 129,
     "metadata": {},
     "output_type": "execute_result"
    }
   ],
   "source": [
    "params['serviceKey']"
   ]
  },
  {
   "cell_type": "code",
   "execution_count": 154,
   "metadata": {},
   "outputs": [],
   "source": [
    "paramUrl = parse.urlencode(params)"
   ]
  },
  {
   "cell_type": "code",
   "execution_count": 155,
   "metadata": {},
   "outputs": [
    {
     "data": {
      "text/plain": [
       "'serviceKey=sjc4mmX%252FYsEie54QsVIEZVrWfkgaO44OWimEARmGFWWCr0a8%252BtyL8fJnF2PcTc5FWEV5ayrD1lG%252B4UA7r8SbzQ%253D%253D&numOfRows=10&pageSize=10&startPage=1&sidoName=%EC%84%B1%EB%B6%81%EA%B5%AC&dataTerm=DAILY&var=1.3&_returnType=json'"
      ]
     },
     "execution_count": 155,
     "metadata": {},
     "output_type": "execute_result"
    }
   ],
   "source": [
    "paramUrl"
   ]
  },
  {
   "cell_type": "code",
   "execution_count": 156,
   "metadata": {},
   "outputs": [
    {
     "data": {
      "text/plain": [
       "str"
      ]
     },
     "execution_count": 156,
     "metadata": {},
     "output_type": "execute_result"
    }
   ],
   "source": [
    "type(paramUrl)"
   ]
  },
  {
   "cell_type": "code",
   "execution_count": 157,
   "metadata": {},
   "outputs": [],
   "source": [
    "paramBytes = paramUrl.encode(\"utf-8\")"
   ]
  },
  {
   "cell_type": "code",
   "execution_count": 158,
   "metadata": {},
   "outputs": [
    {
     "data": {
      "text/plain": [
       "bytes"
      ]
     },
     "execution_count": 158,
     "metadata": {},
     "output_type": "execute_result"
    }
   ],
   "source": [
    "type(paramBytes)"
   ]
  },
  {
   "cell_type": "code",
   "execution_count": 159,
   "metadata": {},
   "outputs": [
    {
     "name": "stdout",
     "output_type": "stream",
     "text": [
      "b'serviceKey=sjc4mmX%252FYsEie54QsVIEZVrWfkgaO44OWimEARmGFWWCr0a8%252BtyL8fJnF2PcTc5FWEV5ayrD1lG%252B4UA7r8SbzQ%253D%253D&numOfRows=10&pageSize=10&startPage=1&sidoName=%EC%84%B1%EB%B6%81%EA%B5%AC&dataTerm=DAILY&var=1.3&_returnType=json'\n"
     ]
    }
   ],
   "source": [
    "print(paramBytes)"
   ]
  },
  {
   "cell_type": "code",
   "execution_count": 160,
   "metadata": {},
   "outputs": [],
   "source": [
    "req = urllib.request.Request(url, data = paramBytes)"
   ]
  },
  {
   "cell_type": "code",
   "execution_count": 161,
   "metadata": {},
   "outputs": [],
   "source": [
    "res = urllib.request.urlopen(req)"
   ]
  },
  {
   "cell_type": "code",
   "execution_count": 162,
   "metadata": {},
   "outputs": [],
   "source": [
    "result = res.read()"
   ]
  },
  {
   "cell_type": "code",
   "execution_count": 163,
   "metadata": {},
   "outputs": [
    {
     "data": {
      "text/plain": [
       "bytes"
      ]
     },
     "execution_count": 163,
     "metadata": {},
     "output_type": "execute_result"
    }
   ],
   "source": [
    "type(result)"
   ]
  },
  {
   "cell_type": "code",
   "execution_count": 164,
   "metadata": {},
   "outputs": [],
   "source": [
    "resultStr = result.decode('utf-8')"
   ]
  },
  {
   "cell_type": "code",
   "execution_count": 165,
   "metadata": {},
   "outputs": [
    {
     "data": {
      "text/plain": [
       "str"
      ]
     },
     "execution_count": 165,
     "metadata": {},
     "output_type": "execute_result"
    }
   ],
   "source": [
    "type(resultStr)"
   ]
  },
  {
   "cell_type": "code",
   "execution_count": 166,
   "metadata": {},
   "outputs": [
    {
     "data": {
      "text/plain": [
       "'<?xml version=\"1.0\" encoding=\"UTF-8\"?>\\r\\n\\r\\n\\r\\n\\r\\n\\r\\n<response>\\r\\n\\t<header>\\r\\n\\t\\t<resultCode>30</resultCode>\\r\\n\\t\\t<resultMsg>SERVICE KEY IS NOT REGISTERED ERROR.</resultMsg>\\r\\n\\t</header>\\r\\n</response>\\r\\n'"
      ]
     },
     "execution_count": 166,
     "metadata": {},
     "output_type": "execute_result"
    }
   ],
   "source": [
    "resultStr"
   ]
  },
  {
   "cell_type": "code",
   "execution_count": 167,
   "metadata": {},
   "outputs": [
    {
     "ename": "JSONDecodeError",
     "evalue": "Expecting value: line 1 column 1 (char 0)",
     "output_type": "error",
     "traceback": [
      "\u001b[1;31m---------------------------------------------------------------------------\u001b[0m",
      "\u001b[1;31mJSONDecodeError\u001b[0m                           Traceback (most recent call last)",
      "\u001b[1;32m<ipython-input-167-e2247da3fb7c>\u001b[0m in \u001b[0;36m<module>\u001b[1;34m()\u001b[0m\n\u001b[1;32m----> 1\u001b[1;33m \u001b[0mresultObj\u001b[0m \u001b[1;33m=\u001b[0m \u001b[0mjson\u001b[0m\u001b[1;33m.\u001b[0m\u001b[0mloads\u001b[0m\u001b[1;33m(\u001b[0m\u001b[0mresultStr\u001b[0m\u001b[1;33m)\u001b[0m\u001b[1;33m\u001b[0m\u001b[0m\n\u001b[0m",
      "\u001b[1;32m~\\Anaconda3\\lib\\json\\__init__.py\u001b[0m in \u001b[0;36mloads\u001b[1;34m(s, encoding, cls, object_hook, parse_float, parse_int, parse_constant, object_pairs_hook, **kw)\u001b[0m\n\u001b[0;32m    352\u001b[0m             \u001b[0mparse_int\u001b[0m \u001b[1;32mis\u001b[0m \u001b[1;32mNone\u001b[0m \u001b[1;32mand\u001b[0m \u001b[0mparse_float\u001b[0m \u001b[1;32mis\u001b[0m \u001b[1;32mNone\u001b[0m \u001b[1;32mand\u001b[0m\u001b[1;33m\u001b[0m\u001b[0m\n\u001b[0;32m    353\u001b[0m             parse_constant is None and object_pairs_hook is None and not kw):\n\u001b[1;32m--> 354\u001b[1;33m         \u001b[1;32mreturn\u001b[0m \u001b[0m_default_decoder\u001b[0m\u001b[1;33m.\u001b[0m\u001b[0mdecode\u001b[0m\u001b[1;33m(\u001b[0m\u001b[0ms\u001b[0m\u001b[1;33m)\u001b[0m\u001b[1;33m\u001b[0m\u001b[0m\n\u001b[0m\u001b[0;32m    355\u001b[0m     \u001b[1;32mif\u001b[0m \u001b[0mcls\u001b[0m \u001b[1;32mis\u001b[0m \u001b[1;32mNone\u001b[0m\u001b[1;33m:\u001b[0m\u001b[1;33m\u001b[0m\u001b[0m\n\u001b[0;32m    356\u001b[0m         \u001b[0mcls\u001b[0m \u001b[1;33m=\u001b[0m \u001b[0mJSONDecoder\u001b[0m\u001b[1;33m\u001b[0m\u001b[0m\n",
      "\u001b[1;32m~\\Anaconda3\\lib\\json\\decoder.py\u001b[0m in \u001b[0;36mdecode\u001b[1;34m(self, s, _w)\u001b[0m\n\u001b[0;32m    337\u001b[0m \u001b[1;33m\u001b[0m\u001b[0m\n\u001b[0;32m    338\u001b[0m         \"\"\"\n\u001b[1;32m--> 339\u001b[1;33m         \u001b[0mobj\u001b[0m\u001b[1;33m,\u001b[0m \u001b[0mend\u001b[0m \u001b[1;33m=\u001b[0m \u001b[0mself\u001b[0m\u001b[1;33m.\u001b[0m\u001b[0mraw_decode\u001b[0m\u001b[1;33m(\u001b[0m\u001b[0ms\u001b[0m\u001b[1;33m,\u001b[0m \u001b[0midx\u001b[0m\u001b[1;33m=\u001b[0m\u001b[0m_w\u001b[0m\u001b[1;33m(\u001b[0m\u001b[0ms\u001b[0m\u001b[1;33m,\u001b[0m \u001b[1;36m0\u001b[0m\u001b[1;33m)\u001b[0m\u001b[1;33m.\u001b[0m\u001b[0mend\u001b[0m\u001b[1;33m(\u001b[0m\u001b[1;33m)\u001b[0m\u001b[1;33m)\u001b[0m\u001b[1;33m\u001b[0m\u001b[0m\n\u001b[0m\u001b[0;32m    340\u001b[0m         \u001b[0mend\u001b[0m \u001b[1;33m=\u001b[0m \u001b[0m_w\u001b[0m\u001b[1;33m(\u001b[0m\u001b[0ms\u001b[0m\u001b[1;33m,\u001b[0m \u001b[0mend\u001b[0m\u001b[1;33m)\u001b[0m\u001b[1;33m.\u001b[0m\u001b[0mend\u001b[0m\u001b[1;33m(\u001b[0m\u001b[1;33m)\u001b[0m\u001b[1;33m\u001b[0m\u001b[0m\n\u001b[0;32m    341\u001b[0m         \u001b[1;32mif\u001b[0m \u001b[0mend\u001b[0m \u001b[1;33m!=\u001b[0m \u001b[0mlen\u001b[0m\u001b[1;33m(\u001b[0m\u001b[0ms\u001b[0m\u001b[1;33m)\u001b[0m\u001b[1;33m:\u001b[0m\u001b[1;33m\u001b[0m\u001b[0m\n",
      "\u001b[1;32m~\\Anaconda3\\lib\\json\\decoder.py\u001b[0m in \u001b[0;36mraw_decode\u001b[1;34m(self, s, idx)\u001b[0m\n\u001b[0;32m    355\u001b[0m             \u001b[0mobj\u001b[0m\u001b[1;33m,\u001b[0m \u001b[0mend\u001b[0m \u001b[1;33m=\u001b[0m \u001b[0mself\u001b[0m\u001b[1;33m.\u001b[0m\u001b[0mscan_once\u001b[0m\u001b[1;33m(\u001b[0m\u001b[0ms\u001b[0m\u001b[1;33m,\u001b[0m \u001b[0midx\u001b[0m\u001b[1;33m)\u001b[0m\u001b[1;33m\u001b[0m\u001b[0m\n\u001b[0;32m    356\u001b[0m         \u001b[1;32mexcept\u001b[0m \u001b[0mStopIteration\u001b[0m \u001b[1;32mas\u001b[0m \u001b[0merr\u001b[0m\u001b[1;33m:\u001b[0m\u001b[1;33m\u001b[0m\u001b[0m\n\u001b[1;32m--> 357\u001b[1;33m             \u001b[1;32mraise\u001b[0m \u001b[0mJSONDecodeError\u001b[0m\u001b[1;33m(\u001b[0m\u001b[1;34m\"Expecting value\"\u001b[0m\u001b[1;33m,\u001b[0m \u001b[0ms\u001b[0m\u001b[1;33m,\u001b[0m \u001b[0merr\u001b[0m\u001b[1;33m.\u001b[0m\u001b[0mvalue\u001b[0m\u001b[1;33m)\u001b[0m \u001b[1;32mfrom\u001b[0m \u001b[1;32mNone\u001b[0m\u001b[1;33m\u001b[0m\u001b[0m\n\u001b[0m\u001b[0;32m    358\u001b[0m         \u001b[1;32mreturn\u001b[0m \u001b[0mobj\u001b[0m\u001b[1;33m,\u001b[0m \u001b[0mend\u001b[0m\u001b[1;33m\u001b[0m\u001b[0m\n",
      "\u001b[1;31mJSONDecodeError\u001b[0m: Expecting value: line 1 column 1 (char 0)"
     ]
    }
   ],
   "source": [
    "resultObj = json.loads(resultStr)"
   ]
  },
  {
   "cell_type": "code",
   "execution_count": 168,
   "metadata": {},
   "outputs": [
    {
     "data": {
      "text/plain": [
       "{'list': [{'_returnType': 'json',\n",
       "   'coGrade': '1',\n",
       "   'coValue': '0.3',\n",
       "   'dataTerm': '',\n",
       "   'dataTime': '2018-07-13 15:00',\n",
       "   'khaiGrade': '1',\n",
       "   'khaiValue': '43',\n",
       "   'mangName': '도시대기',\n",
       "   'no2Grade': '1',\n",
       "   'no2Value': '0.015',\n",
       "   'numOfRows': '10',\n",
       "   'o3Grade': '1',\n",
       "   'o3Value': '0.024',\n",
       "   'pageNo': '1',\n",
       "   'pm10Grade': '1',\n",
       "   'pm10Grade1h': '1',\n",
       "   'pm10Value': '17',\n",
       "   'pm10Value24': '21',\n",
       "   'pm25Grade': '1',\n",
       "   'pm25Grade1h': '1',\n",
       "   'pm25Value': '10',\n",
       "   'pm25Value24': '13',\n",
       "   'resultCode': '',\n",
       "   'resultMsg': '',\n",
       "   'rnum': 0,\n",
       "   'serviceKey': '',\n",
       "   'sidoName': '',\n",
       "   'so2Grade': '1',\n",
       "   'so2Value': '0.003',\n",
       "   'stationCode': '',\n",
       "   'stationName': '중구',\n",
       "   'totalCount': '',\n",
       "   'ver': ''},\n",
       "  {'_returnType': 'json',\n",
       "   'coGrade': '1',\n",
       "   'coValue': '0.5',\n",
       "   'dataTerm': '',\n",
       "   'dataTime': '2018-07-13 15:00',\n",
       "   'khaiGrade': '2',\n",
       "   'khaiValue': '53',\n",
       "   'mangName': '도로변대기',\n",
       "   'no2Grade': '1',\n",
       "   'no2Value': '0.027',\n",
       "   'numOfRows': '10',\n",
       "   'o3Grade': '1',\n",
       "   'o3Value': '0.019',\n",
       "   'pageNo': '1',\n",
       "   'pm10Grade': '2',\n",
       "   'pm10Grade1h': '1',\n",
       "   'pm10Value': '28',\n",
       "   'pm10Value24': '33',\n",
       "   'pm25Grade': '1',\n",
       "   'pm25Grade1h': '1',\n",
       "   'pm25Value': '8',\n",
       "   'pm25Value24': '14',\n",
       "   'resultCode': '',\n",
       "   'resultMsg': '',\n",
       "   'rnum': 0,\n",
       "   'serviceKey': '',\n",
       "   'sidoName': '',\n",
       "   'so2Grade': '1',\n",
       "   'so2Value': '0.005',\n",
       "   'stationCode': '',\n",
       "   'stationName': '한강대로',\n",
       "   'totalCount': '',\n",
       "   'ver': ''},\n",
       "  {'_returnType': 'json',\n",
       "   'coGrade': '1',\n",
       "   'coValue': '0.3',\n",
       "   'dataTerm': '',\n",
       "   'dataTime': '2018-07-13 15:00',\n",
       "   'khaiGrade': '2',\n",
       "   'khaiValue': '51',\n",
       "   'mangName': '도시대기',\n",
       "   'no2Grade': '1',\n",
       "   'no2Value': '0.019',\n",
       "   'numOfRows': '10',\n",
       "   'o3Grade': '1',\n",
       "   'o3Value': '0.020',\n",
       "   'pageNo': '1',\n",
       "   'pm10Grade': '1',\n",
       "   'pm10Grade1h': '1',\n",
       "   'pm10Value': '17',\n",
       "   'pm10Value24': '20',\n",
       "   'pm25Grade': '2',\n",
       "   'pm25Grade1h': '1',\n",
       "   'pm25Value': '14',\n",
       "   'pm25Value24': '16',\n",
       "   'resultCode': '',\n",
       "   'resultMsg': '',\n",
       "   'rnum': 0,\n",
       "   'serviceKey': '',\n",
       "   'sidoName': '',\n",
       "   'so2Grade': '',\n",
       "   'so2Value': '-',\n",
       "   'stationCode': '',\n",
       "   'stationName': '종로구',\n",
       "   'totalCount': '',\n",
       "   'ver': ''},\n",
       "  {'_returnType': 'json',\n",
       "   'coGrade': '1',\n",
       "   'coValue': '0.5',\n",
       "   'dataTerm': '',\n",
       "   'dataTime': '2018-07-13 15:00',\n",
       "   'khaiGrade': '2',\n",
       "   'khaiValue': '59',\n",
       "   'mangName': '도로변대기',\n",
       "   'no2Grade': '1',\n",
       "   'no2Value': '0.028',\n",
       "   'numOfRows': '10',\n",
       "   'o3Grade': '1',\n",
       "   'o3Value': '0.020',\n",
       "   'pageNo': '1',\n",
       "   'pm10Grade': '1',\n",
       "   'pm10Grade1h': '1',\n",
       "   'pm10Value': '20',\n",
       "   'pm10Value24': '25',\n",
       "   'pm25Grade': '2',\n",
       "   'pm25Grade1h': '2',\n",
       "   'pm25Value': '17',\n",
       "   'pm25Value24': '19',\n",
       "   'resultCode': '',\n",
       "   'resultMsg': '',\n",
       "   'rnum': 0,\n",
       "   'serviceKey': '',\n",
       "   'sidoName': '',\n",
       "   'so2Grade': '1',\n",
       "   'so2Value': '0.005',\n",
       "   'stationCode': '',\n",
       "   'stationName': '청계천로',\n",
       "   'totalCount': '',\n",
       "   'ver': ''},\n",
       "  {'_returnType': 'json',\n",
       "   'coGrade': '1',\n",
       "   'coValue': '0.3',\n",
       "   'dataTerm': '',\n",
       "   'dataTime': '2018-07-13 15:00',\n",
       "   'khaiGrade': '1',\n",
       "   'khaiValue': '43',\n",
       "   'mangName': '도로변대기',\n",
       "   'no2Grade': '1',\n",
       "   'no2Value': '0.020',\n",
       "   'numOfRows': '10',\n",
       "   'o3Grade': '1',\n",
       "   'o3Value': '0.019',\n",
       "   'pageNo': '1',\n",
       "   'pm10Grade': '1',\n",
       "   'pm10Grade1h': '1',\n",
       "   'pm10Value': '13',\n",
       "   'pm10Value24': '21',\n",
       "   'pm25Grade': '1',\n",
       "   'pm25Grade1h': '1',\n",
       "   'pm25Value': '11',\n",
       "   'pm25Value24': '13',\n",
       "   'resultCode': '',\n",
       "   'resultMsg': '',\n",
       "   'rnum': 0,\n",
       "   'serviceKey': '',\n",
       "   'sidoName': '',\n",
       "   'so2Grade': '1',\n",
       "   'so2Value': '0.003',\n",
       "   'stationCode': '',\n",
       "   'stationName': '종로',\n",
       "   'totalCount': '',\n",
       "   'ver': ''},\n",
       "  {'_returnType': 'json',\n",
       "   'coGrade': '1',\n",
       "   'coValue': '0.2',\n",
       "   'dataTerm': '',\n",
       "   'dataTime': '2018-07-13 15:00',\n",
       "   'khaiGrade': '1',\n",
       "   'khaiValue': '42',\n",
       "   'mangName': '도시대기',\n",
       "   'no2Grade': '1',\n",
       "   'no2Value': '0.017',\n",
       "   'numOfRows': '10',\n",
       "   'o3Grade': '1',\n",
       "   'o3Value': '0.025',\n",
       "   'pageNo': '1',\n",
       "   'pm10Grade': '1',\n",
       "   'pm10Grade1h': '',\n",
       "   'pm10Value': '-',\n",
       "   'pm10Value24': '18',\n",
       "   'pm25Grade': '1',\n",
       "   'pm25Grade1h': '1',\n",
       "   'pm25Value': '12',\n",
       "   'pm25Value24': '12',\n",
       "   'resultCode': '',\n",
       "   'resultMsg': '',\n",
       "   'rnum': 0,\n",
       "   'serviceKey': '',\n",
       "   'sidoName': '',\n",
       "   'so2Grade': '1',\n",
       "   'so2Value': '0.003',\n",
       "   'stationCode': '',\n",
       "   'stationName': '용산구',\n",
       "   'totalCount': '',\n",
       "   'ver': ''},\n",
       "  {'_returnType': 'json',\n",
       "   'coGrade': '1',\n",
       "   'coValue': '0.5',\n",
       "   'dataTerm': '',\n",
       "   'dataTime': '2018-07-13 15:00',\n",
       "   'khaiGrade': '1',\n",
       "   'khaiValue': '43',\n",
       "   'mangName': '도시대기',\n",
       "   'no2Grade': '1',\n",
       "   'no2Value': '0.010',\n",
       "   'numOfRows': '10',\n",
       "   'o3Grade': '1',\n",
       "   'o3Value': '0.026',\n",
       "   'pageNo': '1',\n",
       "   'pm10Grade': '1',\n",
       "   'pm10Grade1h': '1',\n",
       "   'pm10Value': '16',\n",
       "   'pm10Value24': '20',\n",
       "   'pm25Grade': '1',\n",
       "   'pm25Grade1h': '1',\n",
       "   'pm25Value': '5',\n",
       "   'pm25Value24': '13',\n",
       "   'resultCode': '',\n",
       "   'resultMsg': '',\n",
       "   'rnum': 0,\n",
       "   'serviceKey': '',\n",
       "   'sidoName': '',\n",
       "   'so2Grade': '1',\n",
       "   'so2Value': '0.006',\n",
       "   'stationCode': '',\n",
       "   'stationName': '광진구',\n",
       "   'totalCount': '',\n",
       "   'ver': ''},\n",
       "  {'_returnType': 'json',\n",
       "   'coGrade': '1',\n",
       "   'coValue': '0.3',\n",
       "   'dataTerm': '',\n",
       "   'dataTime': '2018-07-13 15:00',\n",
       "   'khaiGrade': '1',\n",
       "   'khaiValue': '40',\n",
       "   'mangName': '도시대기',\n",
       "   'no2Grade': '1',\n",
       "   'no2Value': '0.011',\n",
       "   'numOfRows': '10',\n",
       "   'o3Grade': '1',\n",
       "   'o3Value': '0.016',\n",
       "   'pageNo': '1',\n",
       "   'pm10Grade': '1',\n",
       "   'pm10Grade1h': '1',\n",
       "   'pm10Value': '19',\n",
       "   'pm10Value24': '20',\n",
       "   'pm25Grade': '1',\n",
       "   'pm25Grade1h': '1',\n",
       "   'pm25Value': '7',\n",
       "   'pm25Value24': '12',\n",
       "   'resultCode': '',\n",
       "   'resultMsg': '',\n",
       "   'rnum': 0,\n",
       "   'serviceKey': '',\n",
       "   'sidoName': '',\n",
       "   'so2Grade': '1',\n",
       "   'so2Value': '0.005',\n",
       "   'stationCode': '',\n",
       "   'stationName': '성동구',\n",
       "   'totalCount': '',\n",
       "   'ver': ''},\n",
       "  {'_returnType': 'json',\n",
       "   'coGrade': '1',\n",
       "   'coValue': '0.4',\n",
       "   'dataTerm': '',\n",
       "   'dataTime': '2018-07-13 15:00',\n",
       "   'khaiGrade': '2',\n",
       "   'khaiValue': '98',\n",
       "   'mangName': '도로변대기',\n",
       "   'no2Grade': '2',\n",
       "   'no2Value': '0.059',\n",
       "   'numOfRows': '10',\n",
       "   'o3Grade': '1',\n",
       "   'o3Value': '0.011',\n",
       "   'pageNo': '1',\n",
       "   'pm10Grade': '1',\n",
       "   'pm10Grade1h': '1',\n",
       "   'pm10Value': '17',\n",
       "   'pm10Value24': '22',\n",
       "   'pm25Grade': '1',\n",
       "   'pm25Grade1h': '1',\n",
       "   'pm25Value': '11',\n",
       "   'pm25Value24': '12',\n",
       "   'resultCode': '',\n",
       "   'resultMsg': '',\n",
       "   'rnum': 0,\n",
       "   'serviceKey': '',\n",
       "   'sidoName': '',\n",
       "   'so2Grade': '1',\n",
       "   'so2Value': '0.003',\n",
       "   'stationCode': '',\n",
       "   'stationName': '강변북로',\n",
       "   'totalCount': '',\n",
       "   'ver': ''},\n",
       "  {'_returnType': 'json',\n",
       "   'coGrade': '1',\n",
       "   'coValue': '0.3',\n",
       "   'dataTerm': '',\n",
       "   'dataTime': '2018-07-13 15:00',\n",
       "   'khaiGrade': '1',\n",
       "   'khaiValue': '37',\n",
       "   'mangName': '도시대기',\n",
       "   'no2Grade': '1',\n",
       "   'no2Value': '0.014',\n",
       "   'numOfRows': '10',\n",
       "   'o3Grade': '1',\n",
       "   'o3Value': '0.021',\n",
       "   'pageNo': '1',\n",
       "   'pm10Grade': '1',\n",
       "   'pm10Grade1h': '1',\n",
       "   'pm10Value': '12',\n",
       "   'pm10Value24': '14',\n",
       "   'pm25Grade': '1',\n",
       "   'pm25Grade1h': '1',\n",
       "   'pm25Value': '9',\n",
       "   'pm25Value24': '11',\n",
       "   'resultCode': '',\n",
       "   'resultMsg': '',\n",
       "   'rnum': 0,\n",
       "   'serviceKey': '',\n",
       "   'sidoName': '',\n",
       "   'so2Grade': '1',\n",
       "   'so2Value': '0.006',\n",
       "   'stationCode': '',\n",
       "   'stationName': '중랑구',\n",
       "   'totalCount': '',\n",
       "   'ver': ''}],\n",
       " 'parm': {'_returnType': 'json',\n",
       "  'coGrade': '',\n",
       "  'coValue': '',\n",
       "  'dataTerm': 'DAILY',\n",
       "  'dataTime': '',\n",
       "  'khaiGrade': '',\n",
       "  'khaiValue': '',\n",
       "  'mangName': '',\n",
       "  'no2Grade': '',\n",
       "  'no2Value': '',\n",
       "  'numOfRows': '10',\n",
       "  'o3Grade': '',\n",
       "  'o3Value': '',\n",
       "  'pageNo': '1',\n",
       "  'pm10Grade': '',\n",
       "  'pm10Grade1h': '',\n",
       "  'pm10Value': '',\n",
       "  'pm10Value24': '',\n",
       "  'pm25Grade': '',\n",
       "  'pm25Grade1h': '',\n",
       "  'pm25Value': '',\n",
       "  'pm25Value24': '',\n",
       "  'resultCode': '',\n",
       "  'resultMsg': '',\n",
       "  'rnum': 0,\n",
       "  'serviceKey': 'sjc4mmX/YsEie54QsVIEZVrWfkgaO44OWimEARmGFWWCr0a8+tyL8fJnF2PcTc5FWEV5ayrD1lG+4UA7r8SbzQ==',\n",
       "  'sidoName': '서울',\n",
       "  'so2Grade': '',\n",
       "  'so2Value': '',\n",
       "  'stationCode': '',\n",
       "  'stationName': '',\n",
       "  'totalCount': '',\n",
       "  'ver': ''},\n",
       " 'ArpltnInforInqireSvcVo': {'_returnType': 'json',\n",
       "  'coGrade': '',\n",
       "  'coValue': '',\n",
       "  'dataTerm': 'DAILY',\n",
       "  'dataTime': '',\n",
       "  'khaiGrade': '',\n",
       "  'khaiValue': '',\n",
       "  'mangName': '',\n",
       "  'no2Grade': '',\n",
       "  'no2Value': '',\n",
       "  'numOfRows': '10',\n",
       "  'o3Grade': '',\n",
       "  'o3Value': '',\n",
       "  'pageNo': '1',\n",
       "  'pm10Grade': '',\n",
       "  'pm10Grade1h': '',\n",
       "  'pm10Value': '',\n",
       "  'pm10Value24': '',\n",
       "  'pm25Grade': '',\n",
       "  'pm25Grade1h': '',\n",
       "  'pm25Value': '',\n",
       "  'pm25Value24': '',\n",
       "  'resultCode': '',\n",
       "  'resultMsg': '',\n",
       "  'rnum': 0,\n",
       "  'serviceKey': 'sjc4mmX/YsEie54QsVIEZVrWfkgaO44OWimEARmGFWWCr0a8+tyL8fJnF2PcTc5FWEV5ayrD1lG+4UA7r8SbzQ==',\n",
       "  'sidoName': '서울',\n",
       "  'so2Grade': '',\n",
       "  'so2Value': '',\n",
       "  'stationCode': '',\n",
       "  'stationName': '',\n",
       "  'totalCount': '',\n",
       "  'ver': ''},\n",
       " 'totalCount': 39}"
      ]
     },
     "execution_count": 168,
     "metadata": {},
     "output_type": "execute_result"
    }
   ],
   "source": [
    "resultObj"
   ]
  },
  {
   "cell_type": "code",
   "execution_count": 169,
   "metadata": {},
   "outputs": [
    {
     "data": {
      "text/plain": [
       "[{'_returnType': 'json',\n",
       "  'coGrade': '1',\n",
       "  'coValue': '0.3',\n",
       "  'dataTerm': '',\n",
       "  'dataTime': '2018-07-13 15:00',\n",
       "  'khaiGrade': '1',\n",
       "  'khaiValue': '43',\n",
       "  'mangName': '도시대기',\n",
       "  'no2Grade': '1',\n",
       "  'no2Value': '0.015',\n",
       "  'numOfRows': '10',\n",
       "  'o3Grade': '1',\n",
       "  'o3Value': '0.024',\n",
       "  'pageNo': '1',\n",
       "  'pm10Grade': '1',\n",
       "  'pm10Grade1h': '1',\n",
       "  'pm10Value': '17',\n",
       "  'pm10Value24': '21',\n",
       "  'pm25Grade': '1',\n",
       "  'pm25Grade1h': '1',\n",
       "  'pm25Value': '10',\n",
       "  'pm25Value24': '13',\n",
       "  'resultCode': '',\n",
       "  'resultMsg': '',\n",
       "  'rnum': 0,\n",
       "  'serviceKey': '',\n",
       "  'sidoName': '',\n",
       "  'so2Grade': '1',\n",
       "  'so2Value': '0.003',\n",
       "  'stationCode': '',\n",
       "  'stationName': '중구',\n",
       "  'totalCount': '',\n",
       "  'ver': ''},\n",
       " {'_returnType': 'json',\n",
       "  'coGrade': '1',\n",
       "  'coValue': '0.5',\n",
       "  'dataTerm': '',\n",
       "  'dataTime': '2018-07-13 15:00',\n",
       "  'khaiGrade': '2',\n",
       "  'khaiValue': '53',\n",
       "  'mangName': '도로변대기',\n",
       "  'no2Grade': '1',\n",
       "  'no2Value': '0.027',\n",
       "  'numOfRows': '10',\n",
       "  'o3Grade': '1',\n",
       "  'o3Value': '0.019',\n",
       "  'pageNo': '1',\n",
       "  'pm10Grade': '2',\n",
       "  'pm10Grade1h': '1',\n",
       "  'pm10Value': '28',\n",
       "  'pm10Value24': '33',\n",
       "  'pm25Grade': '1',\n",
       "  'pm25Grade1h': '1',\n",
       "  'pm25Value': '8',\n",
       "  'pm25Value24': '14',\n",
       "  'resultCode': '',\n",
       "  'resultMsg': '',\n",
       "  'rnum': 0,\n",
       "  'serviceKey': '',\n",
       "  'sidoName': '',\n",
       "  'so2Grade': '1',\n",
       "  'so2Value': '0.005',\n",
       "  'stationCode': '',\n",
       "  'stationName': '한강대로',\n",
       "  'totalCount': '',\n",
       "  'ver': ''},\n",
       " {'_returnType': 'json',\n",
       "  'coGrade': '1',\n",
       "  'coValue': '0.3',\n",
       "  'dataTerm': '',\n",
       "  'dataTime': '2018-07-13 15:00',\n",
       "  'khaiGrade': '2',\n",
       "  'khaiValue': '51',\n",
       "  'mangName': '도시대기',\n",
       "  'no2Grade': '1',\n",
       "  'no2Value': '0.019',\n",
       "  'numOfRows': '10',\n",
       "  'o3Grade': '1',\n",
       "  'o3Value': '0.020',\n",
       "  'pageNo': '1',\n",
       "  'pm10Grade': '1',\n",
       "  'pm10Grade1h': '1',\n",
       "  'pm10Value': '17',\n",
       "  'pm10Value24': '20',\n",
       "  'pm25Grade': '2',\n",
       "  'pm25Grade1h': '1',\n",
       "  'pm25Value': '14',\n",
       "  'pm25Value24': '16',\n",
       "  'resultCode': '',\n",
       "  'resultMsg': '',\n",
       "  'rnum': 0,\n",
       "  'serviceKey': '',\n",
       "  'sidoName': '',\n",
       "  'so2Grade': '',\n",
       "  'so2Value': '-',\n",
       "  'stationCode': '',\n",
       "  'stationName': '종로구',\n",
       "  'totalCount': '',\n",
       "  'ver': ''},\n",
       " {'_returnType': 'json',\n",
       "  'coGrade': '1',\n",
       "  'coValue': '0.5',\n",
       "  'dataTerm': '',\n",
       "  'dataTime': '2018-07-13 15:00',\n",
       "  'khaiGrade': '2',\n",
       "  'khaiValue': '59',\n",
       "  'mangName': '도로변대기',\n",
       "  'no2Grade': '1',\n",
       "  'no2Value': '0.028',\n",
       "  'numOfRows': '10',\n",
       "  'o3Grade': '1',\n",
       "  'o3Value': '0.020',\n",
       "  'pageNo': '1',\n",
       "  'pm10Grade': '1',\n",
       "  'pm10Grade1h': '1',\n",
       "  'pm10Value': '20',\n",
       "  'pm10Value24': '25',\n",
       "  'pm25Grade': '2',\n",
       "  'pm25Grade1h': '2',\n",
       "  'pm25Value': '17',\n",
       "  'pm25Value24': '19',\n",
       "  'resultCode': '',\n",
       "  'resultMsg': '',\n",
       "  'rnum': 0,\n",
       "  'serviceKey': '',\n",
       "  'sidoName': '',\n",
       "  'so2Grade': '1',\n",
       "  'so2Value': '0.005',\n",
       "  'stationCode': '',\n",
       "  'stationName': '청계천로',\n",
       "  'totalCount': '',\n",
       "  'ver': ''},\n",
       " {'_returnType': 'json',\n",
       "  'coGrade': '1',\n",
       "  'coValue': '0.3',\n",
       "  'dataTerm': '',\n",
       "  'dataTime': '2018-07-13 15:00',\n",
       "  'khaiGrade': '1',\n",
       "  'khaiValue': '43',\n",
       "  'mangName': '도로변대기',\n",
       "  'no2Grade': '1',\n",
       "  'no2Value': '0.020',\n",
       "  'numOfRows': '10',\n",
       "  'o3Grade': '1',\n",
       "  'o3Value': '0.019',\n",
       "  'pageNo': '1',\n",
       "  'pm10Grade': '1',\n",
       "  'pm10Grade1h': '1',\n",
       "  'pm10Value': '13',\n",
       "  'pm10Value24': '21',\n",
       "  'pm25Grade': '1',\n",
       "  'pm25Grade1h': '1',\n",
       "  'pm25Value': '11',\n",
       "  'pm25Value24': '13',\n",
       "  'resultCode': '',\n",
       "  'resultMsg': '',\n",
       "  'rnum': 0,\n",
       "  'serviceKey': '',\n",
       "  'sidoName': '',\n",
       "  'so2Grade': '1',\n",
       "  'so2Value': '0.003',\n",
       "  'stationCode': '',\n",
       "  'stationName': '종로',\n",
       "  'totalCount': '',\n",
       "  'ver': ''},\n",
       " {'_returnType': 'json',\n",
       "  'coGrade': '1',\n",
       "  'coValue': '0.2',\n",
       "  'dataTerm': '',\n",
       "  'dataTime': '2018-07-13 15:00',\n",
       "  'khaiGrade': '1',\n",
       "  'khaiValue': '42',\n",
       "  'mangName': '도시대기',\n",
       "  'no2Grade': '1',\n",
       "  'no2Value': '0.017',\n",
       "  'numOfRows': '10',\n",
       "  'o3Grade': '1',\n",
       "  'o3Value': '0.025',\n",
       "  'pageNo': '1',\n",
       "  'pm10Grade': '1',\n",
       "  'pm10Grade1h': '',\n",
       "  'pm10Value': '-',\n",
       "  'pm10Value24': '18',\n",
       "  'pm25Grade': '1',\n",
       "  'pm25Grade1h': '1',\n",
       "  'pm25Value': '12',\n",
       "  'pm25Value24': '12',\n",
       "  'resultCode': '',\n",
       "  'resultMsg': '',\n",
       "  'rnum': 0,\n",
       "  'serviceKey': '',\n",
       "  'sidoName': '',\n",
       "  'so2Grade': '1',\n",
       "  'so2Value': '0.003',\n",
       "  'stationCode': '',\n",
       "  'stationName': '용산구',\n",
       "  'totalCount': '',\n",
       "  'ver': ''},\n",
       " {'_returnType': 'json',\n",
       "  'coGrade': '1',\n",
       "  'coValue': '0.5',\n",
       "  'dataTerm': '',\n",
       "  'dataTime': '2018-07-13 15:00',\n",
       "  'khaiGrade': '1',\n",
       "  'khaiValue': '43',\n",
       "  'mangName': '도시대기',\n",
       "  'no2Grade': '1',\n",
       "  'no2Value': '0.010',\n",
       "  'numOfRows': '10',\n",
       "  'o3Grade': '1',\n",
       "  'o3Value': '0.026',\n",
       "  'pageNo': '1',\n",
       "  'pm10Grade': '1',\n",
       "  'pm10Grade1h': '1',\n",
       "  'pm10Value': '16',\n",
       "  'pm10Value24': '20',\n",
       "  'pm25Grade': '1',\n",
       "  'pm25Grade1h': '1',\n",
       "  'pm25Value': '5',\n",
       "  'pm25Value24': '13',\n",
       "  'resultCode': '',\n",
       "  'resultMsg': '',\n",
       "  'rnum': 0,\n",
       "  'serviceKey': '',\n",
       "  'sidoName': '',\n",
       "  'so2Grade': '1',\n",
       "  'so2Value': '0.006',\n",
       "  'stationCode': '',\n",
       "  'stationName': '광진구',\n",
       "  'totalCount': '',\n",
       "  'ver': ''},\n",
       " {'_returnType': 'json',\n",
       "  'coGrade': '1',\n",
       "  'coValue': '0.3',\n",
       "  'dataTerm': '',\n",
       "  'dataTime': '2018-07-13 15:00',\n",
       "  'khaiGrade': '1',\n",
       "  'khaiValue': '40',\n",
       "  'mangName': '도시대기',\n",
       "  'no2Grade': '1',\n",
       "  'no2Value': '0.011',\n",
       "  'numOfRows': '10',\n",
       "  'o3Grade': '1',\n",
       "  'o3Value': '0.016',\n",
       "  'pageNo': '1',\n",
       "  'pm10Grade': '1',\n",
       "  'pm10Grade1h': '1',\n",
       "  'pm10Value': '19',\n",
       "  'pm10Value24': '20',\n",
       "  'pm25Grade': '1',\n",
       "  'pm25Grade1h': '1',\n",
       "  'pm25Value': '7',\n",
       "  'pm25Value24': '12',\n",
       "  'resultCode': '',\n",
       "  'resultMsg': '',\n",
       "  'rnum': 0,\n",
       "  'serviceKey': '',\n",
       "  'sidoName': '',\n",
       "  'so2Grade': '1',\n",
       "  'so2Value': '0.005',\n",
       "  'stationCode': '',\n",
       "  'stationName': '성동구',\n",
       "  'totalCount': '',\n",
       "  'ver': ''},\n",
       " {'_returnType': 'json',\n",
       "  'coGrade': '1',\n",
       "  'coValue': '0.4',\n",
       "  'dataTerm': '',\n",
       "  'dataTime': '2018-07-13 15:00',\n",
       "  'khaiGrade': '2',\n",
       "  'khaiValue': '98',\n",
       "  'mangName': '도로변대기',\n",
       "  'no2Grade': '2',\n",
       "  'no2Value': '0.059',\n",
       "  'numOfRows': '10',\n",
       "  'o3Grade': '1',\n",
       "  'o3Value': '0.011',\n",
       "  'pageNo': '1',\n",
       "  'pm10Grade': '1',\n",
       "  'pm10Grade1h': '1',\n",
       "  'pm10Value': '17',\n",
       "  'pm10Value24': '22',\n",
       "  'pm25Grade': '1',\n",
       "  'pm25Grade1h': '1',\n",
       "  'pm25Value': '11',\n",
       "  'pm25Value24': '12',\n",
       "  'resultCode': '',\n",
       "  'resultMsg': '',\n",
       "  'rnum': 0,\n",
       "  'serviceKey': '',\n",
       "  'sidoName': '',\n",
       "  'so2Grade': '1',\n",
       "  'so2Value': '0.003',\n",
       "  'stationCode': '',\n",
       "  'stationName': '강변북로',\n",
       "  'totalCount': '',\n",
       "  'ver': ''},\n",
       " {'_returnType': 'json',\n",
       "  'coGrade': '1',\n",
       "  'coValue': '0.3',\n",
       "  'dataTerm': '',\n",
       "  'dataTime': '2018-07-13 15:00',\n",
       "  'khaiGrade': '1',\n",
       "  'khaiValue': '37',\n",
       "  'mangName': '도시대기',\n",
       "  'no2Grade': '1',\n",
       "  'no2Value': '0.014',\n",
       "  'numOfRows': '10',\n",
       "  'o3Grade': '1',\n",
       "  'o3Value': '0.021',\n",
       "  'pageNo': '1',\n",
       "  'pm10Grade': '1',\n",
       "  'pm10Grade1h': '1',\n",
       "  'pm10Value': '12',\n",
       "  'pm10Value24': '14',\n",
       "  'pm25Grade': '1',\n",
       "  'pm25Grade1h': '1',\n",
       "  'pm25Value': '9',\n",
       "  'pm25Value24': '11',\n",
       "  'resultCode': '',\n",
       "  'resultMsg': '',\n",
       "  'rnum': 0,\n",
       "  'serviceKey': '',\n",
       "  'sidoName': '',\n",
       "  'so2Grade': '1',\n",
       "  'so2Value': '0.006',\n",
       "  'stationCode': '',\n",
       "  'stationName': '중랑구',\n",
       "  'totalCount': '',\n",
       "  'ver': ''}]"
      ]
     },
     "execution_count": 169,
     "metadata": {},
     "output_type": "execute_result"
    }
   ],
   "source": [
    "resultObj['list']"
   ]
  },
  {
   "cell_type": "code",
   "execution_count": null,
   "metadata": {},
   "outputs": [],
   "source": []
  },
  {
   "cell_type": "code",
   "execution_count": 170,
   "metadata": {},
   "outputs": [
    {
     "data": {
      "text/plain": [
       "b'<?xml version=\"1.0\" encoding=\"UTF-8\"?>\\r\\n\\r\\n\\r\\n\\r\\n\\r\\n<response>\\r\\n\\t<header>\\r\\n\\t\\t<resultCode>30</resultCode>\\r\\n\\t\\t<resultMsg>SERVICE KEY IS NOT REGISTERED ERROR.</resultMsg>\\r\\n\\t</header>\\r\\n</response>\\r\\n'"
      ]
     },
     "execution_count": 170,
     "metadata": {},
     "output_type": "execute_result"
    }
   ],
   "source": [
    "result"
   ]
  },
  {
   "cell_type": "code",
   "execution_count": 171,
   "metadata": {},
   "outputs": [
    {
     "name": "stdout",
     "output_type": "stream",
     "text": [
      "b'<?xml version=\"1.0\" encoding=\"UTF-8\"?>\\r\\n\\r\\n\\r\\n\\r\\n\\r\\n<response>\\r\\n\\t<header>\\r\\n\\t\\t<resultCode>30</resultCode>\\r\\n\\t\\t<resultMsg>SERVICE KEY IS NOT REGISTERED ERROR.</resultMsg>\\r\\n\\t</header>\\r\\n</response>\\r\\n'\n"
     ]
    }
   ],
   "source": [
    "print(result)"
   ]
  },
  {
   "cell_type": "code",
   "execution_count": 172,
   "metadata": {},
   "outputs": [
    {
     "name": "stdout",
     "output_type": "stream",
     "text": [
      "list [{'_returnType': 'json', 'coGrade': '1', 'coValue': '0.3', 'dataTerm': '', 'dataTime': '2018-07-13 15:00', 'khaiGrade': '1', 'khaiValue': '43', 'mangName': '도시대기', 'no2Grade': '1', 'no2Value': '0.015', 'numOfRows': '10', 'o3Grade': '1', 'o3Value': '0.024', 'pageNo': '1', 'pm10Grade': '1', 'pm10Grade1h': '1', 'pm10Value': '17', 'pm10Value24': '21', 'pm25Grade': '1', 'pm25Grade1h': '1', 'pm25Value': '10', 'pm25Value24': '13', 'resultCode': '', 'resultMsg': '', 'rnum': 0, 'serviceKey': '', 'sidoName': '', 'so2Grade': '1', 'so2Value': '0.003', 'stationCode': '', 'stationName': '중구', 'totalCount': '', 'ver': ''}, {'_returnType': 'json', 'coGrade': '1', 'coValue': '0.5', 'dataTerm': '', 'dataTime': '2018-07-13 15:00', 'khaiGrade': '2', 'khaiValue': '53', 'mangName': '도로변대기', 'no2Grade': '1', 'no2Value': '0.027', 'numOfRows': '10', 'o3Grade': '1', 'o3Value': '0.019', 'pageNo': '1', 'pm10Grade': '2', 'pm10Grade1h': '1', 'pm10Value': '28', 'pm10Value24': '33', 'pm25Grade': '1', 'pm25Grade1h': '1', 'pm25Value': '8', 'pm25Value24': '14', 'resultCode': '', 'resultMsg': '', 'rnum': 0, 'serviceKey': '', 'sidoName': '', 'so2Grade': '1', 'so2Value': '0.005', 'stationCode': '', 'stationName': '한강대로', 'totalCount': '', 'ver': ''}, {'_returnType': 'json', 'coGrade': '1', 'coValue': '0.3', 'dataTerm': '', 'dataTime': '2018-07-13 15:00', 'khaiGrade': '2', 'khaiValue': '51', 'mangName': '도시대기', 'no2Grade': '1', 'no2Value': '0.019', 'numOfRows': '10', 'o3Grade': '1', 'o3Value': '0.020', 'pageNo': '1', 'pm10Grade': '1', 'pm10Grade1h': '1', 'pm10Value': '17', 'pm10Value24': '20', 'pm25Grade': '2', 'pm25Grade1h': '1', 'pm25Value': '14', 'pm25Value24': '16', 'resultCode': '', 'resultMsg': '', 'rnum': 0, 'serviceKey': '', 'sidoName': '', 'so2Grade': '', 'so2Value': '-', 'stationCode': '', 'stationName': '종로구', 'totalCount': '', 'ver': ''}, {'_returnType': 'json', 'coGrade': '1', 'coValue': '0.5', 'dataTerm': '', 'dataTime': '2018-07-13 15:00', 'khaiGrade': '2', 'khaiValue': '59', 'mangName': '도로변대기', 'no2Grade': '1', 'no2Value': '0.028', 'numOfRows': '10', 'o3Grade': '1', 'o3Value': '0.020', 'pageNo': '1', 'pm10Grade': '1', 'pm10Grade1h': '1', 'pm10Value': '20', 'pm10Value24': '25', 'pm25Grade': '2', 'pm25Grade1h': '2', 'pm25Value': '17', 'pm25Value24': '19', 'resultCode': '', 'resultMsg': '', 'rnum': 0, 'serviceKey': '', 'sidoName': '', 'so2Grade': '1', 'so2Value': '0.005', 'stationCode': '', 'stationName': '청계천로', 'totalCount': '', 'ver': ''}, {'_returnType': 'json', 'coGrade': '1', 'coValue': '0.3', 'dataTerm': '', 'dataTime': '2018-07-13 15:00', 'khaiGrade': '1', 'khaiValue': '43', 'mangName': '도로변대기', 'no2Grade': '1', 'no2Value': '0.020', 'numOfRows': '10', 'o3Grade': '1', 'o3Value': '0.019', 'pageNo': '1', 'pm10Grade': '1', 'pm10Grade1h': '1', 'pm10Value': '13', 'pm10Value24': '21', 'pm25Grade': '1', 'pm25Grade1h': '1', 'pm25Value': '11', 'pm25Value24': '13', 'resultCode': '', 'resultMsg': '', 'rnum': 0, 'serviceKey': '', 'sidoName': '', 'so2Grade': '1', 'so2Value': '0.003', 'stationCode': '', 'stationName': '종로', 'totalCount': '', 'ver': ''}, {'_returnType': 'json', 'coGrade': '1', 'coValue': '0.2', 'dataTerm': '', 'dataTime': '2018-07-13 15:00', 'khaiGrade': '1', 'khaiValue': '42', 'mangName': '도시대기', 'no2Grade': '1', 'no2Value': '0.017', 'numOfRows': '10', 'o3Grade': '1', 'o3Value': '0.025', 'pageNo': '1', 'pm10Grade': '1', 'pm10Grade1h': '', 'pm10Value': '-', 'pm10Value24': '18', 'pm25Grade': '1', 'pm25Grade1h': '1', 'pm25Value': '12', 'pm25Value24': '12', 'resultCode': '', 'resultMsg': '', 'rnum': 0, 'serviceKey': '', 'sidoName': '', 'so2Grade': '1', 'so2Value': '0.003', 'stationCode': '', 'stationName': '용산구', 'totalCount': '', 'ver': ''}, {'_returnType': 'json', 'coGrade': '1', 'coValue': '0.5', 'dataTerm': '', 'dataTime': '2018-07-13 15:00', 'khaiGrade': '1', 'khaiValue': '43', 'mangName': '도시대기', 'no2Grade': '1', 'no2Value': '0.010', 'numOfRows': '10', 'o3Grade': '1', 'o3Value': '0.026', 'pageNo': '1', 'pm10Grade': '1', 'pm10Grade1h': '1', 'pm10Value': '16', 'pm10Value24': '20', 'pm25Grade': '1', 'pm25Grade1h': '1', 'pm25Value': '5', 'pm25Value24': '13', 'resultCode': '', 'resultMsg': '', 'rnum': 0, 'serviceKey': '', 'sidoName': '', 'so2Grade': '1', 'so2Value': '0.006', 'stationCode': '', 'stationName': '광진구', 'totalCount': '', 'ver': ''}, {'_returnType': 'json', 'coGrade': '1', 'coValue': '0.3', 'dataTerm': '', 'dataTime': '2018-07-13 15:00', 'khaiGrade': '1', 'khaiValue': '40', 'mangName': '도시대기', 'no2Grade': '1', 'no2Value': '0.011', 'numOfRows': '10', 'o3Grade': '1', 'o3Value': '0.016', 'pageNo': '1', 'pm10Grade': '1', 'pm10Grade1h': '1', 'pm10Value': '19', 'pm10Value24': '20', 'pm25Grade': '1', 'pm25Grade1h': '1', 'pm25Value': '7', 'pm25Value24': '12', 'resultCode': '', 'resultMsg': '', 'rnum': 0, 'serviceKey': '', 'sidoName': '', 'so2Grade': '1', 'so2Value': '0.005', 'stationCode': '', 'stationName': '성동구', 'totalCount': '', 'ver': ''}, {'_returnType': 'json', 'coGrade': '1', 'coValue': '0.4', 'dataTerm': '', 'dataTime': '2018-07-13 15:00', 'khaiGrade': '2', 'khaiValue': '98', 'mangName': '도로변대기', 'no2Grade': '2', 'no2Value': '0.059', 'numOfRows': '10', 'o3Grade': '1', 'o3Value': '0.011', 'pageNo': '1', 'pm10Grade': '1', 'pm10Grade1h': '1', 'pm10Value': '17', 'pm10Value24': '22', 'pm25Grade': '1', 'pm25Grade1h': '1', 'pm25Value': '11', 'pm25Value24': '12', 'resultCode': '', 'resultMsg': '', 'rnum': 0, 'serviceKey': '', 'sidoName': '', 'so2Grade': '1', 'so2Value': '0.003', 'stationCode': '', 'stationName': '강변북로', 'totalCount': '', 'ver': ''}, {'_returnType': 'json', 'coGrade': '1', 'coValue': '0.3', 'dataTerm': '', 'dataTime': '2018-07-13 15:00', 'khaiGrade': '1', 'khaiValue': '37', 'mangName': '도시대기', 'no2Grade': '1', 'no2Value': '0.014', 'numOfRows': '10', 'o3Grade': '1', 'o3Value': '0.021', 'pageNo': '1', 'pm10Grade': '1', 'pm10Grade1h': '1', 'pm10Value': '12', 'pm10Value24': '14', 'pm25Grade': '1', 'pm25Grade1h': '1', 'pm25Value': '9', 'pm25Value24': '11', 'resultCode': '', 'resultMsg': '', 'rnum': 0, 'serviceKey': '', 'sidoName': '', 'so2Grade': '1', 'so2Value': '0.006', 'stationCode': '', 'stationName': '중랑구', 'totalCount': '', 'ver': ''}]\n",
      "parm {'_returnType': 'json', 'coGrade': '', 'coValue': '', 'dataTerm': 'DAILY', 'dataTime': '', 'khaiGrade': '', 'khaiValue': '', 'mangName': '', 'no2Grade': '', 'no2Value': '', 'numOfRows': '10', 'o3Grade': '', 'o3Value': '', 'pageNo': '1', 'pm10Grade': '', 'pm10Grade1h': '', 'pm10Value': '', 'pm10Value24': '', 'pm25Grade': '', 'pm25Grade1h': '', 'pm25Value': '', 'pm25Value24': '', 'resultCode': '', 'resultMsg': '', 'rnum': 0, 'serviceKey': 'sjc4mmX/YsEie54QsVIEZVrWfkgaO44OWimEARmGFWWCr0a8+tyL8fJnF2PcTc5FWEV5ayrD1lG+4UA7r8SbzQ==', 'sidoName': '서울', 'so2Grade': '', 'so2Value': '', 'stationCode': '', 'stationName': '', 'totalCount': '', 'ver': ''}\n",
      "ArpltnInforInqireSvcVo {'_returnType': 'json', 'coGrade': '', 'coValue': '', 'dataTerm': 'DAILY', 'dataTime': '', 'khaiGrade': '', 'khaiValue': '', 'mangName': '', 'no2Grade': '', 'no2Value': '', 'numOfRows': '10', 'o3Grade': '', 'o3Value': '', 'pageNo': '1', 'pm10Grade': '', 'pm10Grade1h': '', 'pm10Value': '', 'pm10Value24': '', 'pm25Grade': '', 'pm25Grade1h': '', 'pm25Value': '', 'pm25Value24': '', 'resultCode': '', 'resultMsg': '', 'rnum': 0, 'serviceKey': 'sjc4mmX/YsEie54QsVIEZVrWfkgaO44OWimEARmGFWWCr0a8+tyL8fJnF2PcTc5FWEV5ayrD1lG+4UA7r8SbzQ==', 'sidoName': '서울', 'so2Grade': '', 'so2Value': '', 'stationCode': '', 'stationName': '', 'totalCount': '', 'ver': ''}\n",
      "totalCount 39\n"
     ]
    }
   ],
   "source": [
    "for (k,v) in resultObj.items():\n",
    "    print(k,v)"
   ]
  },
  {
   "cell_type": "code",
   "execution_count": 173,
   "metadata": {},
   "outputs": [],
   "source": [
    "params_2 = {\n",
    "    'serviceKey' : 'sjc4mmX%2FYsEie54QsVIEZVrWfkgaO44OWimEARmGFWWCr0a8%2BtyL8fJnF2PcTc5FWEV5ayrD1lG%2B4UA7r8SbzQ%3D%3D',\n",
    "    'numOfRows' : 10,\n",
    "    'pageSize' : 10,\n",
    "    'startPage' : 1,\n",
    "    'sidoName' : None,\n",
    "    'dataTerm' : 'DAILY',\n",
    "    'var' : '1.3',\n",
    "    '_returnType' : 'json',\n",
    "    \n",
    "}"
   ]
  },
  {
   "cell_type": "code",
   "execution_count": 174,
   "metadata": {},
   "outputs": [],
   "source": [
    "url = 'http://openapi.airkorea.or.kr/openapi/services/rest/ArpltnInforInqireSvc/getCtprvnMesureSidoLIst'"
   ]
  },
  {
   "cell_type": "code",
   "execution_count": 176,
   "metadata": {},
   "outputs": [],
   "source": [
    "params = {\n",
    "    'serviceKey' : 'sjc4mmX%2FYsEie54QsVIEZVrWfkgaO44OWimEARmGFWWCr0a8%2BtyL8fJnF2PcTc5FWEV5ayrD1lG%2B4UA7r8SbzQ%3D%3D',\n",
    "    'numOfRows' : 10,\n",
    "    'pageSize' : 10,\n",
    "    'startPage' : 1,\n",
    "    'sidoName' : None,\n",
    "    'dataTerm' : 'DAILY',\n",
    "    'var' : '1.3',\n",
    "    '_returnType' : 'json',\n",
    "    \n",
    "}"
   ]
  },
  {
   "cell_type": "code",
   "execution_count": 153,
   "metadata": {},
   "outputs": [],
   "source": [
    "params['sidoName'] = '성북구'"
   ]
  },
  {
   "cell_type": "code",
   "execution_count": null,
   "metadata": {},
   "outputs": [],
   "source": []
  }
 ],
 "metadata": {
  "kernelspec": {
   "display_name": "Python 3",
   "language": "python",
   "name": "python3"
  },
  "language_info": {
   "codemirror_mode": {
    "name": "ipython",
    "version": 3
   },
   "file_extension": ".py",
   "mimetype": "text/x-python",
   "name": "python",
   "nbconvert_exporter": "python",
   "pygments_lexer": "ipython3",
   "version": "3.6.5"
  }
 },
 "nbformat": 4,
 "nbformat_minor": 2
}
